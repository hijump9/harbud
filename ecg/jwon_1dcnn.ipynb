{
 "cells": [
  {
   "attachments": {},
   "cell_type": "markdown",
   "metadata": {},
   "source": [
    "# 0 라이브러리 임포트 "
   ]
  },
  {
   "cell_type": "code",
   "execution_count": 1,
   "metadata": {},
   "outputs": [],
   "source": [
    "# 필요한 라이브러리를 임포트합니다.\n",
    "import pandas as pd  # 데이터 조작 및 분석을 위한 라이브러리\n",
    "import numpy as np  # 수치 계산을 위한 라이브러리\n",
    "import wfdb  # 심전도 데이터를 읽기 위한 라이브러리\n",
    "import ast  # 문자열 형태의 파이썬 표현식을 파싱하기 위한 라이브러리\n",
    "from tqdm import tqdm  # 반복 작업의 진행 상황을 시각적으로 표시하기 위한 라이브러리\n",
    "import warnings; warnings.filterwarnings('ignore')  # 경고 메시지를 무시하기 위한 설정\n",
    "from IPython.display import display  # Jupyter 노트북에서 데이터를 깔끔하게 보여주기 위한 함수\n",
    "from glob import glob # 하위 디렉토리에 파일을 가져와서 다루기위한 라이브러리 \n",
    "import os # 현재 워킹디렉토리의 경로와 파일을 다루기 위한 라이브러리 \n",
    "import h5py #.h5파일을 다루기 위한 라이브러리 \n",
    "import gc #가비치 컬렉터를 다루는 라이브러리\n",
    "import random\n",
    "\n",
    "\n",
    "# 데이터 시각화를 위한 라이브러리를 임포트합니다.\n",
    "import matplotlib.pyplot as plt  # 그래프를 그리기 위한 라이브러리\n",
    "import seaborn as sns  # matplotlib 기반의 고급 시각화 라이브러리\n",
    "\n",
    "#머신러닝을 위한 scikit-learn 임포트 \n",
    "from sklearn.ensemble import RandomForestClassifier\n",
    "from sklearn.model_selection import train_test_split, GridSearchCV, StratifiedKFold\n",
    "from sklearn.metrics import classification_report \n",
    "\n",
    "# 파이토치를 위한 라이브러리 임포트 \n",
    "import torch\n",
    "from torch.utils.data import DataLoader, TensorDataset\n",
    "import torch.nn as nn\n",
    "import torch.nn.functional as F\n",
    "from torch.utils.data import TensorDataset # 텐서데이터셋\n",
    "import torch.optim as optim\n",
    "\n",
    "# 평가 지표 \n",
    "from sklearn.metrics import roc_auc_score\n",
    "from sklearn.metrics import accuracy_score, precision_score, recall_score, f1_score, confusion_matrix\n",
    "from sklearn.metrics import roc_curve, auc\n"
   ]
  },
  {
   "cell_type": "code",
   "execution_count": 2,
   "metadata": {},
   "outputs": [],
   "source": [
    "## 모델 시드 고정 \n",
    "seed = 42\n",
    "torch.manual_seed(seed)\n",
    "np.random.seed(seed)\n",
    "random.seed(seed)\n",
    "if torch.cuda.is_available():\n",
    "    torch.cuda.manual_seed(seed)\n",
    "    torch.cuda.manual_seed_all(seed)  # 멀티 GPU를 사용하는 경우\n",
    "    torch.backends.cudnn.deterministic = True\n",
    "    torch.backends.cudnn.benchmark = False"
   ]
  },
  {
   "attachments": {},
   "cell_type": "markdown",
   "metadata": {},
   "source": [
    "# 1. 데이터 전처리 \n",
    "- 1-1 데이터 불러오기 "
   ]
  },
  {
   "attachments": {},
   "cell_type": "markdown",
   "metadata": {},
   "source": [
    "## 1-1 데이터 불러오기 및 전처리"
   ]
  },
  {
   "cell_type": "code",
   "execution_count": null,
   "metadata": {},
   "outputs": [],
   "source": [
    "##ptb 데이터 프레임 로드 \n",
    "'''\n",
    "# 데이터 프레임 로드\n",
    "path = './ptb_xl_data/'\n",
    "df_ptb = pd.read_csv(path + 'ptbxl_database.csv', index_col='ecg_id')\n",
    "\n",
    "# 파일 이름 리스트 변환\n",
    "filenames = df_ptb['filename_hr'].tolist()\n",
    "base_path = './ptb_xl_data/'\n",
    "\n",
    "# Lead I 신호를 저장할 배열 초기화\n",
    "lead1_signals = []\n",
    "\n",
    "# 각 파일에서 Lead I 신호 추출\n",
    "for filename in tqdm(filenames):\n",
    "    signal, meta = wfdb.rdsamp(base_path + filename)\n",
    "\n",
    "    # 신호 데이터 타입을 float32로 변경\n",
    "    # signal = signal.astype(np.float32)\n",
    "    \n",
    "    lead1 = signal[:, 0]  # Lead I 신호 추출\n",
    "    lead1_signals.append(lead1)\n",
    "\n",
    "    # 사용하지 않는 변수 해제\n",
    "    # del signal, meta\n",
    "    # gc.collect()  # 가비지 컬렉터 실행\n",
    "\n",
    "\n",
    "# 배열을 numpy 배열로 변환\n",
    "df_ptb_lead1 = np.array(lead1_signals)\n",
    "\n",
    "# 최종 배열 형태 확인\n",
    "print(\"Final array shape:\", df_ptb_lead1.shape)\n",
    "'''"
   ]
  },
  {
   "cell_type": "code",
   "execution_count": null,
   "metadata": {},
   "outputs": [],
   "source": [
    "## sph 데이터 로드 \n",
    "'''\n",
    "# .h5 파일 목록 가져오기\n",
    "filenames = sorted(glob(\"./sph_data/records_sph/*.h5\"))\n",
    "\n",
    "# 메타데이터 로드 및 파일명 열 추가\n",
    "df_sph = pd.read_csv(\"./sph_data/metadata.csv\")\n",
    "df_sph['filename'] = filenames\n",
    "\n",
    "# Lead I 신호를 저장할 배열 초기화\n",
    "lead1_signals_sph = []\n",
    "\n",
    "# 각 파일에서 Lead I 신호 추출\n",
    "for filename in tqdm(df_sph['filename']):\n",
    "    with h5py.File(filename, 'r') as f:\n",
    "        signal = f['ecg'][:].T\n",
    "\n",
    "    lead1 = signal[:, 0]  # Lead I 신호 추출\n",
    "\n",
    "    # 데이터 길이에 따른 처리\n",
    "    if lead1.shape[0] == 5000:\n",
    "        pass\n",
    "    else:\n",
    "        start_idx = np.random.randint(0, lead1.shape[0] - 4999)\n",
    "        lead1 = lead1[start_idx:start_idx+5000]\n",
    "\n",
    "    lead1_signals_sph.append(lead1)\n",
    "\n",
    "# 배열을 numpy 배열로 변환\n",
    "df_sph_lead1 = np.array(lead1_signals_sph)\n",
    "\n",
    "# 최종 배열 형태 확인 및 저장\n",
    "print(\"Final array shape:\", df_sph_lead1.shape)\n",
    "'''\n"
   ]
  },
  {
   "cell_type": "code",
   "execution_count": 3,
   "metadata": {},
   "outputs": [],
   "source": [
    "## ptb,sph데이터 \n",
    "\n",
    "# 데이터 프레임 로드\n",
    "path = './ptb_xl_data/'\n",
    "df_ptb = pd.read_csv(path + 'ptbxl_database.csv', index_col='ecg_id')\n",
    "df_sph = pd.read_csv(\"./sph_data/metadata.csv\")\n"
   ]
  },
  {
   "cell_type": "code",
   "execution_count": 4,
   "metadata": {},
   "outputs": [
    {
     "data": {
      "text/plain": [
       "label\n",
       "0    20285\n",
       "1     1514\n",
       "Name: count, dtype: int64"
      ]
     },
     "execution_count": 4,
     "metadata": {},
     "output_type": "execute_result"
    }
   ],
   "source": [
    "# str (문자열) 코드를 딕셔너리로 변환 \n",
    "df_ptb.scp_codes = df_ptb.scp_codes.apply(lambda x: ast.literal_eval(x))\n",
    "\n",
    "# 딕셔너리에서 라벨 추출 ()\n",
    "df_ptb.scp_codes = df_ptb.scp_codes.apply(lambda x: list(x.keys()))\n",
    "\n",
    "# 심방세동 라벨 컬럼 생성 (정답 컬럼)\n",
    "df_ptb['label'] = df_ptb.scp_codes.apply(lambda arr: 1 if 'AFIB' in arr else 0)\n",
    "\n",
    "# 밸류값 확인\n",
    "df_ptb.label.value_counts()"
   ]
  },
  {
   "cell_type": "code",
   "execution_count": 5,
   "metadata": {},
   "outputs": [
    {
     "data": {
      "text/plain": [
       "label\n",
       "0    25095\n",
       "1      675\n",
       "Name: count, dtype: int64"
      ]
     },
     "execution_count": 5,
     "metadata": {},
     "output_type": "execute_result"
    }
   ],
   "source": [
    "# 'AHA_Code' 컬럼의 각 값에 대해 '50'이 포함되어 있는지 확인하고, 'label' 컬럼 생성\n",
    "def check_contains_50(code):\n",
    "    # 공백을 없애고, ';' 또는 '+'로 분리\n",
    "    numbers = code.replace(' ', '').replace('+', ';').split(';')\n",
    "    # '50'이 포함되어 있는지 확인\n",
    "    return '50' in numbers\n",
    "# 'label' 컬럼 생성\n",
    "df_sph['label'] = df_sph['AHA_Code'].apply(check_contains_50).astype(int)\n",
    "\n",
    "#밸류값 확인 \n",
    "df_sph.label.value_counts()"
   ]
  },
  {
   "cell_type": "code",
   "execution_count": 6,
   "metadata": {},
   "outputs": [],
   "source": [
    "## 보경님 코드를 이용한 전처리 \n",
    "\n",
    "import torch\n",
    "from torch.utils.data import DataLoader, TensorDataset\n",
    "from sklearn.model_selection import train_test_split\n",
    "from sklearn.model_selection import StratifiedKFold\n",
    "\n",
    "\n",
    "# custom_file 폴더에서 lead1_signals 데이터 로드\n",
    "lead1_signals = np.load('./custom_file/annie_ptb_xl_lead1.npy')\n",
    "\n",
    "\n",
    "# 레이블 데이터 로드\n",
    "labels = df_ptb['label'].values\n",
    "\n",
    "\n",
    "# 데이터 정규화\n",
    "lead1_signals_normalized = (lead1_signals - lead1_signals.mean()) / (lead1_signals.std()+1e-7)\n",
    "\n",
    "\n",
    "# 데이터셋을 텐서로 변환\n",
    "X = torch.Tensor(lead1_signals_normalized)\n",
    "y = torch.Tensor(labels).long()  \n",
    "\n",
    "\n",
    "# 데이터 분할\n",
    "X_train, X_temp, y_train, y_temp = train_test_split(X, y, test_size=0.2, random_state=42, stratify=y)\n",
    "X_val, X_test, y_val, y_test = train_test_split(X_temp, y_temp, test_size=0.5, random_state=42, stratify=y_temp)\n",
    "\n",
    "# 채널 수를 1로 추가_GOOD\n",
    "X_train = X_train.unsqueeze(1)\n",
    "X_val = X_val.unsqueeze(1)\n",
    "X_test = X_test.unsqueeze(1)\n",
    "\n",
    "\n",
    "# DataLoader 생성\n",
    "train_data = TensorDataset(X_train, y_train)\n",
    "val_data = TensorDataset(X_val, y_val)\n",
    "test_data = TensorDataset(X_test, y_test)\n",
    "\n",
    "batch_size = 32\n",
    "train_loader = DataLoader(train_data, shuffle=True, batch_size=batch_size)\n",
    "val_loader = DataLoader(val_data, batch_size=batch_size)\n",
    "test_loader = DataLoader(test_data, batch_size=batch_size)\n",
    "\n",
    "\n"
   ]
  },
  {
   "attachments": {},
   "cell_type": "markdown",
   "metadata": {},
   "source": [
    "# 2 모델 생성"
   ]
  },
  {
   "cell_type": "code",
   "execution_count": 17,
   "metadata": {},
   "outputs": [],
   "source": [
    "\n",
    "# 1D CNN 모델 정의\n",
    "class BinaryCNN(nn.Module):\n",
    "    def __init__(self):\n",
    "        super(BinaryCNN, self).__init__()\n",
    "        self.conv1 = nn.Conv1d(1, 64, kernel_size=3, stride=1, padding=1)\n",
    "        self.pool = nn.MaxPool1d(kernel_size=2, stride=2)\n",
    "        self.conv2 = nn.Conv1d(64, 128, kernel_size=3, stride=1, padding=1)\n",
    "        self.fc1 = nn.Linear(128 * 1250, 256)\n",
    "        self.fc2 = nn.Linear(256, 128) \n",
    "        self.fc3 = nn.Linear(128,1)# 이진 분류를 위해 출력 차원을 1로 설정\n",
    "        \n",
    "    def forward(self, x):\n",
    "        x = self.pool(torch.nn.functional.leaky_relu(self.conv1(x)))\n",
    "        x = self.pool(torch.nn.functional.leaky_relu(self.conv2(x)))\n",
    "        x = x.view(-1, 128 * 1250 )\n",
    "        x = F.leaky_relu(self.fc1(x))\n",
    "        # x = self.fc2(x)\n",
    "        x = F.leaky_relu(self.fc2(x)) # 이진 분류에서는 sigmoid 활성화 함수 사용\n",
    "        x = self.fc3(x)\n",
    "        return x\n"
   ]
  },
  {
   "cell_type": "code",
   "execution_count": 7,
   "metadata": {},
   "outputs": [],
   "source": [
    "## 배치 정규화와 드롭아웃을 섞은 모델 \n",
    "import torch.nn.functional as F\n",
    "\n",
    "class BinaryCNNWithBatchNormAndDropout(nn.Module):\n",
    "    def __init__(self, dropout_prob=0.5):\n",
    "        super(BinaryCNNWithBatchNormAndDropout, self).__init__()\n",
    "        self.conv1 = nn.Conv1d(1, 64, kernel_size=3, stride=1, padding=1)\n",
    "        self.batch_norm1 = nn.BatchNorm1d(64)  # BatchNorm1d 추가\n",
    "        self.pool = nn.MaxPool1d(kernel_size=2, stride=2)\n",
    "        self.conv2 = nn.Conv1d(64, 128, kernel_size=3, stride=1, padding=1)\n",
    "        self.batch_norm2 = nn.BatchNorm1d(128)  # BatchNorm1d 추가\n",
    "        self.fc1 = nn.Linear(128 * 1250, 256)\n",
    "        self.fc2 = nn.Linear(256, 128)\n",
    "        self.batch_norm3 = nn.BatchNorm1d(256)  # BatchNorm1d 추가\n",
    "        self.dropout = nn.Dropout(0.5)  # Dropout 추가\n",
    "        self.fc3 = nn.Linear(128, 1)\n",
    "\n",
    "    def forward(self, x):\n",
    "        x = self.pool(F.leaky_relu(self.batch_norm1(self.conv1(x))))\n",
    "        x = self.pool(F.leaky_relu(self.batch_norm2(self.conv2(x))))\n",
    "        x = x.view(-1, 128 * 1250)\n",
    "        x = F.leaky_relu(self.batch_norm3(self.fc1(x)))\n",
    "        x = F.leaky_relu(self.fc2(x))\n",
    "        x = self.dropout(x)  # 드롭아웃 적용\n",
    "        x = self.fc3(x)\n",
    "        return x"
   ]
  },
  {
   "cell_type": "code",
   "execution_count": 8,
   "metadata": {},
   "outputs": [],
   "source": [
    "## 논문의 모델을 기반으로 만든 모델 \n",
    "\n",
    "class Custom1DCNNWithBatchNormAndDropout(nn.Module):\n",
    "    def __init__(self):\n",
    "        super(Custom1DCNNWithBatchNormAndDropout, self).__init__()\n",
    "\n",
    "        # Convolutional Blocks\n",
    "        self.conv1 = nn.Conv1d(1, 32, kernel_size=5)\n",
    "        self.bn1 = nn.BatchNorm1d(32)\n",
    "        self.relu = nn.ReLU()\n",
    "        self.maxpool1 = nn.MaxPool1d(2)\n",
    "\n",
    "        self.conv2 = nn.Conv1d(32, 32, kernel_size=5)\n",
    "        self.maxpool2 = nn.MaxPool1d(2)\n",
    "\n",
    "        self.conv3 = nn.Conv1d(32, 64, kernel_size=5)\n",
    "        self.maxpool3 = nn.MaxPool1d(2)\n",
    "\n",
    "        self.conv4 = nn.Conv1d(64, 64, kernel_size=5)\n",
    "        self.maxpool4 = nn.MaxPool1d(2)\n",
    "\n",
    "        self.conv5 = nn.Conv1d(64, 128, kernel_size=5)\n",
    "        self.maxpool5 = nn.MaxPool1d(2)\n",
    "\n",
    "        self.conv6 = nn.Conv1d(128, 128, kernel_size=5)\n",
    "        self.maxpool6 = nn.MaxPool1d(2)\n",
    "\n",
    "        self.dropout1 = nn.Dropout(0.5)\n",
    "\n",
    "        self.conv7 = nn.Conv1d(128, 256, kernel_size=5)\n",
    "        self.maxpool7 = nn.MaxPool1d(2)\n",
    "\n",
    "        self.conv8 = nn.Conv1d(256, 256, kernel_size=5)\n",
    "        self.maxpool8 = nn.MaxPool1d(2)\n",
    "\n",
    "        self.dropout2 = nn.Dropout(0.5)\n",
    "\n",
    "        self.conv9 = nn.Conv1d(256, 512, kernel_size=5)\n",
    "        self.maxpool9 = nn.MaxPool1d(2)\n",
    "\n",
    "        self.dropout3 = nn.Dropout(0.5)\n",
    "\n",
    "        self.conv10 = nn.Conv1d(512, 512, kernel_size=5)\n",
    "\n",
    "        # Fully Connected Blocks\n",
    "        self.flatten = nn.Flatten()\n",
    "\n",
    "        self.dense1 = nn.Linear(512, 128)\n",
    "        self.batch_norm_dense1 = nn.BatchNorm1d(128)  # BatchNorm1d for Dense1\n",
    "        self.dropout4 = nn.Dropout(0.5)\n",
    "\n",
    "        self.dense2 = nn.Linear(128, 32)\n",
    "        self.batch_norm_dense2 = nn.BatchNorm1d(32)  # BatchNorm1d for Dense2\n",
    "\n",
    "        self.dense3 = nn.Linear(32, 1)\n",
    "        \n",
    "\n",
    "    def forward(self, x):\n",
    "        # Convolutional Blocks\n",
    "        x = self.maxpool1(self.relu(self.bn1(self.conv1(x))))\n",
    "        x = self.maxpool2(self.relu(self.conv2(x)))\n",
    "        x = self.maxpool3(self.relu(self.conv3(x)))\n",
    "        x = self.maxpool4(self.relu(self.conv4(x)))\n",
    "        x = self.maxpool5(self.relu(self.conv5(x)))\n",
    "        x = self.maxpool6(self.relu(self.conv6(x)))\n",
    "        x = self.dropout1(x)\n",
    "        x = self.maxpool7(self.relu(self.conv7(x)))\n",
    "        x = self.maxpool8(self.relu(self.conv8(x)))\n",
    "        x = self.dropout2(x)\n",
    "        x = self.maxpool9(self.relu(self.conv9(x)))\n",
    "        x = self.dropout3(x)\n",
    "        x = self.conv10(x)\n",
    "\n",
    "        # Fully Connected Blocks\n",
    "        x = self.flatten(x)\n",
    "        x = self.dropout4(self.relu(self.batch_norm_dense1(self.dense1(x))))\n",
    "        x = self.relu(self.batch_norm_dense2(self.dense2(x)))\n",
    "        x = self.dense3(x)\n",
    "\n",
    "        return x\n"
   ]
  },
  {
   "cell_type": "code",
   "execution_count": 5,
   "metadata": {},
   "outputs": [],
   "source": [
    "# 간단한 CNN 모델 구축\n",
    "class SimpleCNN(torch.nn.Module):\n",
    "    def __init__(self):\n",
    "        super(SimpleCNN, self).__init__()\n",
    "        self.conv1 = torch.nn.Conv1d(1, 32, kernel_size=7, stride=2) \n",
    "        self.pool = torch.nn.MaxPool1d(kernel_size=5, stride=1) \n",
    "        self.conv2 = torch.nn.Conv1d(32, 64, kernel_size=5) \n",
    "        self.fc1 = torch.nn.Linear(64 * 2485, 1000) \n",
    "        self.fc2 = torch.nn.Linear(1000, 500)\n",
    "        self.fc3 = torch.nn.Linear(500, 1)\n",
    "\n",
    "    def forward(self, x):\n",
    "        x = self.pool(torch.nn.functional.leaky_relu(self.conv1(x)))\n",
    "        x = self.pool(torch.nn.functional.leaky_relu(self.conv2(x)))\n",
    "        x = x.view(-1, 64 * 2485)\n",
    "        x = torch.nn.functional.leaky_relu(self.fc1(x))\n",
    "        x = torch.nn.functional.leaky_relu(self.fc2(x))\n",
    "        x = self.fc3(x)\n",
    "        return x"
   ]
  },
  {
   "attachments": {},
   "cell_type": "markdown",
   "metadata": {},
   "source": [
    "## 2-1 모델 학습"
   ]
  },
  {
   "cell_type": "code",
   "execution_count": 49,
   "metadata": {},
   "outputs": [
    {
     "name": "stderr",
     "output_type": "stream",
     "text": [
      "  0%|          | 1/545 [00:01<13:54,  1.53s/it]\n"
     ]
    },
    {
     "ename": "RuntimeError",
     "evalue": "all elements of input should be between 0 and 1",
     "output_type": "error",
     "traceback": [
      "\u001b[0;31m---------------------------------------------------------------------------\u001b[0m",
      "\u001b[0;31mRuntimeError\u001b[0m                              Traceback (most recent call last)",
      "Cell \u001b[0;32mIn[49], line 12\u001b[0m\n\u001b[1;32m     10\u001b[0m optimizer\u001b[39m.\u001b[39mzero_grad()\n\u001b[1;32m     11\u001b[0m outputs \u001b[39m=\u001b[39m model(inputs)\n\u001b[0;32m---> 12\u001b[0m loss \u001b[39m=\u001b[39m criterion(outputs, labels\u001b[39m.\u001b[39;49mfloat()\u001b[39m.\u001b[39;49mview(\u001b[39m-\u001b[39;49m\u001b[39m1\u001b[39;49m, \u001b[39m1\u001b[39;49m))\n\u001b[1;32m     13\u001b[0m loss\u001b[39m.\u001b[39mbackward()\n\u001b[1;32m     14\u001b[0m optimizer\u001b[39m.\u001b[39mstep()\n",
      "File \u001b[0;32m/usr/local/lib/python3.8/dist-packages/torch/nn/modules/module.py:1501\u001b[0m, in \u001b[0;36mModule._call_impl\u001b[0;34m(self, *args, **kwargs)\u001b[0m\n\u001b[1;32m   1496\u001b[0m \u001b[39m# If we don't have any hooks, we want to skip the rest of the logic in\u001b[39;00m\n\u001b[1;32m   1497\u001b[0m \u001b[39m# this function, and just call forward.\u001b[39;00m\n\u001b[1;32m   1498\u001b[0m \u001b[39mif\u001b[39;00m \u001b[39mnot\u001b[39;00m (\u001b[39mself\u001b[39m\u001b[39m.\u001b[39m_backward_hooks \u001b[39mor\u001b[39;00m \u001b[39mself\u001b[39m\u001b[39m.\u001b[39m_backward_pre_hooks \u001b[39mor\u001b[39;00m \u001b[39mself\u001b[39m\u001b[39m.\u001b[39m_forward_hooks \u001b[39mor\u001b[39;00m \u001b[39mself\u001b[39m\u001b[39m.\u001b[39m_forward_pre_hooks\n\u001b[1;32m   1499\u001b[0m         \u001b[39mor\u001b[39;00m _global_backward_pre_hooks \u001b[39mor\u001b[39;00m _global_backward_hooks\n\u001b[1;32m   1500\u001b[0m         \u001b[39mor\u001b[39;00m _global_forward_hooks \u001b[39mor\u001b[39;00m _global_forward_pre_hooks):\n\u001b[0;32m-> 1501\u001b[0m     \u001b[39mreturn\u001b[39;00m forward_call(\u001b[39m*\u001b[39;49margs, \u001b[39m*\u001b[39;49m\u001b[39m*\u001b[39;49mkwargs)\n\u001b[1;32m   1502\u001b[0m \u001b[39m# Do not call functions when jit is used\u001b[39;00m\n\u001b[1;32m   1503\u001b[0m full_backward_hooks, non_full_backward_hooks \u001b[39m=\u001b[39m [], []\n",
      "File \u001b[0;32m/usr/local/lib/python3.8/dist-packages/torch/nn/modules/loss.py:619\u001b[0m, in \u001b[0;36mBCELoss.forward\u001b[0;34m(self, input, target)\u001b[0m\n\u001b[1;32m    618\u001b[0m \u001b[39mdef\u001b[39;00m \u001b[39mforward\u001b[39m(\u001b[39mself\u001b[39m, \u001b[39minput\u001b[39m: Tensor, target: Tensor) \u001b[39m-\u001b[39m\u001b[39m>\u001b[39m Tensor:\n\u001b[0;32m--> 619\u001b[0m     \u001b[39mreturn\u001b[39;00m F\u001b[39m.\u001b[39;49mbinary_cross_entropy(\u001b[39minput\u001b[39;49m, target, weight\u001b[39m=\u001b[39;49m\u001b[39mself\u001b[39;49m\u001b[39m.\u001b[39;49mweight, reduction\u001b[39m=\u001b[39;49m\u001b[39mself\u001b[39;49m\u001b[39m.\u001b[39;49mreduction)\n",
      "File \u001b[0;32m/usr/local/lib/python3.8/dist-packages/torch/nn/functional.py:3098\u001b[0m, in \u001b[0;36mbinary_cross_entropy\u001b[0;34m(input, target, weight, size_average, reduce, reduction)\u001b[0m\n\u001b[1;32m   3095\u001b[0m     new_size \u001b[39m=\u001b[39m _infer_size(target\u001b[39m.\u001b[39msize(), weight\u001b[39m.\u001b[39msize())\n\u001b[1;32m   3096\u001b[0m     weight \u001b[39m=\u001b[39m weight\u001b[39m.\u001b[39mexpand(new_size)\n\u001b[0;32m-> 3098\u001b[0m \u001b[39mreturn\u001b[39;00m torch\u001b[39m.\u001b[39;49m_C\u001b[39m.\u001b[39;49m_nn\u001b[39m.\u001b[39;49mbinary_cross_entropy(\u001b[39minput\u001b[39;49m, target, weight, reduction_enum)\n",
      "\u001b[0;31mRuntimeError\u001b[0m: all elements of input should be between 0 and 1"
     ]
    }
   ],
   "source": [
    "# 모델, 손실 함수, 최적화 기법 초기화\n",
    "model = BinaryCNN()\n",
    "criterion = nn.BCELoss()  # 이진 분류에서는 BCELoss 사용\n",
    "optimizer = optim.Adam(model.parameters(), lr=0.001)\n",
    "\n",
    "# 학습 루프\n",
    "num_epochs = 10\n",
    "for epoch in range(num_epochs):\n",
    "    for inputs, labels in tqdm(train_loader):\n",
    "        optimizer.zero_grad()\n",
    "        outputs = model(inputs)\n",
    "        loss = criterion(outputs, labels.float().view(-1, 1))\n",
    "        loss.backward()\n",
    "        optimizer.step()\n",
    "        \n",
    "    print(f'Epoch [{epoch+1}/{num_epochs}], Loss: {loss.item():.4f}')\n"
   ]
  },
  {
   "cell_type": "code",
   "execution_count": 9,
   "metadata": {},
   "outputs": [
    {
     "name": "stderr",
     "output_type": "stream",
     "text": [
      "Epoch 1/10 - Training: 100%|██████████| 545/545 [00:12<00:00, 42.14it/s]\n"
     ]
    },
    {
     "name": "stdout",
     "output_type": "stream",
     "text": [
      "Epoch [1/10] - Validation AUROC: 0.9667\n"
     ]
    },
    {
     "name": "stderr",
     "output_type": "stream",
     "text": [
      "Epoch 2/10 - Training: 100%|██████████| 545/545 [00:08<00:00, 64.70it/s]\n"
     ]
    },
    {
     "name": "stdout",
     "output_type": "stream",
     "text": [
      "Epoch [2/10] - Validation AUROC: 0.9661\n"
     ]
    },
    {
     "name": "stderr",
     "output_type": "stream",
     "text": [
      "Epoch 3/10 - Training: 100%|██████████| 545/545 [00:08<00:00, 65.30it/s]\n"
     ]
    },
    {
     "name": "stdout",
     "output_type": "stream",
     "text": [
      "Epoch [3/10] - Validation AUROC: 0.9830\n"
     ]
    },
    {
     "name": "stderr",
     "output_type": "stream",
     "text": [
      "Epoch 4/10 - Training: 100%|██████████| 545/545 [00:08<00:00, 63.66it/s]\n"
     ]
    },
    {
     "name": "stdout",
     "output_type": "stream",
     "text": [
      "Epoch [4/10] - Validation AUROC: 0.9796\n"
     ]
    },
    {
     "name": "stderr",
     "output_type": "stream",
     "text": [
      "Epoch 5/10 - Training: 100%|██████████| 545/545 [00:08<00:00, 62.85it/s]\n"
     ]
    },
    {
     "name": "stdout",
     "output_type": "stream",
     "text": [
      "Epoch [5/10] - Validation AUROC: 0.9847\n"
     ]
    },
    {
     "name": "stderr",
     "output_type": "stream",
     "text": [
      "Epoch 6/10 - Training: 100%|██████████| 545/545 [00:08<00:00, 61.48it/s]\n"
     ]
    },
    {
     "name": "stdout",
     "output_type": "stream",
     "text": [
      "Epoch [6/10] - Validation AUROC: 0.9860\n"
     ]
    },
    {
     "name": "stderr",
     "output_type": "stream",
     "text": [
      "Epoch 7/10 - Training: 100%|██████████| 545/545 [00:08<00:00, 62.24it/s]\n"
     ]
    },
    {
     "name": "stdout",
     "output_type": "stream",
     "text": [
      "Epoch [7/10] - Validation AUROC: 0.9796\n"
     ]
    },
    {
     "name": "stderr",
     "output_type": "stream",
     "text": [
      "Epoch 8/10 - Training: 100%|██████████| 545/545 [00:08<00:00, 63.63it/s]\n"
     ]
    },
    {
     "name": "stdout",
     "output_type": "stream",
     "text": [
      "Epoch [8/10] - Validation AUROC: 0.9769\n"
     ]
    },
    {
     "name": "stderr",
     "output_type": "stream",
     "text": [
      "Epoch 9/10 - Training: 100%|██████████| 545/545 [00:08<00:00, 62.72it/s]\n"
     ]
    },
    {
     "name": "stdout",
     "output_type": "stream",
     "text": [
      "Epoch [9/10] - Validation AUROC: 0.9867\n"
     ]
    },
    {
     "name": "stderr",
     "output_type": "stream",
     "text": [
      "Epoch 10/10 - Training: 100%|██████████| 545/545 [00:08<00:00, 62.74it/s]\n"
     ]
    },
    {
     "name": "stdout",
     "output_type": "stream",
     "text": [
      "Epoch [10/10] - Validation AUROC: 0.9858\n"
     ]
    }
   ],
   "source": [
    "# 모델을 GPU로 옮기기\n",
    "device = torch.device(\"cuda\" if torch.cuda.is_available() else \"cpu\")\n",
    "model = Custom1DCNNWithBatchNormAndDropout().to(device)\n",
    "\n",
    "# 손실 함수 정의 (이진 크로스 엔트로피)\n",
    "criterion = torch.nn.BCEWithLogitsLoss()\n",
    "\n",
    "# 옵티마이저 선택 (Adam)\n",
    "optimizer = optim.Adam(model.parameters(), lr=0.001)\n",
    "\n",
    "# 학습 및 검증 손실과 정확도를 기록할 리스트\n",
    "train_losses = []\n",
    "train_accuracies = []\n",
    "val_losses = []\n",
    "val_accuracies = []\n",
    "val_aurocs = []\n",
    "\n",
    "# 학습 루프 설정\n",
    "num_epochs = 10\n",
    "for epoch in range(num_epochs):\n",
    "    # 훈련 데이터 루프\n",
    "    model.train()\n",
    "    train_loss = 0.0\n",
    "    train_preds = []\n",
    "    train_targets = []\n",
    "    for inputs, labels in tqdm(train_loader, desc=f\"Epoch {epoch+1}/{num_epochs} - Training\"):\n",
    "        inputs, labels = inputs.to(device), labels.to(device)  # 데이터를 GPU로 이동\n",
    "        optimizer.zero_grad()  # 그래디언트 초기화\n",
    "\n",
    "        # 순전파 및 역전파\n",
    "        outputs = model(inputs)\n",
    "        loss = criterion(outputs.view(-1), labels.float())\n",
    "        loss.backward()\n",
    "        optimizer.step()\n",
    "\n",
    "        train_loss += loss.item()\n",
    "        train_preds.extend(torch.sigmoid(outputs).view(-1).cpu().detach().numpy())\n",
    "        train_targets.extend(labels.cpu().numpy())\n",
    "\n",
    "    train_loss /= len(train_loader)\n",
    "    train_accuracy = accuracy_score(train_targets, np.round(train_preds))\n",
    "    train_losses.append(train_loss)\n",
    "    train_accuracies.append(train_accuracy)\n",
    "\n",
    "    # 검증 데이터 루프\n",
    "    model.eval()\n",
    "    val_preds = []\n",
    "    val_targets = []\n",
    "    val_loss = 0.0\n",
    "    loss_check=[]\n",
    "    with torch.no_grad():\n",
    "        for inputs, labels in val_loader:\n",
    "            inputs, labels = inputs.to(device), labels.to(device)\n",
    "            outputs = model(inputs)\n",
    "            loss = criterion(outputs.view(-1), labels.float())\n",
    "            val_loss += loss.item()\n",
    "            val_preds.extend(torch.sigmoid(outputs).view(-1).cpu().detach().numpy())\n",
    "            val_targets.extend(labels.cpu().numpy())\n",
    "\n",
    "    val_loss /= len(val_loader)\n",
    "    val_accuracy = accuracy_score(val_targets, np.round(val_preds))\n",
    "    val_auroc = roc_auc_score(val_targets, val_preds)\n",
    "\n",
    "    val_losses.append(val_loss)\n",
    "    val_accuracies.append(val_accuracy)\n",
    "\n",
    "    # 에포크의 결과 출력\n",
    "    #print(f'Epoch [{epoch + 1}/{num_epochs}] - Train Loss: {train_loss:.4f} - Train Accuracy: {train_accuracy:.4f} - Validation Loss: {val_loss:.4f} - Validation Accuracy: {val_accuracy:.4f} - Validation AUROC: {val_auroc:.4f}')\n",
    "    print(f'Epoch [{epoch + 1}/{num_epochs}] - Validation AUROC: {val_auroc:.4f}')\n",
    "    val_aurocs.append(val_auroc)"
   ]
  },
  {
   "attachments": {},
   "cell_type": "markdown",
   "metadata": {},
   "source": [
    "## 2-2 모델 평가 \n"
   ]
  },
  {
   "cell_type": "code",
   "execution_count": 11,
   "metadata": {},
   "outputs": [
    {
     "ename": "RuntimeError",
     "evalue": "Input type (torch.FloatTensor) and weight type (torch.cuda.FloatTensor) should be the same or input should be a MKLDNN tensor and weight is a dense tensor",
     "output_type": "error",
     "traceback": [
      "\u001b[0;31m---------------------------------------------------------------------------\u001b[0m",
      "\u001b[0;31mRuntimeError\u001b[0m                              Traceback (most recent call last)",
      "Cell \u001b[0;32mIn[11], line 9\u001b[0m\n\u001b[1;32m      7\u001b[0m all_labels \u001b[39m=\u001b[39m []\n\u001b[1;32m      8\u001b[0m \u001b[39mfor\u001b[39;00m inputs, labels \u001b[39min\u001b[39;00m test_loader:\n\u001b[0;32m----> 9\u001b[0m     predictions \u001b[39m=\u001b[39m model(inputs)\n\u001b[1;32m     10\u001b[0m     predictions \u001b[39m=\u001b[39m (predictions \u001b[39m>\u001b[39m \u001b[39m0.5\u001b[39m)\u001b[39m.\u001b[39mfloat()  \u001b[39m# 이진 분류에서는 0.5를 기준으로 0 또는 1로 변환\u001b[39;00m\n\u001b[1;32m     11\u001b[0m     all_predictions\u001b[39m.\u001b[39mextend(predictions\u001b[39m.\u001b[39mcpu()\u001b[39m.\u001b[39mnumpy())\n",
      "File \u001b[0;32m/usr/local/lib/python3.8/dist-packages/torch/nn/modules/module.py:1501\u001b[0m, in \u001b[0;36mModule._call_impl\u001b[0;34m(self, *args, **kwargs)\u001b[0m\n\u001b[1;32m   1496\u001b[0m \u001b[39m# If we don't have any hooks, we want to skip the rest of the logic in\u001b[39;00m\n\u001b[1;32m   1497\u001b[0m \u001b[39m# this function, and just call forward.\u001b[39;00m\n\u001b[1;32m   1498\u001b[0m \u001b[39mif\u001b[39;00m \u001b[39mnot\u001b[39;00m (\u001b[39mself\u001b[39m\u001b[39m.\u001b[39m_backward_hooks \u001b[39mor\u001b[39;00m \u001b[39mself\u001b[39m\u001b[39m.\u001b[39m_backward_pre_hooks \u001b[39mor\u001b[39;00m \u001b[39mself\u001b[39m\u001b[39m.\u001b[39m_forward_hooks \u001b[39mor\u001b[39;00m \u001b[39mself\u001b[39m\u001b[39m.\u001b[39m_forward_pre_hooks\n\u001b[1;32m   1499\u001b[0m         \u001b[39mor\u001b[39;00m _global_backward_pre_hooks \u001b[39mor\u001b[39;00m _global_backward_hooks\n\u001b[1;32m   1500\u001b[0m         \u001b[39mor\u001b[39;00m _global_forward_hooks \u001b[39mor\u001b[39;00m _global_forward_pre_hooks):\n\u001b[0;32m-> 1501\u001b[0m     \u001b[39mreturn\u001b[39;00m forward_call(\u001b[39m*\u001b[39;49margs, \u001b[39m*\u001b[39;49m\u001b[39m*\u001b[39;49mkwargs)\n\u001b[1;32m   1502\u001b[0m \u001b[39m# Do not call functions when jit is used\u001b[39;00m\n\u001b[1;32m   1503\u001b[0m full_backward_hooks, non_full_backward_hooks \u001b[39m=\u001b[39m [], []\n",
      "Cell \u001b[0;32mIn[8], line 60\u001b[0m, in \u001b[0;36mCustom1DCNNWithBatchNormAndDropout.forward\u001b[0;34m(self, x)\u001b[0m\n\u001b[1;32m     58\u001b[0m \u001b[39mdef\u001b[39;00m \u001b[39mforward\u001b[39m(\u001b[39mself\u001b[39m, x):\n\u001b[1;32m     59\u001b[0m     \u001b[39m# Convolutional Blocks\u001b[39;00m\n\u001b[0;32m---> 60\u001b[0m     x \u001b[39m=\u001b[39m \u001b[39mself\u001b[39m\u001b[39m.\u001b[39mmaxpool1(\u001b[39mself\u001b[39m\u001b[39m.\u001b[39mrelu(\u001b[39mself\u001b[39m\u001b[39m.\u001b[39mbn1(\u001b[39mself\u001b[39;49m\u001b[39m.\u001b[39;49mconv1(x))))\n\u001b[1;32m     61\u001b[0m     x \u001b[39m=\u001b[39m \u001b[39mself\u001b[39m\u001b[39m.\u001b[39mmaxpool2(\u001b[39mself\u001b[39m\u001b[39m.\u001b[39mrelu(\u001b[39mself\u001b[39m\u001b[39m.\u001b[39mconv2(x)))\n\u001b[1;32m     62\u001b[0m     x \u001b[39m=\u001b[39m \u001b[39mself\u001b[39m\u001b[39m.\u001b[39mmaxpool3(\u001b[39mself\u001b[39m\u001b[39m.\u001b[39mrelu(\u001b[39mself\u001b[39m\u001b[39m.\u001b[39mconv3(x)))\n",
      "File \u001b[0;32m/usr/local/lib/python3.8/dist-packages/torch/nn/modules/module.py:1501\u001b[0m, in \u001b[0;36mModule._call_impl\u001b[0;34m(self, *args, **kwargs)\u001b[0m\n\u001b[1;32m   1496\u001b[0m \u001b[39m# If we don't have any hooks, we want to skip the rest of the logic in\u001b[39;00m\n\u001b[1;32m   1497\u001b[0m \u001b[39m# this function, and just call forward.\u001b[39;00m\n\u001b[1;32m   1498\u001b[0m \u001b[39mif\u001b[39;00m \u001b[39mnot\u001b[39;00m (\u001b[39mself\u001b[39m\u001b[39m.\u001b[39m_backward_hooks \u001b[39mor\u001b[39;00m \u001b[39mself\u001b[39m\u001b[39m.\u001b[39m_backward_pre_hooks \u001b[39mor\u001b[39;00m \u001b[39mself\u001b[39m\u001b[39m.\u001b[39m_forward_hooks \u001b[39mor\u001b[39;00m \u001b[39mself\u001b[39m\u001b[39m.\u001b[39m_forward_pre_hooks\n\u001b[1;32m   1499\u001b[0m         \u001b[39mor\u001b[39;00m _global_backward_pre_hooks \u001b[39mor\u001b[39;00m _global_backward_hooks\n\u001b[1;32m   1500\u001b[0m         \u001b[39mor\u001b[39;00m _global_forward_hooks \u001b[39mor\u001b[39;00m _global_forward_pre_hooks):\n\u001b[0;32m-> 1501\u001b[0m     \u001b[39mreturn\u001b[39;00m forward_call(\u001b[39m*\u001b[39;49margs, \u001b[39m*\u001b[39;49m\u001b[39m*\u001b[39;49mkwargs)\n\u001b[1;32m   1502\u001b[0m \u001b[39m# Do not call functions when jit is used\u001b[39;00m\n\u001b[1;32m   1503\u001b[0m full_backward_hooks, non_full_backward_hooks \u001b[39m=\u001b[39m [], []\n",
      "File \u001b[0;32m/usr/local/lib/python3.8/dist-packages/torch/nn/modules/conv.py:313\u001b[0m, in \u001b[0;36mConv1d.forward\u001b[0;34m(self, input)\u001b[0m\n\u001b[1;32m    312\u001b[0m \u001b[39mdef\u001b[39;00m \u001b[39mforward\u001b[39m(\u001b[39mself\u001b[39m, \u001b[39minput\u001b[39m: Tensor) \u001b[39m-\u001b[39m\u001b[39m>\u001b[39m Tensor:\n\u001b[0;32m--> 313\u001b[0m     \u001b[39mreturn\u001b[39;00m \u001b[39mself\u001b[39;49m\u001b[39m.\u001b[39;49m_conv_forward(\u001b[39minput\u001b[39;49m, \u001b[39mself\u001b[39;49m\u001b[39m.\u001b[39;49mweight, \u001b[39mself\u001b[39;49m\u001b[39m.\u001b[39;49mbias)\n",
      "File \u001b[0;32m/usr/local/lib/python3.8/dist-packages/torch/nn/modules/conv.py:309\u001b[0m, in \u001b[0;36mConv1d._conv_forward\u001b[0;34m(self, input, weight, bias)\u001b[0m\n\u001b[1;32m    305\u001b[0m \u001b[39mif\u001b[39;00m \u001b[39mself\u001b[39m\u001b[39m.\u001b[39mpadding_mode \u001b[39m!=\u001b[39m \u001b[39m'\u001b[39m\u001b[39mzeros\u001b[39m\u001b[39m'\u001b[39m:\n\u001b[1;32m    306\u001b[0m     \u001b[39mreturn\u001b[39;00m F\u001b[39m.\u001b[39mconv1d(F\u001b[39m.\u001b[39mpad(\u001b[39minput\u001b[39m, \u001b[39mself\u001b[39m\u001b[39m.\u001b[39m_reversed_padding_repeated_twice, mode\u001b[39m=\u001b[39m\u001b[39mself\u001b[39m\u001b[39m.\u001b[39mpadding_mode),\n\u001b[1;32m    307\u001b[0m                     weight, bias, \u001b[39mself\u001b[39m\u001b[39m.\u001b[39mstride,\n\u001b[1;32m    308\u001b[0m                     _single(\u001b[39m0\u001b[39m), \u001b[39mself\u001b[39m\u001b[39m.\u001b[39mdilation, \u001b[39mself\u001b[39m\u001b[39m.\u001b[39mgroups)\n\u001b[0;32m--> 309\u001b[0m \u001b[39mreturn\u001b[39;00m F\u001b[39m.\u001b[39;49mconv1d(\u001b[39minput\u001b[39;49m, weight, bias, \u001b[39mself\u001b[39;49m\u001b[39m.\u001b[39;49mstride,\n\u001b[1;32m    310\u001b[0m                 \u001b[39mself\u001b[39;49m\u001b[39m.\u001b[39;49mpadding, \u001b[39mself\u001b[39;49m\u001b[39m.\u001b[39;49mdilation, \u001b[39mself\u001b[39;49m\u001b[39m.\u001b[39;49mgroups)\n",
      "\u001b[0;31mRuntimeError\u001b[0m: Input type (torch.FloatTensor) and weight type (torch.cuda.FloatTensor) should be the same or input should be a MKLDNN tensor and weight is a dense tensor"
     ]
    }
   ],
   "source": [
    "# 모델 평가 \n",
    "\n",
    "# 에폭이 끝날 때 평가 지표 출력\n",
    "with torch.no_grad():\n",
    "    model.eval()\n",
    "    all_predictions = []\n",
    "    all_labels = []\n",
    "    for inputs, labels in test_loader:\n",
    "        predictions = model(inputs)\n",
    "        predictions = (predictions > 0.5).float()  # 이진 분류에서는 0.5를 기준으로 0 또는 1로 변환\n",
    "        all_predictions.extend(predictions.cpu().numpy())\n",
    "        all_labels.extend(labels.cpu().numpy())\n",
    "        \n",
    "    accuracy = accuracy_score(all_labels, all_predictions)\n",
    "    precision = precision_score(all_labels, all_predictions)\n",
    "    recall = recall_score(all_labels, all_predictions)\n",
    "    f1 = f1_score(all_labels, all_predictions)\n",
    "\n",
    "    print(f'Epoch [{epoch+1}/{num_epochs}], Loss: {loss.item():.4f}, Accuracy: {accuracy:.4f}, Precision: {precision:.4f}, Recall: {recall:.4f}, F1 Score: {f1:.4f}')"
   ]
  },
  {
   "cell_type": "code",
   "execution_count": 12,
   "metadata": {},
   "outputs": [
    {
     "name": "stderr",
     "output_type": "stream",
     "text": [
      "Testing: 100%|██████████| 69/69 [00:00<00:00, 207.40it/s]"
     ]
    },
    {
     "name": "stdout",
     "output_type": "stream",
     "text": [
      "Test Accuracy: 96.38% - Test AUROC: 0.9773\n"
     ]
    },
    {
     "name": "stderr",
     "output_type": "stream",
     "text": [
      "\n"
     ]
    }
   ],
   "source": [
    "# 테스트 데이터 루프\n",
    "model.eval()\n",
    "test_preds = []\n",
    "test_targets = []\n",
    "with torch.no_grad():\n",
    "    for inputs, labels in tqdm(test_loader, desc=f\"Testing\"):\n",
    "        inputs, labels = inputs.to(device), labels.to(device)\n",
    "        outputs = model(inputs)\n",
    "        test_preds.extend(torch.sigmoid(outputs).view(-1).cpu().detach().numpy())\n",
    "        test_targets.extend(labels.cpu().numpy())\n",
    "\n",
    "test_accuracy = accuracy_score(test_targets, np.round(test_preds))\n",
    "test_auroc = roc_auc_score(test_targets, test_preds)\n",
    "print(f'Test Accuracy: {test_accuracy * 100:.2f}% - Test AUROC: {test_auroc:.4f}')"
   ]
  },
  {
   "cell_type": "code",
   "execution_count": 13,
   "metadata": {},
   "outputs": [
    {
     "data": {
      "image/png": "[encoded data removed]",
      "text/plain": [
       "<Figure size 1600x400 with 3 Axes>"
      ]
     },
     "metadata": {},
     "output_type": "display_data"
    }
   ],
   "source": [
    "# 손실, 정확도, AUROC 그래프 그리기\n",
    "plt.figure(figsize=(16, 4))\n",
    "\n",
    "# 손실 그래프\n",
    "plt.subplot(1, 3, 1)\n",
    "plt.plot(train_losses, label='Training loss')\n",
    "plt.plot(val_losses, label='Validation loss')\n",
    "plt.title('Loss over epochs')\n",
    "plt.xlabel('Epoch')\n",
    "plt.ylabel('Loss')\n",
    "plt.ylim(0.0, 1.0)  # y축 범위 설정\n",
    "plt.legend()\n",
    "\n",
    "# 정확도 그래프\n",
    "plt.subplot(1, 3, 2)\n",
    "plt.plot(train_accuracies, label='Training accuracy')\n",
    "plt.plot(val_accuracies, label='Validation accuracy')\n",
    "plt.title('Accuracy over epochs')\n",
    "plt.xlabel('Epoch')\n",
    "plt.ylabel('Accuracy')\n",
    "plt.ylim(0.8, 1.0)  # y축 범위 설정\n",
    "plt.legend()\n",
    "\n",
    "# AUROC 그래프\n",
    "plt.subplot(1, 3, 3)\n",
    "plt.plot(val_aurocs, label='Validation AUROC')\n",
    "plt.title('AUROC over epochs')\n",
    "plt.xlabel('Epoch')\n",
    "plt.ylabel('AUROC')\n",
    "plt.ylim(0.5, 1.0)  # y축 범위 설정\n",
    "plt.legend()\n",
    "\n",
    "plt.show()"
   ]
  },
  {
   "cell_type": "code",
   "execution_count": 14,
   "metadata": {},
   "outputs": [
    {
     "data": {
      "image/png": "[encoded data removed]",
      "text/plain": [
       "<Figure size 800x600 with 2 Axes>"
      ]
     },
     "metadata": {},
     "output_type": "display_data"
    },
    {
     "name": "stdout",
     "output_type": "stream",
     "text": [
      "Accuracy: 0.9569\n",
      "Precision: 0.6267\n",
      "Recall: 0.9338\n",
      "F1 Score: 0.7500\n",
      "Optimal Threshold (Youden Index): 0.23030426\n"
     ]
    }
   ],
   "source": [
    "from sklearn.metrics import accuracy_score, precision_score, recall_score, f1_score, confusion_matrix, roc_curve, auc\n",
    "import seaborn as sns\n",
    "import matplotlib.pyplot as plt\n",
    "import numpy as np\n",
    "import torch\n",
    "\n",
    "# 모델을 평가 모드로 설정\n",
    "model.eval()\n",
    "\n",
    "# 모든 확률과 레이블을 저장할 리스트 초기화\n",
    "all_preds_probs = []\n",
    "all_labels = []\n",
    "\n",
    "# 테스트 데이터에 대한 예측 수행 (확률만 계산)\n",
    "with torch.no_grad():\n",
    "    for inputs, labels in test_loader:\n",
    "        inputs, labels = inputs.to(device), labels.to(device)\n",
    "        outputs = model(inputs)\n",
    "        probs = torch.sigmoid(outputs).view(-1)  # 시그모이드 함수 적용\n",
    "        all_preds_probs.extend(probs.cpu().numpy())\n",
    "        all_labels.extend(labels.cpu().numpy())\n",
    "\n",
    "# 예측 확률과 실제 레이블을 사용하여 ROC 커브 계산\n",
    "fpr, tpr, thresholds = roc_curve(all_labels, all_preds_probs)\n",
    "\n",
    "# Youden의 지수 계산\n",
    "youden_index = tpr - fpr\n",
    "\n",
    "# 최대 Youden 지수를 가진 임계값 찾기\n",
    "optimal_idx = np.argmax(youden_index)\n",
    "optimal_threshold = thresholds[optimal_idx]\n",
    "\n",
    "# 최적 임계값을 사용하여 예측 수행\n",
    "all_predictions = (np.array(all_preds_probs) > optimal_threshold).astype(int)\n",
    "\n",
    "# 성능 지표 계산\n",
    "accuracy = accuracy_score(all_labels, all_predictions)\n",
    "precision = precision_score(all_labels, all_predictions)\n",
    "recall = recall_score(all_labels, all_predictions)\n",
    "f1 = f1_score(all_labels, all_predictions)\n",
    "\n",
    "# 혼동 행렬 생성\n",
    "cm = confusion_matrix(all_labels, all_predictions)\n",
    "\n",
    "# 혼동 행렬 시각화\n",
    "plt.figure(figsize=(8, 6))\n",
    "sns.heatmap(cm, annot=True, fmt='d', cmap='Blues')\n",
    "plt.title('Confusion Matrix')\n",
    "plt.xlabel('Predicted Label')\n",
    "plt.ylabel('True Label')\n",
    "plt.show()\n",
    "\n",
    "# 성능 지표 출력\n",
    "print(f'Accuracy: {accuracy:.4f}')\n",
    "print(f'Precision: {precision:.4f}')\n",
    "print(f'Recall: {recall:.4f}')\n",
    "print(f'F1 Score: {f1:.4f}')\n",
    "print(\"Optimal Threshold (Youden Index):\", optimal_threshold)"
   ]
  },
  {
   "cell_type": "code",
   "execution_count": 56,
   "metadata": {},
   "outputs": [
    {
     "name": "stdout",
     "output_type": "stream",
     "text": [
      "(array([0.00000000e+00, 0.00000000e+00, 9.85707245e-04, 9.85707245e-04,\n",
      "       1.97141449e-03, 1.97141449e-03, 2.46426811e-03, 2.46426811e-03,\n",
      "       2.95712173e-03, 2.95712173e-03, 3.44997536e-03, 3.44997536e-03,\n",
      "       3.94282898e-03, 3.94282898e-03, 4.43568260e-03, 4.43568260e-03,\n",
      "       4.92853622e-03, 4.92853622e-03, 5.42138985e-03, 5.42138985e-03,\n",
      "       5.91424347e-03, 5.91424347e-03, 6.40709709e-03, 6.40709709e-03,\n",
      "       6.89995071e-03, 6.89995071e-03, 7.39280434e-03, 7.39280434e-03,\n",
      "       7.88565796e-03, 7.88565796e-03, 8.87136520e-03, 8.87136520e-03,\n",
      "       9.36421883e-03, 9.36421883e-03, 9.85707245e-03, 9.85707245e-03,\n",
      "       1.03499261e-02, 1.03499261e-02, 1.08427797e-02, 1.08427797e-02,\n",
      "       1.13356333e-02, 1.13356333e-02, 1.23213406e-02, 1.23213406e-02,\n",
      "       1.33070478e-02, 1.33070478e-02, 1.42927551e-02, 1.42927551e-02,\n",
      "       1.47856087e-02, 1.47856087e-02, 1.57713159e-02, 1.57713159e-02,\n",
      "       1.62641695e-02, 1.62641695e-02, 1.67570232e-02, 1.67570232e-02,\n",
      "       1.72498768e-02, 1.72498768e-02, 1.77427304e-02, 1.77427304e-02,\n",
      "       1.87284377e-02, 1.87284377e-02, 1.97141449e-02, 1.97141449e-02,\n",
      "       2.02069985e-02, 2.02069985e-02, 2.06998521e-02, 2.06998521e-02,\n",
      "       2.11927058e-02, 2.11927058e-02, 2.16855594e-02, 2.16855594e-02,\n",
      "       2.26712666e-02, 2.26712666e-02, 2.31641203e-02, 2.31641203e-02,\n",
      "       2.51355347e-02, 2.51355347e-02, 2.71069492e-02, 2.71069492e-02,\n",
      "       2.85855101e-02, 2.85855101e-02, 3.05569246e-02, 3.05569246e-02,\n",
      "       3.49926072e-02, 3.49926072e-02, 3.74568753e-02, 3.74568753e-02,\n",
      "       4.09068507e-02, 4.09068507e-02, 4.43568260e-02, 4.43568260e-02,\n",
      "       4.58353869e-02, 4.58353869e-02, 5.22424840e-02, 5.22424840e-02,\n",
      "       5.81567275e-02, 5.81567275e-02, 7.24494825e-02, 7.24494825e-02,\n",
      "       8.37851158e-02, 8.37851158e-02, 1.89255791e-01, 1.89255791e-01,\n",
      "       6.12124199e-01, 6.13109906e-01, 6.72745195e-01, 6.72745195e-01,\n",
      "       8.88122228e-01, 8.88122228e-01, 1.00000000e+00]), array([0.        , 0.00662252, 0.00662252, 0.01324503, 0.01324503,\n",
      "       0.09271523, 0.09271523, 0.1192053 , 0.1192053 , 0.1589404 ,\n",
      "       0.1589404 , 0.19205298, 0.19205298, 0.28476821, 0.28476821,\n",
      "       0.29139073, 0.29139073, 0.34437086, 0.34437086, 0.35099338,\n",
      "       0.35099338, 0.35761589, 0.35761589, 0.36423841, 0.36423841,\n",
      "       0.37748344, 0.37748344, 0.39072848, 0.39072848, 0.39735099,\n",
      "       0.39735099, 0.41059603, 0.41059603, 0.43046358, 0.43046358,\n",
      "       0.46357616, 0.46357616, 0.49668874, 0.49668874, 0.50331126,\n",
      "       0.50331126, 0.52980132, 0.52980132, 0.56291391, 0.56291391,\n",
      "       0.62913907, 0.62913907, 0.64238411, 0.64238411, 0.65562914,\n",
      "       0.65562914, 0.68211921, 0.68211921, 0.73509934, 0.73509934,\n",
      "       0.75496689, 0.75496689, 0.78145695, 0.78145695, 0.78807947,\n",
      "       0.78807947, 0.79470199, 0.79470199, 0.81456954, 0.81456954,\n",
      "       0.82119205, 0.82119205, 0.8410596 , 0.8410596 , 0.85430464,\n",
      "       0.85430464, 0.86092715, 0.86092715, 0.88741722, 0.88741722,\n",
      "       0.89403974, 0.89403974, 0.90066225, 0.90066225, 0.90728477,\n",
      "       0.90728477, 0.91390728, 0.91390728, 0.9205298 , 0.9205298 ,\n",
      "       0.92715232, 0.92715232, 0.93377483, 0.93377483, 0.94039735,\n",
      "       0.94039735, 0.94701987, 0.94701987, 0.95364238, 0.95364238,\n",
      "       0.9602649 , 0.9602649 , 0.96688742, 0.96688742, 0.97350993,\n",
      "       0.97350993, 0.98013245, 0.98013245, 0.98675497, 0.98675497,\n",
      "       0.98675497, 0.98675497, 0.99337748, 0.99337748, 1.        ,\n",
      "       1.        ]), array([          inf, 9.2605358e-01, 9.1260391e-01, 9.0233344e-01,\n",
      "       8.8527346e-01, 8.5819453e-01, 8.5749912e-01, 8.5453528e-01,\n",
      "       8.5006028e-01, 8.4320629e-01, 8.4178996e-01, 8.3102220e-01,\n",
      "       8.3063245e-01, 8.1393880e-01, 8.1347483e-01, 8.1312710e-01,\n",
      "       8.1227183e-01, 8.0546981e-01, 8.0263036e-01, 8.0026484e-01,\n",
      "       7.9949099e-01, 7.9709166e-01, 7.9602450e-01, 7.9583341e-01,\n",
      "       7.9514486e-01, 7.9401016e-01, 7.9351550e-01, 7.9211664e-01,\n",
      "       7.8716081e-01, 7.8469920e-01, 7.8332567e-01, 7.8289330e-01,\n",
      "       7.8205752e-01, 7.7924150e-01, 7.7899647e-01, 7.7268320e-01,\n",
      "       7.7201807e-01, 7.6462162e-01, 7.6162225e-01, 7.6062143e-01,\n",
      "       7.5894433e-01, 7.5378656e-01, 7.5336534e-01, 7.4669874e-01,\n",
      "       7.4464059e-01, 7.3092842e-01, 7.2772950e-01, 7.2590190e-01,\n",
      "       7.2430319e-01, 7.2063810e-01, 7.2019482e-01, 7.1134615e-01,\n",
      "       7.1100658e-01, 6.9270295e-01, 6.8887192e-01, 6.8628061e-01,\n",
      "       6.8222350e-01, 6.7608619e-01, 6.7384177e-01, 6.7220181e-01,\n",
      "       6.7129248e-01, 6.6987562e-01, 6.6415566e-01, 6.6034698e-01,\n",
      "       6.5627682e-01, 6.5588254e-01, 6.5327460e-01, 6.5099186e-01,\n",
      "       6.5003079e-01, 6.4281487e-01, 6.4000869e-01, 6.3579249e-01,\n",
      "       6.3478935e-01, 6.2020391e-01, 6.1348498e-01, 6.0616392e-01,\n",
      "       5.9664744e-01, 5.9591430e-01, 5.7963908e-01, 5.7508010e-01,\n",
      "       5.6501162e-01, 5.6075096e-01, 5.2988046e-01, 5.1941013e-01,\n",
      "       4.3769753e-01, 4.3761671e-01, 3.2859743e-01, 3.2373241e-01,\n",
      "       2.6954767e-01, 2.6510304e-01, 1.9323964e-01, 1.9059484e-01,\n",
      "       1.6291517e-01, 1.6217509e-01, 9.0221643e-02, 8.7586358e-02,\n",
      "       4.9092419e-02, 4.6875510e-02, 2.4142778e-02, 2.4085054e-02,\n",
      "       1.2766932e-02, 1.2744361e-02, 1.9672306e-03, 1.9651654e-03,\n",
      "       8.6464366e-04, 8.6444669e-04, 8.4160670e-04, 8.4107806e-04,\n",
      "       6.9778634e-04, 6.9759687e-04, 9.4371126e-07], dtype=float32))\n"
     ]
    }
   ],
   "source": [
    "print(roc_curve(all_labels, all_preds_probs))"
   ]
  },
  {
   "cell_type": "code",
   "execution_count": 15,
   "metadata": {},
   "outputs": [
    {
     "data": {
      "image/png": "[encoded data removed]",
      "text/plain": [
       "<Figure size 800x600 with 1 Axes>"
      ]
     },
     "metadata": {},
     "output_type": "display_data"
    },
    {
     "name": "stdout",
     "output_type": "stream",
     "text": [
      "AUROC: 0.9773\n"
     ]
    }
   ],
   "source": [
    "# 예측 확률을 저장할 리스트\n",
    "all_preds_probs = []\n",
    "\n",
    "# 모델을 평가 모드로 설정\n",
    "model.eval()\n",
    "\n",
    "# 테스트 데이터에 대한 예측 확률 수행\n",
    "with torch.no_grad():\n",
    "    for inputs, _ in test_loader:\n",
    "        inputs = inputs.to(device)\n",
    "        outputs = model(inputs)\n",
    "        # sigmoid를 사용하여 확률을 계산\n",
    "        probs = torch.sigmoid(outputs)\n",
    "        all_preds_probs.extend(probs.cpu().numpy())\n",
    "\n",
    "# 실제 레이블과 예측 확률을 사용하여 ROC 커브 계산\n",
    "fpr, tpr, _ = roc_curve(all_labels, all_preds_probs)\n",
    "roc_auc = auc(fpr, tpr)\n",
    "\n",
    "# AUROC 그래프를 그립니다.\n",
    "plt.figure(figsize=(8, 6))\n",
    "plt.plot(fpr, tpr, color='darkorange', lw=2, label='ROC curve (area = %0.4f)' % roc_auc)\n",
    "plt.plot([0, 1], [0, 1], color='navy', lw=2, linestyle='--')\n",
    "plt.xlim([0.0, 1.0])\n",
    "plt.ylim([0.0, 1.05])\n",
    "plt.xlabel('False Positive Rate')\n",
    "plt.ylabel('True Positive Rate')\n",
    "plt.title('ROC Curve')\n",
    "plt.legend(loc=\"lower right\")\n",
    "plt.show()\n",
    "\n",
    "# AUROC 점수를 출력합니다.\n",
    "print(f'AUROC: {roc_auc:.4f}')\n"
   ]
  },
  {
   "attachments": {},
   "cell_type": "markdown",
   "metadata": {},
   "source": [
    "## 2-3 모델 타겟 예측"
   ]
  },
  {
   "cell_type": "code",
   "execution_count": 16,
   "metadata": {},
   "outputs": [],
   "source": [
    "# custom_file 폴더에서 lead1_signals 데이터 로드\n",
    "lead1_signals = np.load('./custom_file/annie_sph_lead1.npy')\n",
    "\n",
    "\n",
    "# 타겟의 라벨데이터 \n",
    "labels = df_sph['label'].values\n",
    "\n",
    "\n",
    "# 데이터 정규화\n",
    "lead1_signals_normalized = (lead1_signals - lead1_signals.mean()) / (lead1_signals.std()+1e-7)\n",
    "\n",
    "\n",
    "# 데이터셋을 텐서로 변환\n",
    "target_X = torch.Tensor(lead1_signals_normalized)\n",
    "target_y = torch.Tensor(labels).long()  \n",
    "\n",
    "\n",
    "\n",
    "# 데이터 분할\n",
    "#X_train, X_temp, y_train, y_temp = train_test_split(X, y, test_size=0.2, random_state=42, stratify=y)\n",
    "#X_val, X_test, y_val, y_test = train_test_split(X_temp, y_temp, test_size=0.5, random_state=42, stratify=y_temp)\n",
    "\n",
    "# 채널 수를 1로 추가_GOOD\n",
    "#X_train = X_train.unsqueeze(1)\n",
    "#X_val = X_val.unsqueeze(1)\n",
    "#X_test = X_test.unsqueeze(1)\n",
    "\n",
    "target_X=target_X.unsqueeze(1)\n",
    "\n",
    "\n",
    "\n",
    "# DataLoader 생성\n",
    "#train_data = TensorDataset(X_train, y_train)\n",
    "#val_data = TensorDataset(X_val, y_val)\n",
    "#test_data = TensorDataset(X_test, y_test)\n",
    "\n",
    "target_data=TensorDataset(target_X, target_y)\n",
    "\n",
    "batch_size = 32\n",
    "\n",
    "#train_loader = DataLoader(train_data, shuffle=True, batch_size=batch_size)\n",
    "#val_loader = DataLoader(val_data, batch_size=batch_size)\n",
    "#test_loader = DataLoader(test_data, batch_size=batch_size)\n",
    "\n",
    "target_data_loader=DataLoader(target_data, shuffle=True, batch_size=batch_size)"
   ]
  },
  {
   "cell_type": "code",
   "execution_count": 21,
   "metadata": {},
   "outputs": [
    {
     "name": "stdout",
     "output_type": "stream",
     "text": [
      "torch.Size([25770, 1, 5000])\n",
      "torch.Size([25770])\n"
     ]
    }
   ],
   "source": [
    "print(target_X.shape)\n",
    "print(target_y.shape)\n"
   ]
  },
  {
   "cell_type": "code",
   "execution_count": 23,
   "metadata": {},
   "outputs": [
    {
     "name": "stderr",
     "output_type": "stream",
     "text": [
      "Testing: 100%|██████████| 806/806 [00:03<00:00, 211.54it/s]\n"
     ]
    },
    {
     "name": "stdout",
     "output_type": "stream",
     "text": [
      "Test Accuracy: 97.38% - Test AUROC: 0.5002\n"
     ]
    }
   ],
   "source": [
    "# 테스트 데이터 루프\n",
    "model.eval()\n",
    "test_preds = []\n",
    "test_targets = []\n",
    "with torch.no_grad():\n",
    "    for inputs, labels in tqdm(target_data_loader, desc=f\"Testing\"):\n",
    "        inputs, labels = inputs.to(device), labels.to(device)\n",
    "        outputs = model(inputs)\n",
    "        test_preds.extend(torch.sigmoid(outputs).view(-1).cpu().detach().numpy())\n",
    "        test_targets.extend(labels.cpu().numpy())\n",
    "\n",
    "test_accuracy = accuracy_score(test_targets, np.round(test_preds))\n",
    "test_auroc = roc_auc_score(test_targets, test_preds)\n",
    "print(f'Test Accuracy: {test_accuracy * 100:.2f}% - Test AUROC: {test_auroc:.4f}')"
   ]
  },
  {
   "cell_type": "code",
   "execution_count": 24,
   "metadata": {},
   "outputs": [
    {
     "data": {
      "image/png": "[encoded data removed]",
      "text/plain": [
       "<Figure size 800x600 with 1 Axes>"
      ]
     },
     "metadata": {},
     "output_type": "display_data"
    },
    {
     "name": "stdout",
     "output_type": "stream",
     "text": [
      "AUROC: 0.5002\n"
     ]
    }
   ],
   "source": [
    "# 예측 확률을 저장할 리스트\n",
    "all_preds_probs = []\n",
    "all_labels = []\n",
    "# 모델을 평가 모드로 설정\n",
    "model.eval()\n",
    "\n",
    "# 테스트 데이터에 대한 예측 확률 수행\n",
    "with torch.no_grad():\n",
    "    for inputs, labels in target_data_loader:\n",
    "        inputs, labels = inputs.to(device), labels.to(device)\n",
    "        outputs = model(inputs)\n",
    "        # sigmoid를 사용하여 확률을 계산\n",
    "        all_labels.extend(labels.cpu().numpy())\n",
    "        probs = torch.sigmoid(outputs)\n",
    "        all_preds_probs.extend(probs.cpu().numpy())\n",
    "\n",
    "# 실제 레이블과 예측 확률을 사용하여 ROC 커브 계산\n",
    "fpr, tpr, _ = roc_curve(all_labels, all_preds_probs)\n",
    "roc_auc = auc(fpr, tpr)\n",
    "\n",
    "# AUROC 그래프를 그립니다.\n",
    "plt.figure(figsize=(8, 6))\n",
    "plt.plot(fpr, tpr, color='darkorange', lw=2, label='ROC curve (area = %0.4f)' % roc_auc)\n",
    "plt.plot([0, 1], [0, 1], color='navy', lw=2, linestyle='--')\n",
    "plt.xlim([0.0, 1.0])\n",
    "plt.ylim([0.0, 1.05])\n",
    "plt.xlabel('False Positive Rate')\n",
    "plt.ylabel('True Positive Rate')\n",
    "plt.title('ROC Curve')\n",
    "plt.legend(loc=\"lower right\")\n",
    "plt.show()\n",
    "\n",
    "# AUROC 점수를 출력합니다.\n",
    "print(f'AUROC: {roc_auc:.4f}')"
   ]
  },
  {
   "cell_type": "code",
   "execution_count": 26,
   "metadata": {},
   "outputs": [
    {
     "name": "stdout",
     "output_type": "stream",
     "text": [
      "torch.Size([10, 1])\n"
     ]
    }
   ],
   "source": [
    "print(outputs.shape)"
   ]
  },
  {
   "cell_type": "code",
   "execution_count": null,
   "metadata": {},
   "outputs": [],
   "source": []
  }
 ],
 "metadata": {
  "kernelspec": {
   "display_name": "Python 3",
   "language": "python",
   "name": "python3"
  },
  "language_info": {
   "codemirror_mode": {
    "name": "ipython",
    "version": 3
   },
   "file_extension": ".py",
   "mimetype": "text/x-python",
   "name": "python",
   "nbconvert_exporter": "python",
   "pygments_lexer": "ipython3",
   "version": "3.8.10"
  },
  "orig_nbformat": 4
 },
 "nbformat": 4,
 "nbformat_minor": 2
}
