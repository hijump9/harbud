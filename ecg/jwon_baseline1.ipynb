{
 "cells": [
  {
   "attachments": {},
   "cell_type": "markdown",
   "metadata": {},
   "source": [
    "# 0 필요한 라이브러리 임포트"
   ]
  },
  {
   "cell_type": "code",
   "execution_count": 3,
   "metadata": {},
   "outputs": [],
   "source": [
    "# 필요한 라이브러리를 임포트합니다.\n",
    "import pandas as pd  # 데이터 조작 및 분석을 위한 라이브러리\n",
    "import numpy as np  # 수치 계산을 위한 라이브러리\n",
    "import wfdb  # 심전도 데이터를 읽기 위한 라이브러리\n",
    "import ast  # 문자열 형태의 파이썬 표현식을 파싱하기 위한 라이브러리\n",
    "from tqdm import tqdm  # 반복 작업의 진행 상황을 시각적으로 표시하기 위한 라이브러리\n",
    "import warnings; warnings.filterwarnings('ignore')  # 경고 메시지를 무시하기 위한 설정\n",
    "from IPython.display import display  # Jupyter 노트북에서 데이터를 깔끔하게 보여주기 위한 함수\n",
    "from glob import glob # 하위 디렉토리에 파일을 가져와서 다루기위한 라이브러리 \n",
    "import os # 현재 워킹디렉토리의 경로와 파일을 다루기 위한 라이브러리 \n",
    "import h5py #.h5파일을 다루기 위한 라이브러리 \n",
    "\n",
    "# 데이터 시각화를 위한 라이브러리를 임포트합니다.\n",
    "import matplotlib.pyplot as plt  # 그래프를 그리기 위한 라이브러리\n",
    "import seaborn as sns  # matplotlib 기반의 고급 시각화 라이브러리\n",
    "\n",
    "#머신러닝을 위한 scikit-learn 임포트 \n",
    "from sklearn.ensemble import RandomForestClassifier\n",
    "from sklearn.model_selection import train_test_split, GridSearchCV\n",
    "from sklearn.metrics import classification_report"
   ]
  },
  {
   "attachments": {},
   "cell_type": "markdown",
   "metadata": {},
   "source": [
    "# 1. eda"
   ]
  },
  {
   "cell_type": "code",
   "execution_count": null,
   "metadata": {},
   "outputs": [],
   "source": []
  },
  {
   "attachments": {},
   "cell_type": "markdown",
   "metadata": {},
   "source": [
    "# 2. data preprocessing"
   ]
  },
  {
   "attachments": {},
   "cell_type": "markdown",
   "metadata": {},
   "source": [
    "# 3. model 생성 및 학습 \n",
    "- 라이브러리는 pytorch를 사용 "
   ]
  },
  {
   "attachments": {},
   "cell_type": "markdown",
   "metadata": {},
   "source": [
    "# 4. model  평가 및 고도화\n",
    "- 하이퍼 파라미터 튜닝\n",
    "- 드롭아웃\n",
    "- 정규화 \n",
    "- 리샘플링\n",
    "- optimizer(최적화)\n"
   ]
  },
  {
   "cell_type": "markdown",
   "metadata": {},
   "source": []
  }
 ],
 "metadata": {
  "kernelspec": {
   "display_name": "Python 3",
   "language": "python",
   "name": "python3"
  },
  "language_info": {
   "codemirror_mode": {
    "name": "ipython",
    "version": 3
   },
   "file_extension": ".py",
   "mimetype": "text/x-python",
   "name": "python",
   "nbconvert_exporter": "python",
   "pygments_lexer": "ipython3",
   "version": "3.8.10"
  },
  "orig_nbformat": 4
 },
 "nbformat": 4,
 "nbformat_minor": 2
}
