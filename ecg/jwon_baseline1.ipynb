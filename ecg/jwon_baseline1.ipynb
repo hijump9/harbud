{
 "cells": [
  {
   "attachments": {},
   "cell_type": "markdown",
   "metadata": {},
   "source": [
    "# 0 필요한 라이브러리 임포트"
   ]
  },
  {
   "cell_type": "code",
   "execution_count": 1,
   "metadata": {},
   "outputs": [],
   "source": [
    "# 필요한 라이브러리를 임포트합니다.\n",
    "import pandas as pd  # 데이터 조작 및 분석을 위한 라이브러리\n",
    "import numpy as np  # 수치 계산을 위한 라이브러리\n",
    "import wfdb  # 심전도 데이터를 읽기 위한 라이브러리\n",
    "import ast  # 문자열 형태의 파이썬 표현식을 파싱하기 위한 라이브러리\n",
    "from tqdm import tqdm  # 반복 작업의 진행 상황을 시각적으로 표시하기 위한 라이브러리\n",
    "import warnings; warnings.filterwarnings('ignore')  # 경고 메시지를 무시하기 위한 설정\n",
    "from IPython.display import display  # Jupyter 노트북에서 데이터를 깔끔하게 보여주기 위한 함수\n",
    "from glob import glob # 하위 디렉토리에 파일을 가져와서 다루기위한 라이브러리 \n",
    "import os # 현재 워킹디렉토리의 경로와 파일을 다루기 위한 라이브러리 \n",
    "import h5py #.h5파일을 다루기 위한 라이브러리 \n",
    "import gc #가비치 컬렉터를 다루는 라이브러리\n",
    "\n",
    "# 데이터 시각화를 위한 라이브러리를 임포트합니다.\n",
    "import matplotlib.pyplot as plt  # 그래프를 그리기 위한 라이브러리\n",
    "import seaborn as sns  # matplotlib 기반의 고급 시각화 라이브러리\n",
    "\n",
    "#머신러닝을 위한 scikit-learn 임포트 \n",
    "from sklearn.ensemble import RandomForestClassifier\n",
    "from sklearn.model_selection import train_test_split, GridSearchCV\n",
    "from sklearn.metrics import classification_report"
   ]
  },
  {
   "cell_type": "code",
   "execution_count": 132,
   "metadata": {},
   "outputs": [],
   "source": [
    "import os\n",
    "os.environ['CUDA_LAUNCH_BLOCKING'] = \"1\"\n",
    "os.environ[\"CUDA_VISIBLE_DEVICES\"] = \"0\""
   ]
  },
  {
   "cell_type": "code",
   "execution_count": null,
   "metadata": {},
   "outputs": [
    {
     "ename": "",
     "evalue": "",
     "output_type": "error",
     "traceback": [
      "\u001b[1;31mnotebook controller is DISPOSED. \n",
      "\u001b[1;31m자세한 내용은 Jupyter <a href='command:jupyter.viewOutput'>로그</a>를 참조하세요."
     ]
    }
   ],
   "source": [
    "#파이토치에서 gpu를 사용할수 있는지 확인하기 \n",
    "print(torch.cuda.is_available())\n",
    "\n",
    "# 사용가능하다면 사용하기 \n",
    "device = torch.device('cuda:0') if torch.cuda.is_available() else torch.device('cpu')"
   ]
  },
  {
   "attachments": {},
   "cell_type": "markdown",
   "metadata": {},
   "source": [
    "# 1. eda\n",
    "- 1-1 데이터 불러오기 및 변수 생성하기  "
   ]
  },
  {
   "attachments": {},
   "cell_type": "markdown",
   "metadata": {},
   "source": [
    "## 1-1 데이터 불러오기 및 변수 생성하기  "
   ]
  },
  {
   "attachments": {},
   "cell_type": "markdown",
   "metadata": {},
   "source": [
    "- df_ptb: ptb메타 데이터 \n",
    "- df_sph: sph 메타데이터 \n",
    "- df_ptb_lead1: ptb-xl lead1 데이터 \n",
    "- df_sph_lead1: sph lead1 데이터"
   ]
  },
  {
   "cell_type": "code",
   "execution_count": null,
   "metadata": {},
   "outputs": [
    {
     "data": {
      "text/plain": [
       "'/root/harbud/ecg'"
      ]
     },
     "execution_count": 2,
     "metadata": {},
     "output_type": "execute_result"
    },
    {
     "ename": "",
     "evalue": "",
     "output_type": "error",
     "traceback": [
      "\u001b[1;31mnotebook controller is DISPOSED. \n",
      "\u001b[1;31m자세한 내용은 Jupyter <a href='command:jupyter.viewOutput'>로그</a>를 참조하세요."
     ]
    }
   ],
   "source": [
    "os.getcwd()\n"
   ]
  },
  {
   "cell_type": "code",
   "execution_count": 2,
   "metadata": {},
   "outputs": [
    {
     "name": "stderr",
     "output_type": "stream",
     "text": [
      "100%|██████████| 21799/21799 [01:50<00:00, 196.70it/s]\n"
     ]
    },
    {
     "name": "stdout",
     "output_type": "stream",
     "text": [
      "Final array shape: (21799, 5000)\n"
     ]
    }
   ],
   "source": [
    "# 데이터 프레임 로드\n",
    "path = './ptb_xl_data/'\n",
    "df_ptb = pd.read_csv(path + 'ptbxl_database.csv', index_col='ecg_id')\n",
    "\n",
    "# 파일 이름 리스트 변환\n",
    "filenames = df_ptb['filename_hr'].tolist()\n",
    "base_path = './ptb_xl_data/'\n",
    "\n",
    "# Lead I 신호를 저장할 배열 초기화\n",
    "lead1_signals = []\n",
    "\n",
    "# 각 파일에서 Lead I 신호 추출\n",
    "for filename in tqdm(filenames):\n",
    "    signal, meta = wfdb.rdsamp(base_path + filename)\n",
    "\n",
    "    # 신호 데이터 타입을 float32로 변경\n",
    "    # signal = signal.astype(np.float32)\n",
    "    \n",
    "    lead1 = signal[:, 0]  # Lead I 신호 추출\n",
    "    lead1_signals.append(lead1)\n",
    "\n",
    "    # 사용하지 않는 변수 해제\n",
    "    # del signal, meta\n",
    "    # gc.collect()  # 가비지 컬렉터 실행\n",
    "\n",
    "\n",
    "# 배열을 numpy 배열로 변환\n",
    "df_ptb_lead1 = np.array(lead1_signals)\n",
    "\n",
    "# 최종 배열 형태 확인\n",
    "print(\"Final array shape:\", df_ptb_lead1.shape)\n",
    "\n"
   ]
  },
  {
   "cell_type": "code",
   "execution_count": 3,
   "metadata": {},
   "outputs": [
    {
     "data": {
      "text/html": [
       "<div>\n",
       "<style scoped>\n",
       "    .dataframe tbody tr th:only-of-type {\n",
       "        vertical-align: middle;\n",
       "    }\n",
       "\n",
       "    .dataframe tbody tr th {\n",
       "        vertical-align: top;\n",
       "    }\n",
       "\n",
       "    .dataframe thead th {\n",
       "        text-align: right;\n",
       "    }\n",
       "</style>\n",
       "<table border=\"1\" class=\"dataframe\">\n",
       "  <thead>\n",
       "    <tr style=\"text-align: right;\">\n",
       "      <th></th>\n",
       "      <th>patient_id</th>\n",
       "      <th>age</th>\n",
       "      <th>sex</th>\n",
       "      <th>height</th>\n",
       "      <th>weight</th>\n",
       "      <th>nurse</th>\n",
       "      <th>site</th>\n",
       "      <th>device</th>\n",
       "      <th>recording_date</th>\n",
       "      <th>report</th>\n",
       "      <th>...</th>\n",
       "      <th>validated_by_human</th>\n",
       "      <th>baseline_drift</th>\n",
       "      <th>static_noise</th>\n",
       "      <th>burst_noise</th>\n",
       "      <th>electrodes_problems</th>\n",
       "      <th>extra_beats</th>\n",
       "      <th>pacemaker</th>\n",
       "      <th>strat_fold</th>\n",
       "      <th>filename_lr</th>\n",
       "      <th>filename_hr</th>\n",
       "    </tr>\n",
       "    <tr>\n",
       "      <th>ecg_id</th>\n",
       "      <th></th>\n",
       "      <th></th>\n",
       "      <th></th>\n",
       "      <th></th>\n",
       "      <th></th>\n",
       "      <th></th>\n",
       "      <th></th>\n",
       "      <th></th>\n",
       "      <th></th>\n",
       "      <th></th>\n",
       "      <th></th>\n",
       "      <th></th>\n",
       "      <th></th>\n",
       "      <th></th>\n",
       "      <th></th>\n",
       "      <th></th>\n",
       "      <th></th>\n",
       "      <th></th>\n",
       "      <th></th>\n",
       "      <th></th>\n",
       "      <th></th>\n",
       "    </tr>\n",
       "  </thead>\n",
       "  <tbody>\n",
       "    <tr>\n",
       "      <th>1</th>\n",
       "      <td>15709.0</td>\n",
       "      <td>56.0</td>\n",
       "      <td>1</td>\n",
       "      <td>NaN</td>\n",
       "      <td>63.0</td>\n",
       "      <td>2.0</td>\n",
       "      <td>0.0</td>\n",
       "      <td>CS-12   E</td>\n",
       "      <td>1984-11-09 09:17:34</td>\n",
       "      <td>sinusrhythmus periphere niederspannung</td>\n",
       "      <td>...</td>\n",
       "      <td>True</td>\n",
       "      <td>NaN</td>\n",
       "      <td>, I-V1,</td>\n",
       "      <td>NaN</td>\n",
       "      <td>NaN</td>\n",
       "      <td>NaN</td>\n",
       "      <td>NaN</td>\n",
       "      <td>3</td>\n",
       "      <td>records100/00000/00001_lr</td>\n",
       "      <td>records500/00000/00001_hr</td>\n",
       "    </tr>\n",
       "    <tr>\n",
       "      <th>2</th>\n",
       "      <td>13243.0</td>\n",
       "      <td>19.0</td>\n",
       "      <td>0</td>\n",
       "      <td>NaN</td>\n",
       "      <td>70.0</td>\n",
       "      <td>2.0</td>\n",
       "      <td>0.0</td>\n",
       "      <td>CS-12   E</td>\n",
       "      <td>1984-11-14 12:55:37</td>\n",
       "      <td>sinusbradykardie sonst normales ekg</td>\n",
       "      <td>...</td>\n",
       "      <td>True</td>\n",
       "      <td>NaN</td>\n",
       "      <td>NaN</td>\n",
       "      <td>NaN</td>\n",
       "      <td>NaN</td>\n",
       "      <td>NaN</td>\n",
       "      <td>NaN</td>\n",
       "      <td>2</td>\n",
       "      <td>records100/00000/00002_lr</td>\n",
       "      <td>records500/00000/00002_hr</td>\n",
       "    </tr>\n",
       "    <tr>\n",
       "      <th>3</th>\n",
       "      <td>20372.0</td>\n",
       "      <td>37.0</td>\n",
       "      <td>1</td>\n",
       "      <td>NaN</td>\n",
       "      <td>69.0</td>\n",
       "      <td>2.0</td>\n",
       "      <td>0.0</td>\n",
       "      <td>CS-12   E</td>\n",
       "      <td>1984-11-15 12:49:10</td>\n",
       "      <td>sinusrhythmus normales ekg</td>\n",
       "      <td>...</td>\n",
       "      <td>True</td>\n",
       "      <td>NaN</td>\n",
       "      <td>NaN</td>\n",
       "      <td>NaN</td>\n",
       "      <td>NaN</td>\n",
       "      <td>NaN</td>\n",
       "      <td>NaN</td>\n",
       "      <td>5</td>\n",
       "      <td>records100/00000/00003_lr</td>\n",
       "      <td>records500/00000/00003_hr</td>\n",
       "    </tr>\n",
       "    <tr>\n",
       "      <th>4</th>\n",
       "      <td>17014.0</td>\n",
       "      <td>24.0</td>\n",
       "      <td>0</td>\n",
       "      <td>NaN</td>\n",
       "      <td>82.0</td>\n",
       "      <td>2.0</td>\n",
       "      <td>0.0</td>\n",
       "      <td>CS-12   E</td>\n",
       "      <td>1984-11-15 13:44:57</td>\n",
       "      <td>sinusrhythmus normales ekg</td>\n",
       "      <td>...</td>\n",
       "      <td>True</td>\n",
       "      <td>, II,III,AVF</td>\n",
       "      <td>NaN</td>\n",
       "      <td>NaN</td>\n",
       "      <td>NaN</td>\n",
       "      <td>NaN</td>\n",
       "      <td>NaN</td>\n",
       "      <td>3</td>\n",
       "      <td>records100/00000/00004_lr</td>\n",
       "      <td>records500/00000/00004_hr</td>\n",
       "    </tr>\n",
       "    <tr>\n",
       "      <th>5</th>\n",
       "      <td>17448.0</td>\n",
       "      <td>19.0</td>\n",
       "      <td>1</td>\n",
       "      <td>NaN</td>\n",
       "      <td>70.0</td>\n",
       "      <td>2.0</td>\n",
       "      <td>0.0</td>\n",
       "      <td>CS-12   E</td>\n",
       "      <td>1984-11-17 10:43:15</td>\n",
       "      <td>sinusrhythmus normales ekg</td>\n",
       "      <td>...</td>\n",
       "      <td>True</td>\n",
       "      <td>, III,AVR,AVF</td>\n",
       "      <td>NaN</td>\n",
       "      <td>NaN</td>\n",
       "      <td>NaN</td>\n",
       "      <td>NaN</td>\n",
       "      <td>NaN</td>\n",
       "      <td>4</td>\n",
       "      <td>records100/00000/00005_lr</td>\n",
       "      <td>records500/00000/00005_hr</td>\n",
       "    </tr>\n",
       "    <tr>\n",
       "      <th>...</th>\n",
       "      <td>...</td>\n",
       "      <td>...</td>\n",
       "      <td>...</td>\n",
       "      <td>...</td>\n",
       "      <td>...</td>\n",
       "      <td>...</td>\n",
       "      <td>...</td>\n",
       "      <td>...</td>\n",
       "      <td>...</td>\n",
       "      <td>...</td>\n",
       "      <td>...</td>\n",
       "      <td>...</td>\n",
       "      <td>...</td>\n",
       "      <td>...</td>\n",
       "      <td>...</td>\n",
       "      <td>...</td>\n",
       "      <td>...</td>\n",
       "      <td>...</td>\n",
       "      <td>...</td>\n",
       "      <td>...</td>\n",
       "      <td>...</td>\n",
       "    </tr>\n",
       "    <tr>\n",
       "      <th>21833</th>\n",
       "      <td>17180.0</td>\n",
       "      <td>67.0</td>\n",
       "      <td>1</td>\n",
       "      <td>NaN</td>\n",
       "      <td>NaN</td>\n",
       "      <td>1.0</td>\n",
       "      <td>2.0</td>\n",
       "      <td>AT-60    3</td>\n",
       "      <td>2001-05-31 09:14:35</td>\n",
       "      <td>ventrikulÄre extrasystole(n) sinustachykardie ...</td>\n",
       "      <td>...</td>\n",
       "      <td>True</td>\n",
       "      <td>NaN</td>\n",
       "      <td>, alles,</td>\n",
       "      <td>NaN</td>\n",
       "      <td>NaN</td>\n",
       "      <td>1ES</td>\n",
       "      <td>NaN</td>\n",
       "      <td>7</td>\n",
       "      <td>records100/21000/21833_lr</td>\n",
       "      <td>records500/21000/21833_hr</td>\n",
       "    </tr>\n",
       "    <tr>\n",
       "      <th>21834</th>\n",
       "      <td>20703.0</td>\n",
       "      <td>300.0</td>\n",
       "      <td>0</td>\n",
       "      <td>NaN</td>\n",
       "      <td>NaN</td>\n",
       "      <td>1.0</td>\n",
       "      <td>2.0</td>\n",
       "      <td>AT-60    3</td>\n",
       "      <td>2001-06-05 11:33:39</td>\n",
       "      <td>sinusrhythmus lagetyp normal qrs(t) abnorm    ...</td>\n",
       "      <td>...</td>\n",
       "      <td>True</td>\n",
       "      <td>NaN</td>\n",
       "      <td>NaN</td>\n",
       "      <td>NaN</td>\n",
       "      <td>NaN</td>\n",
       "      <td>NaN</td>\n",
       "      <td>NaN</td>\n",
       "      <td>4</td>\n",
       "      <td>records100/21000/21834_lr</td>\n",
       "      <td>records500/21000/21834_hr</td>\n",
       "    </tr>\n",
       "    <tr>\n",
       "      <th>21835</th>\n",
       "      <td>19311.0</td>\n",
       "      <td>59.0</td>\n",
       "      <td>1</td>\n",
       "      <td>NaN</td>\n",
       "      <td>NaN</td>\n",
       "      <td>1.0</td>\n",
       "      <td>2.0</td>\n",
       "      <td>AT-60    3</td>\n",
       "      <td>2001-06-08 10:30:27</td>\n",
       "      <td>sinusrhythmus lagetyp normal t abnorm in anter...</td>\n",
       "      <td>...</td>\n",
       "      <td>True</td>\n",
       "      <td>NaN</td>\n",
       "      <td>, I-AVR,</td>\n",
       "      <td>NaN</td>\n",
       "      <td>NaN</td>\n",
       "      <td>NaN</td>\n",
       "      <td>NaN</td>\n",
       "      <td>2</td>\n",
       "      <td>records100/21000/21835_lr</td>\n",
       "      <td>records500/21000/21835_hr</td>\n",
       "    </tr>\n",
       "    <tr>\n",
       "      <th>21836</th>\n",
       "      <td>8873.0</td>\n",
       "      <td>64.0</td>\n",
       "      <td>1</td>\n",
       "      <td>NaN</td>\n",
       "      <td>NaN</td>\n",
       "      <td>1.0</td>\n",
       "      <td>2.0</td>\n",
       "      <td>AT-60    3</td>\n",
       "      <td>2001-06-09 18:21:49</td>\n",
       "      <td>supraventrikulÄre extrasystole(n) sinusrhythmu...</td>\n",
       "      <td>...</td>\n",
       "      <td>True</td>\n",
       "      <td>NaN</td>\n",
       "      <td>NaN</td>\n",
       "      <td>NaN</td>\n",
       "      <td>NaN</td>\n",
       "      <td>SVES</td>\n",
       "      <td>NaN</td>\n",
       "      <td>8</td>\n",
       "      <td>records100/21000/21836_lr</td>\n",
       "      <td>records500/21000/21836_hr</td>\n",
       "    </tr>\n",
       "    <tr>\n",
       "      <th>21837</th>\n",
       "      <td>11744.0</td>\n",
       "      <td>68.0</td>\n",
       "      <td>0</td>\n",
       "      <td>NaN</td>\n",
       "      <td>NaN</td>\n",
       "      <td>1.0</td>\n",
       "      <td>2.0</td>\n",
       "      <td>AT-60    3</td>\n",
       "      <td>2001-06-11 16:43:01</td>\n",
       "      <td>sinusrhythmus p-sinistrocardiale lagetyp norma...</td>\n",
       "      <td>...</td>\n",
       "      <td>True</td>\n",
       "      <td>NaN</td>\n",
       "      <td>, I-AVL,</td>\n",
       "      <td>NaN</td>\n",
       "      <td>NaN</td>\n",
       "      <td>NaN</td>\n",
       "      <td>NaN</td>\n",
       "      <td>9</td>\n",
       "      <td>records100/21000/21837_lr</td>\n",
       "      <td>records500/21000/21837_hr</td>\n",
       "    </tr>\n",
       "  </tbody>\n",
       "</table>\n",
       "<p>21799 rows × 27 columns</p>\n",
       "</div>"
      ],
      "text/plain": [
       "        patient_id    age  sex  height  weight  nurse  site      device  \\\n",
       "ecg_id                                                                    \n",
       "1          15709.0   56.0    1     NaN    63.0    2.0   0.0   CS-12   E   \n",
       "2          13243.0   19.0    0     NaN    70.0    2.0   0.0   CS-12   E   \n",
       "3          20372.0   37.0    1     NaN    69.0    2.0   0.0   CS-12   E   \n",
       "4          17014.0   24.0    0     NaN    82.0    2.0   0.0   CS-12   E   \n",
       "5          17448.0   19.0    1     NaN    70.0    2.0   0.0   CS-12   E   \n",
       "...            ...    ...  ...     ...     ...    ...   ...         ...   \n",
       "21833      17180.0   67.0    1     NaN     NaN    1.0   2.0  AT-60    3   \n",
       "21834      20703.0  300.0    0     NaN     NaN    1.0   2.0  AT-60    3   \n",
       "21835      19311.0   59.0    1     NaN     NaN    1.0   2.0  AT-60    3   \n",
       "21836       8873.0   64.0    1     NaN     NaN    1.0   2.0  AT-60    3   \n",
       "21837      11744.0   68.0    0     NaN     NaN    1.0   2.0  AT-60    3   \n",
       "\n",
       "             recording_date  \\\n",
       "ecg_id                        \n",
       "1       1984-11-09 09:17:34   \n",
       "2       1984-11-14 12:55:37   \n",
       "3       1984-11-15 12:49:10   \n",
       "4       1984-11-15 13:44:57   \n",
       "5       1984-11-17 10:43:15   \n",
       "...                     ...   \n",
       "21833   2001-05-31 09:14:35   \n",
       "21834   2001-06-05 11:33:39   \n",
       "21835   2001-06-08 10:30:27   \n",
       "21836   2001-06-09 18:21:49   \n",
       "21837   2001-06-11 16:43:01   \n",
       "\n",
       "                                                   report  ...  \\\n",
       "ecg_id                                                     ...   \n",
       "1                  sinusrhythmus periphere niederspannung  ...   \n",
       "2                     sinusbradykardie sonst normales ekg  ...   \n",
       "3                              sinusrhythmus normales ekg  ...   \n",
       "4                              sinusrhythmus normales ekg  ...   \n",
       "5                              sinusrhythmus normales ekg  ...   \n",
       "...                                                   ...  ...   \n",
       "21833   ventrikulÄre extrasystole(n) sinustachykardie ...  ...   \n",
       "21834   sinusrhythmus lagetyp normal qrs(t) abnorm    ...  ...   \n",
       "21835   sinusrhythmus lagetyp normal t abnorm in anter...  ...   \n",
       "21836   supraventrikulÄre extrasystole(n) sinusrhythmu...  ...   \n",
       "21837   sinusrhythmus p-sinistrocardiale lagetyp norma...  ...   \n",
       "\n",
       "       validated_by_human  baseline_drift static_noise burst_noise  \\\n",
       "ecg_id                                                               \n",
       "1                    True             NaN    , I-V1,           NaN   \n",
       "2                    True             NaN          NaN         NaN   \n",
       "3                    True             NaN          NaN         NaN   \n",
       "4                    True    , II,III,AVF          NaN         NaN   \n",
       "5                    True   , III,AVR,AVF          NaN         NaN   \n",
       "...                   ...             ...          ...         ...   \n",
       "21833                True             NaN   , alles,           NaN   \n",
       "21834                True             NaN          NaN         NaN   \n",
       "21835                True             NaN   , I-AVR,           NaN   \n",
       "21836                True             NaN          NaN         NaN   \n",
       "21837                True             NaN   , I-AVL,           NaN   \n",
       "\n",
       "        electrodes_problems  extra_beats  pacemaker  strat_fold  \\\n",
       "ecg_id                                                            \n",
       "1                       NaN          NaN        NaN           3   \n",
       "2                       NaN          NaN        NaN           2   \n",
       "3                       NaN          NaN        NaN           5   \n",
       "4                       NaN          NaN        NaN           3   \n",
       "5                       NaN          NaN        NaN           4   \n",
       "...                     ...          ...        ...         ...   \n",
       "21833                   NaN          1ES        NaN           7   \n",
       "21834                   NaN          NaN        NaN           4   \n",
       "21835                   NaN          NaN        NaN           2   \n",
       "21836                   NaN         SVES        NaN           8   \n",
       "21837                   NaN          NaN        NaN           9   \n",
       "\n",
       "                      filename_lr                filename_hr  \n",
       "ecg_id                                                        \n",
       "1       records100/00000/00001_lr  records500/00000/00001_hr  \n",
       "2       records100/00000/00002_lr  records500/00000/00002_hr  \n",
       "3       records100/00000/00003_lr  records500/00000/00003_hr  \n",
       "4       records100/00000/00004_lr  records500/00000/00004_hr  \n",
       "5       records100/00000/00005_lr  records500/00000/00005_hr  \n",
       "...                           ...                        ...  \n",
       "21833   records100/21000/21833_lr  records500/21000/21833_hr  \n",
       "21834   records100/21000/21834_lr  records500/21000/21834_hr  \n",
       "21835   records100/21000/21835_lr  records500/21000/21835_hr  \n",
       "21836   records100/21000/21836_lr  records500/21000/21836_hr  \n",
       "21837   records100/21000/21837_lr  records500/21000/21837_hr  \n",
       "\n",
       "[21799 rows x 27 columns]"
      ]
     },
     "execution_count": 3,
     "metadata": {},
     "output_type": "execute_result"
    }
   ],
   "source": [
    "df_ptb"
   ]
  },
  {
   "cell_type": "code",
   "execution_count": 4,
   "metadata": {},
   "outputs": [
    {
     "name": "stderr",
     "output_type": "stream",
     "text": [
      "100%|██████████| 25770/25770 [01:04<00:00, 398.00it/s]\n"
     ]
    },
    {
     "name": "stdout",
     "output_type": "stream",
     "text": [
      "Final array shape: (25770, 5000)\n"
     ]
    }
   ],
   "source": [
    "# .h5 파일 목록 가져오기\n",
    "filenames = sorted(glob(\"./sph_data/records_sph/*.h5\"))\n",
    "\n",
    "# 메타데이터 로드 및 파일명 열 추가\n",
    "df_sph = pd.read_csv(\"./sph_data/metadata.csv\")\n",
    "df_sph['filename'] = filenames\n",
    "\n",
    "# Lead I 신호를 저장할 배열 초기화\n",
    "lead1_signals_sph = []\n",
    "\n",
    "# 각 파일에서 Lead I 신호 추출\n",
    "for filename in tqdm(df_sph['filename']):\n",
    "    with h5py.File(filename, 'r') as f:\n",
    "        signal = f['ecg'][:].T\n",
    "\n",
    "    lead1 = signal[:, 0]  # Lead I 신호 추출\n",
    "\n",
    "    # 데이터 길이에 따른 처리\n",
    "    if lead1.shape[0] == 5000:\n",
    "        pass\n",
    "    else:\n",
    "        start_idx = np.random.randint(0, lead1.shape[0] - 4999)\n",
    "        lead1 = lead1[start_idx:start_idx+5000]\n",
    "\n",
    "    lead1_signals_sph.append(lead1)\n",
    "\n",
    "# 배열을 numpy 배열로 변환\n",
    "df_sph_lead1 = np.array(lead1_signals_sph)\n",
    "\n",
    "# 최종 배열 형태 확인 및 저장\n",
    "print(\"Final array shape:\", df_sph_lead1.shape)"
   ]
  },
  {
   "cell_type": "code",
   "execution_count": 5,
   "metadata": {},
   "outputs": [
    {
     "data": {
      "text/plain": [
       "0"
      ]
     },
     "execution_count": 5,
     "metadata": {},
     "output_type": "execute_result"
    }
   ],
   "source": [
    "gc.collect()"
   ]
  },
  {
   "attachments": {},
   "cell_type": "markdown",
   "metadata": {},
   "source": [
    "# 2. data preprocessing\n",
    "- 2-1 df_ptb의 scp_codes를 이용하여 데이터 라벨링 \n",
    "- 2-2 df_sph의 심방세동 라벨링 "
   ]
  },
  {
   "attachments": {},
   "cell_type": "markdown",
   "metadata": {},
   "source": [
    "## 2-1 df_ptb의 데이터 라벨 생성 "
   ]
  },
  {
   "cell_type": "code",
   "execution_count": 6,
   "metadata": {},
   "outputs": [
    {
     "data": {
      "text/plain": [
       "label\n",
       "0    20285\n",
       "1     1514\n",
       "Name: count, dtype: int64"
      ]
     },
     "execution_count": 6,
     "metadata": {},
     "output_type": "execute_result"
    }
   ],
   "source": [
    "# str (문자열) 코드를 딕셔너리로 변환 \n",
    "df_ptb.scp_codes = df_ptb.scp_codes.apply(lambda x: ast.literal_eval(x))\n",
    "\n",
    "# 딕셔너리에서 라벨 추출 ()\n",
    "df_ptb.scp_codes = df_ptb.scp_codes.apply(lambda x: list(x.keys()))\n",
    "\n",
    "# 심방세동 라벨 컬럼 생성 (정답 컬럼)\n",
    "df_ptb['label'] = df_ptb.scp_codes.apply(lambda arr: 1 if 'AFIB' in arr else 0)\n",
    "\n",
    "# 밸류값 확인\n",
    "df_ptb.label.value_counts()"
   ]
  },
  {
   "attachments": {},
   "cell_type": "markdown",
   "metadata": {},
   "source": [
    "## 2-2 df_sph의 심방 세동 라벨링 "
   ]
  },
  {
   "cell_type": "code",
   "execution_count": 7,
   "metadata": {},
   "outputs": [
    {
     "data": {
      "text/plain": [
       "0         22;23\n",
       "1             1\n",
       "2             1\n",
       "3            23\n",
       "4           146\n",
       "          ...  \n",
       "25765       146\n",
       "25766        23\n",
       "25767       147\n",
       "25768    22;147\n",
       "25769        23\n",
       "Name: AHA_Code, Length: 25770, dtype: object"
      ]
     },
     "execution_count": 7,
     "metadata": {},
     "output_type": "execute_result"
    }
   ],
   "source": [
    "# df_sph의 AHA_Code 항목을 통해 질별 자료 확인 \n",
    "df_sph.AHA_Code"
   ]
  },
  {
   "cell_type": "code",
   "execution_count": 8,
   "metadata": {},
   "outputs": [
    {
     "data": {
      "text/plain": [
       "label\n",
       "0    25095\n",
       "1      675\n",
       "Name: count, dtype: int64"
      ]
     },
     "execution_count": 8,
     "metadata": {},
     "output_type": "execute_result"
    }
   ],
   "source": [
    "# 'AHA_Code' 컬럼의 각 값에 대해 '50'이 포함되어 있는지 확인하고, 'label' 컬럼 생성\n",
    "def check_contains_50(code):\n",
    "    # 공백을 없애고, ';' 또는 '+'로 분리\n",
    "    numbers = code.replace(' ', '').replace('+', ';').split(';')\n",
    "    # '50'이 포함되어 있는지 확인\n",
    "    return '50' in numbers\n",
    "# 'label' 컬럼 생성\n",
    "df_sph['label'] = df_sph['AHA_Code'].apply(check_contains_50).astype(int)\n",
    "\n",
    "#밸류값 확인 \n",
    "df_sph.label.value_counts()"
   ]
  },
  {
   "cell_type": "code",
   "execution_count": 9,
   "metadata": {},
   "outputs": [
    {
     "name": "stdout",
     "output_type": "stream",
     "text": [
      "(21799, 28)\n",
      "(21799, 5000)\n",
      "(25770, 9)\n",
      "(25770, 5000)\n"
     ]
    }
   ],
   "source": [
    "# 최종 데이터 샛 확인 \n",
    "print(df_ptb.shape)\n",
    "print(df_ptb_lead1.shape)\n",
    "print(df_sph.shape)\n",
    "print(df_sph_lead1.shape)"
   ]
  },
  {
   "attachments": {},
   "cell_type": "markdown",
   "metadata": {},
   "source": [
    "# 3. model 생성 및 학습 \n",
    "- 라이브러리는 pytorch를 사용 \n",
    "- 3-1 모델 셀렉팅 \n",
    "- 3-2 파이토치 데이터 로더 생성 \n",
    "- 3-3 모델 정의 \n",
    "- 3-4 학습 "
   ]
  },
  {
   "attachments": {},
   "cell_type": "markdown",
   "metadata": {},
   "source": [
    "## 3-1 모델 셀렉팅 "
   ]
  },
  {
   "attachments": {},
   "cell_type": "markdown",
   "metadata": {},
   "source": [
    "## 3-2 파이토치 데이터 로더"
   ]
  },
  {
   "cell_type": "code",
   "execution_count": 10,
   "metadata": {},
   "outputs": [],
   "source": [
    "#딥러닝 관련 파이토치 임포트\n",
    "\n",
    "import torch\n",
    "import torch.nn as nn\n",
    "import torch.nn.functional as F\n",
    " \n",
    "from torch.utils.data import TensorDataset # 텐서데이터셋\n",
    "from torch.utils.data import DataLoader # 데이터로더\n",
    "from torch.utils.data import Dataset # 데이터 셋"
   ]
  },
  {
   "cell_type": "code",
   "execution_count": null,
   "metadata": {},
   "outputs": [
    {
     "ename": "",
     "evalue": "",
     "output_type": "error",
     "traceback": [
      "\u001b[1;31mnotebook controller is DISPOSED. \n",
      "\u001b[1;31m자세한 내용은 Jupyter <a href='command:jupyter.viewOutput'>로그</a>를 참조하세요."
     ]
    }
   ],
   "source": [
    "# 커스텀 데이터 셋 정의 \n",
    "\n",
    "class CustomDataset(Dataset):\n",
    "    def __init__(self,X,y): # 데이터 셋 불러오기\n",
    "        self.train=X\n",
    "        self.label=y['label']\n",
    "\n",
    "    def __len__(self): \n",
    "        return len(self.label)\n",
    "\n",
    "    def __getitem__(self, idx): # 전체 x와 y 데이터 중에 해당 idx번째의 데이터를 가져옵니다.\n",
    "        label = self.label.iloc[idx]\n",
    "        return label"
   ]
  },
  {
   "cell_type": "code",
   "execution_count": null,
   "metadata": {},
   "outputs": [
    {
     "ename": "",
     "evalue": "",
     "output_type": "error",
     "traceback": [
      "\u001b[1;31mnotebook controller is DISPOSED. \n",
      "\u001b[1;31m자세한 내용은 Jupyter <a href='command:jupyter.viewOutput'>로그</a>를 참조하세요."
     ]
    }
   ],
   "source": [
    "# 커스텀 데이터 셋 만들기 \n",
    "coustomDataset=CustomDataset(df_ptb_lead1,df_ptb)"
   ]
  },
  {
   "cell_type": "code",
   "execution_count": null,
   "metadata": {},
   "outputs": [
    {
     "ename": "",
     "evalue": "",
     "output_type": "error",
     "traceback": [
      "\u001b[1;31mnotebook controller is DISPOSED. \n",
      "\u001b[1;31m자세한 내용은 Jupyter <a href='command:jupyter.viewOutput'>로그</a>를 참조하세요."
     ]
    }
   ],
   "source": [
    "#데이터 분할 \n",
    "train_size = int(0.8 * len(coustomDataset))\n",
    "\n",
    "test_size = len(coustomDataset) - train_size\n",
    "\n",
    "\n",
    "train_dataset, test_dataset = torch.utils.data.random_split(coustomDataset, [train_size, test_size])\n"
   ]
  },
  {
   "cell_type": "code",
   "execution_count": null,
   "metadata": {},
   "outputs": [
    {
     "ename": "",
     "evalue": "",
     "output_type": "error",
     "traceback": [
      "\u001b[1;31mnotebook controller is DISPOSED. \n",
      "\u001b[1;31m자세한 내용은 Jupyter <a href='command:jupyter.viewOutput'>로그</a>를 참조하세요."
     ]
    }
   ],
   "source": [
    "train_loader = torch.utils.data.DataLoader(train_dataset, batch_size=64,shuffle = True)\n",
    "validation_loader = torch.utils.data.DataLoader(test_dataset, batch_size=64,shuffle = False)\n",
    "\n"
   ]
  },
  {
   "cell_type": "code",
   "execution_count": 13,
   "metadata": {},
   "outputs": [],
   "source": [
    "## 보경님 코드 \n",
    "import torch\n",
    "from torch.utils.data import DataLoader, TensorDataset\n",
    "from sklearn.model_selection import train_test_split\n",
    "from sklearn.model_selection import StratifiedKFold\n",
    "\n",
    "\n",
    "# custom_file 폴더에서 lead1_signals 데이터 로드\n",
    "lead1_signals = np.load('./custom_file/annie_ptb_xl_lead1.npy')\n",
    "\n",
    "\n",
    "# 레이블 데이터 로드\n",
    "labels = df_ptb['label'].values\n",
    "\n",
    "\n",
    "# 데이터 정규화\n",
    "lead1_signals_normalized = (lead1_signals - lead1_signals.mean()) / (lead1_signals.std()+1e-7)\n",
    "\n",
    "\n",
    "# 데이터셋을 텐서로 변환\n",
    "X = torch.Tensor(lead1_signals_normalized)\n",
    "Y = torch.Tensor(labels)#.long()  # 레이블 데이터를 long 타입의 텐서로 변환\n",
    "\n",
    "\n",
    "# 데이터 분할\n",
    "X_train, X_test, Y_train, Y_test = train_test_split(X, Y, test_size=0.2, random_state=42)\n",
    "X_train, X_val, Y_train, Y_val = train_test_split(X_train, Y_train, test_size=0.25, random_state=42) # 0.25 x 0.8 = 0.2\n",
    "\n",
    "\n",
    "# 채널 수를 1로 추가_GOOD\n",
    "X_train = X_train.unsqueeze(1)\n",
    "X_val = X_val.unsqueeze(1)\n",
    "X_test = X_test.unsqueeze(1)\n",
    "\n",
    "\n",
    "# DataLoader 생성\n",
    "train_data = TensorDataset(X_train, Y_train)\n",
    "val_data = TensorDataset(X_val, Y_val)\n",
    "test_data = TensorDataset(X_test, Y_test)\n",
    "\n",
    "batch_size = 64\n",
    "# 마지막 불완전한 배치를 버림(drop_last는 없어야 함)\n",
    "train_loader = DataLoader(train_data, shuffle=True, batch_size=batch_size)\n",
    "val_loader = DataLoader(val_data, batch_size=batch_size)\n",
    "test_loader = DataLoader(test_data, batch_size=batch_size)\n",
    "\n",
    "\n",
    "# 간단한 CNN 모델 구축\n",
    "class SimpleCNN(torch.nn.Module):\n",
    "    def __init__(self):\n",
    "        super(SimpleCNN, self).__init__()\n",
    "        self.conv1 = torch.nn.Conv1d(1, 32, kernel_size=5, stride=1) #output 4996\n",
    "        self.pool = torch.nn.MaxPool1d(kernel_size=2, stride=2) # 2498\n",
    "        self.conv2 = torch.nn.Conv1d(32, 64, kernel_size=5) # 2494\n",
    "        self.fc1 = torch.nn.Linear(64 * 1247, 1000) \n",
    "        self.fc2 = torch.nn.Linear(1000, 500)\n",
    "        self.fc3 = torch.nn.Linear(500, 1)  # 클래스가 2개이므로 출력 크기를 2로 설정\n",
    "\n",
    "    def forward(self, x):\n",
    "        x = self.pool(torch.nn.functional.relu(self.conv1(x)))\n",
    "        x = self.pool(torch.nn.functional.relu(self.conv2(x)))\n",
    "        x = x.view(-1, 64 * 1247)\n",
    "        x = torch.nn.functional.relu(self.fc1(x))\n",
    "        x = torch.nn.functional.relu(self.fc2(x))\n",
    "        x = self.fc3(x)\n",
    "        return x\n",
    "\n",
    "model = SimpleCNN()"
   ]
  },
  {
   "cell_type": "code",
   "execution_count": 135,
   "metadata": {},
   "outputs": [
    {
     "name": "stdout",
     "output_type": "stream",
     "text": [
      "torch.Size([64, 32, 4996])\n"
     ]
    }
   ],
   "source": [
    "\n",
    "conv1 = torch.nn.Conv1d(1, 32, kernel_size=5, stride=1)\n",
    "pool = torch.nn.MaxPool1d(kernel_size=2, stride=2) # 2498\n",
    "conv2 = torch.nn.Conv1d(32, 64, kernel_size=5) # 2494\n"
   ]
  },
  {
   "cell_type": "code",
   "execution_count": 147,
   "metadata": {},
   "outputs": [
    {
     "name": "stdout",
     "output_type": "stream",
     "text": [
      "torch.Size([64, 32, 2498])\n",
      "torch.Size([64, 64, 1247])\n"
     ]
    }
   ],
   "source": [
    "simpletest=torch.rand(64,1,5000)\n",
    "out=pool(torch.nn.functional.relu(conv1(simpletest)))\n",
    "print(out.shape)\n",
    "out=pool(torch.nn.functional.relu(conv2(out)))\n",
    "print(out.shape)"
   ]
  },
  {
   "attachments": {},
   "cell_type": "markdown",
   "metadata": {},
   "source": [
    "## 3-3 모델 정의 "
   ]
  },
  {
   "cell_type": "code",
   "execution_count": null,
   "metadata": {},
   "outputs": [
    {
     "ename": "",
     "evalue": "",
     "output_type": "error",
     "traceback": [
      "\u001b[1;31mnotebook controller is DISPOSED. \n",
      "\u001b[1;31m자세한 내용은 Jupyter <a href='command:jupyter.viewOutput'>로그</a>를 참조하세요."
     ]
    }
   ],
   "source": [
    "# 클래스 정의 하기 \n",
    "class cnn_1d(nn.Module):\n",
    "    def __init__(self):\n",
    "        super().__init__()\n",
    "        self.layer1=torch.nn.Sequential(\n",
    "            torch.nn.Conv1d(in_channels=1, out_channels=32, kernel_size=3)\n",
    "            torch.nn.ReLU()\n",
    "            torch.nn.Maxpool1d(kernel_size=2, stride=1)\n",
    "           \n",
    "            \n",
    "        )\n",
    "   \n",
    "        self.layer2= torch.nn.Sequential(\n",
    "            torch.nn.Conv1d(in_channels=32, out_channels=64, kernel_size=3)\n",
    "            torch.nn.ReLU()\n",
    "            torch.nn.Maxpool1d(kernel_size=2, stride=1)\n",
    "        )\n",
    "        self.fc1=torch.nn.Sequential(\n",
    "            torch.nn.Linear(in_features=64, out_features=2)\n",
    "            torch.nn.Sigmoid()\n",
    "        )\n",
    "        \n",
    "\n",
    "    def forward(self, x): # forward함수 만들기 (실행)\n",
    "        x = self.flatten(x)\n",
    "        logits = self.linear_relu_stack(x)\n",
    "        return logits"
   ]
  },
  {
   "cell_type": "code",
   "execution_count": 14,
   "metadata": {},
   "outputs": [
    {
     "name": "stderr",
     "output_type": "stream",
     "text": [
      "Epoch 1/10 - Training: 100%|██████████| 205/205 [00:08<00:00, 23.73it/s]\n"
     ]
    },
    {
     "name": "stdout",
     "output_type": "stream",
     "text": [
      "Epoch [1/10] - Validation Loss: 0.2682 - Validation Accuracy: 0.0005 - Validation AUROC: 0.6973\n"
     ]
    },
    {
     "name": "stderr",
     "output_type": "stream",
     "text": [
      "Epoch 2/10 - Training: 100%|██████████| 205/205 [00:08<00:00, 23.98it/s]\n"
     ]
    },
    {
     "name": "stdout",
     "output_type": "stream",
     "text": [
      "Epoch [2/10] - Validation Loss: 0.2288 - Validation Accuracy: 0.0005 - Validation AUROC: 0.7451\n"
     ]
    },
    {
     "name": "stderr",
     "output_type": "stream",
     "text": [
      "Epoch 3/10 - Training: 100%|██████████| 205/205 [00:08<00:00, 23.83it/s]\n"
     ]
    },
    {
     "name": "stdout",
     "output_type": "stream",
     "text": [
      "Epoch [3/10] - Validation Loss: 0.2479 - Validation Accuracy: 0.0009 - Validation AUROC: 0.7404\n"
     ]
    },
    {
     "name": "stderr",
     "output_type": "stream",
     "text": [
      "Epoch 4/10 - Training: 100%|██████████| 205/205 [00:08<00:00, 23.76it/s]\n"
     ]
    },
    {
     "name": "stdout",
     "output_type": "stream",
     "text": [
      "Epoch [4/10] - Validation Loss: 0.2978 - Validation Accuracy: 0.0268 - Validation AUROC: 0.7017\n"
     ]
    },
    {
     "name": "stderr",
     "output_type": "stream",
     "text": [
      "Epoch 5/10 - Training: 100%|██████████| 205/205 [00:08<00:00, 24.15it/s]\n"
     ]
    },
    {
     "name": "stdout",
     "output_type": "stream",
     "text": [
      "Epoch [5/10] - Validation Loss: 0.3918 - Validation Accuracy: 0.0170 - Validation AUROC: 0.6826\n"
     ]
    },
    {
     "name": "stderr",
     "output_type": "stream",
     "text": [
      "Epoch 6/10 - Training: 100%|██████████| 205/205 [00:08<00:00, 23.88it/s]\n"
     ]
    },
    {
     "name": "stdout",
     "output_type": "stream",
     "text": [
      "Epoch [6/10] - Validation Loss: 0.5790 - Validation Accuracy: 0.0135 - Validation AUROC: 0.6727\n"
     ]
    },
    {
     "name": "stderr",
     "output_type": "stream",
     "text": [
      "Epoch 7/10 - Training: 100%|██████████| 205/205 [00:08<00:00, 23.73it/s]\n"
     ]
    },
    {
     "name": "stdout",
     "output_type": "stream",
     "text": [
      "Epoch [7/10] - Validation Loss: 0.6185 - Validation Accuracy: 0.0064 - Validation AUROC: 0.6753\n"
     ]
    },
    {
     "name": "stderr",
     "output_type": "stream",
     "text": [
      "Epoch 8/10 - Training: 100%|██████████| 205/205 [00:08<00:00, 24.13it/s]\n"
     ]
    },
    {
     "name": "stdout",
     "output_type": "stream",
     "text": [
      "Epoch [8/10] - Validation Loss: 1.0499 - Validation Accuracy: 0.0014 - Validation AUROC: 0.6405\n"
     ]
    },
    {
     "name": "stderr",
     "output_type": "stream",
     "text": [
      "Epoch 9/10 - Training: 100%|██████████| 205/205 [00:08<00:00, 24.19it/s]\n"
     ]
    },
    {
     "name": "stdout",
     "output_type": "stream",
     "text": [
      "Epoch [9/10] - Validation Loss: 0.9215 - Validation Accuracy: 0.0039 - Validation AUROC: 0.6795\n"
     ]
    },
    {
     "name": "stderr",
     "output_type": "stream",
     "text": [
      "Epoch 10/10 - Training: 100%|██████████| 205/205 [00:08<00:00, 23.97it/s]\n"
     ]
    },
    {
     "name": "stdout",
     "output_type": "stream",
     "text": [
      "Epoch [10/10] - Validation Loss: 0.8613 - Validation Accuracy: 0.0053 - Validation AUROC: 0.6728\n"
     ]
    },
    {
     "name": "stderr",
     "output_type": "stream",
     "text": [
      "Testing: 100%|██████████| 69/69 [00:00<00:00, 117.44it/s]"
     ]
    },
    {
     "name": "stdout",
     "output_type": "stream",
     "text": [
      "Test Accuracy: 93.33%\n"
     ]
    },
    {
     "name": "stderr",
     "output_type": "stream",
     "text": [
      "\n"
     ]
    }
   ],
   "source": [
    "import torch\n",
    "import torch.nn as nn\n",
    "import torch.optim as optim\n",
    "from tqdm import tqdm\n",
    "from sklearn.metrics import roc_auc_score\n",
    "from sklearn.metrics import accuracy_score, precision_score, recall_score, f1_score, confusion_matrix\n",
    "import seaborn as sns\n",
    "\n",
    "\n",
    "# 모델을 GPU로 옮기기\n",
    "device = torch.device(\"cuda\" if torch.cuda.is_available() else \"cpu\")\n",
    "model = SimpleCNN().to(device)\n",
    "\n",
    "# 손실 함수 정의 (이진 크로스 엔트로피)\n",
    "criterion = torch.nn.BCEWithLogitsLoss() # 시그모이드가 포함되어있음!\n",
    "\n",
    "# 옵티마이저 선택 (Adam)\n",
    "optimizer = optim.Adam(model.parameters(), lr=0.001)\n",
    "\n",
    "\n",
    "# 학습 및 검증 손실과 정확도를 기록할 리스트\n",
    "train_losses = []\n",
    "train_accuracies = []\n",
    "val_losses = []\n",
    "val_accuracies = []\n",
    "\n",
    "\n",
    "# 학습 루프 설정\n",
    "num_epochs = 10\n",
    "for epoch in range(num_epochs):\n",
    "    # 훈련 데이터 루프\n",
    "    model.train()\n",
    "    train_accuracy = 0\n",
    "    train_loss = 0.0\n",
    "    total = 0\n",
    "    for inputs, labels in tqdm(train_loader, desc=f\"Epoch {epoch+1}/{num_epochs} - Training\"):\n",
    "        inputs, labels = inputs.to(device), labels.to(device)  # 데이터를 GPU로 이동\n",
    "        optimizer.zero_grad()  # 그래디언트 초기화\n",
    "\n",
    "        # 순전파 및 역전파\n",
    "        outputs = model(inputs)\n",
    "        loss = criterion(outputs.view(-1), labels.float())\n",
    "        loss.backward()\n",
    "        optimizer.step()\n",
    "\n",
    "        train_loss += loss.item()\n",
    "        _, predicted = torch.max(outputs, 1)\n",
    "        train_accuracy += (predicted == labels).sum().item()\n",
    "        total += labels.size(0)\n",
    "    \n",
    "    train_losses.append(train_loss / len(train_loader))\n",
    "    train_accuracies.append(train_accuracy / total)\n",
    "\n",
    "    # 검증 데이터 루프\n",
    "    model.eval()\n",
    "    val_preds = []\n",
    "    val_targets = []\n",
    "    val_loss = 0.0\n",
    "    total = 0\n",
    "    with torch.no_grad():\n",
    "        for inputs, labels in val_loader:\n",
    "            inputs, labels = inputs.to(device), labels.to(device)\n",
    "            outputs = model(inputs)\n",
    "            loss = criterion(outputs.view(-1), labels.float())\n",
    "            val_loss += loss.item()\n",
    "            val_preds.extend(outputs.view(-1).cpu().numpy())\n",
    "            val_targets.extend(labels.cpu().numpy())\n",
    "            total += labels.size(0)\n",
    "\n",
    "    val_loss /= len(val_loader)\n",
    "    val_accuracy = accuracy_score(val_targets, np.round(val_preds))\n",
    "    val_auroc = roc_auc_score(val_targets, val_preds)\n",
    "\n",
    "    val_losses.append(val_loss)\n",
    "    val_accuracies.append(val_accuracy)\n",
    "\n",
    "    # 에포크의 결과 출력\n",
    "    print(f'Epoch [{epoch + 1}/{num_epochs}] - Validation Loss: {val_loss:.4f} - Validation Accuracy: {val_accuracy:.4f} - Validation AUROC: {val_auroc:.4f}')\n",
    "\n",
    "# 테스트 데이터 루프\n",
    "model.eval()\n",
    "test_accuracy = 0\n",
    "with torch.no_grad():\n",
    "    for inputs, labels in tqdm(test_loader, desc=f\"Testing\"):\n",
    "        inputs, labels = inputs.to(device), labels.to(device)  # 데이터를 GPU로 이동\n",
    "        outputs = model(inputs)\n",
    "        _, predicted = torch.max(outputs, 1)\n",
    "        test_accuracy += (predicted == labels).sum().item()\n",
    "\n",
    "test_accuracy /= len(test_loader.dataset)\n",
    "print(f'Test Accuracy: {test_accuracy * 100:.2f}%')"
   ]
  },
  {
   "cell_type": "code",
   "execution_count": 15,
   "metadata": {},
   "outputs": [
    {
     "data": {
      "image/png": "[encoded data removed]",
      "text/plain": [
       "<Figure size 1200x400 with 2 Axes>"
      ]
     },
     "metadata": {},
     "output_type": "display_data"
    }
   ],
   "source": [
    "# 손실 그래프 그리기\n",
    "plt.figure(figsize=(12, 4))\n",
    "plt.subplot(1, 2, 1)\n",
    "plt.plot(train_losses, label='Training loss')\n",
    "plt.plot(val_losses, label='Validation loss')\n",
    "plt.title('Loss over epochs')\n",
    "plt.xlabel('Epoch')\n",
    "plt.ylabel('Loss')\n",
    "plt.legend()\n",
    "\n",
    "# 정확도 그래프 그리기\n",
    "plt.subplot(1, 2, 2)\n",
    "plt.plot(train_accuracies, label='Training accuracy')\n",
    "plt.plot(val_accuracies, label='Validation accuracy')\n",
    "plt.title('Accuracy over epochs')\n",
    "plt.xlabel('Epoch')\n",
    "plt.ylabel('Accuracy')\n",
    "plt.legend()\n",
    "\n",
    "plt.show()"
   ]
  },
  {
   "cell_type": "code",
   "execution_count": 16,
   "metadata": {},
   "outputs": [
    {
     "data": {
      "image/png": "[encoded data removed]",
      "text/plain": [
       "<Figure size 800x600 with 2 Axes>"
      ]
     },
     "metadata": {},
     "output_type": "display_data"
    },
    {
     "name": "stdout",
     "output_type": "stream",
     "text": [
      "Accuracy: 0.9333\n",
      "Precision: 0.0000\n",
      "Recall: 0.0000\n",
      "F1 Score: 0.0000\n"
     ]
    }
   ],
   "source": [
    "from sklearn.metrics import accuracy_score, precision_score, recall_score, f1_score, confusion_matrix\n",
    "import seaborn as sns\n",
    "\n",
    "# 모델을 평가 모드로 설정\n",
    "model.eval()\n",
    "\n",
    "# 모든 예측과 레이블을 저장할 리스트 초기화\n",
    "all_predictions = []\n",
    "all_labels = []\n",
    "\n",
    "# 테스트 데이터에 대한 예측 수행\n",
    "with torch.no_grad():\n",
    "    for inputs, labels in test_loader:\n",
    "        inputs, labels = inputs.to(device), labels.to(device)\n",
    "        outputs = model(inputs)\n",
    "        _, predicted = torch.max(outputs, 1)\n",
    "        all_predictions.extend(predicted.cpu().numpy())\n",
    "        all_labels.extend(labels.cpu().numpy())\n",
    "\n",
    "# 성능 지표 계산\n",
    "accuracy = accuracy_score(all_labels, all_predictions)\n",
    "precision = precision_score(all_labels, all_predictions)\n",
    "recall = recall_score(all_labels, all_predictions)\n",
    "f1 = f1_score(all_labels, all_predictions)\n",
    "\n",
    "# 혼동 행렬 생성\n",
    "cm = confusion_matrix(all_labels, all_predictions)\n",
    "\n",
    "# 혼동 행렬 시각화\n",
    "plt.figure(figsize=(8, 6))\n",
    "sns.heatmap(cm, annot=True, fmt='d', cmap='Blues')\n",
    "plt.title('Confusion Matrix')\n",
    "plt.xlabel('Predicted Label')\n",
    "plt.ylabel('True Label')\n",
    "plt.show()\n",
    "\n",
    "# 성능 지표 출력\n",
    "print(f'Accuracy: {accuracy:.4f}')\n",
    "print(f'Precision: {precision:.4f}')\n",
    "print(f'Recall: {recall:.4f}')\n",
    "print(f'F1 Score: {f1:.4f}')"
   ]
  },
  {
   "cell_type": "code",
   "execution_count": 17,
   "metadata": {},
   "outputs": [
    {
     "ename": "IndexError",
     "evalue": "index 1 is out of bounds for axis 0 with size 1",
     "output_type": "error",
     "traceback": [
      "\u001b[0;31m---------------------------------------------------------------------------\u001b[0m",
      "\u001b[0;31mIndexError\u001b[0m                                Traceback (most recent call last)",
      "Cell \u001b[0;32mIn[17], line 19\u001b[0m\n\u001b[1;32m     16\u001b[0m         all_preds_probs\u001b[39m.\u001b[39mextend(probs\u001b[39m.\u001b[39mcpu()\u001b[39m.\u001b[39mnumpy())\n\u001b[1;32m     18\u001b[0m \u001b[39m# 실제 레이블과 예측 확률을 사용하여 ROC 커브 계산\u001b[39;00m\n\u001b[0;32m---> 19\u001b[0m fpr, tpr, _ \u001b[39m=\u001b[39m roc_curve(all_labels, [p[\u001b[39m1\u001b[39m] \u001b[39mfor\u001b[39;00m p \u001b[39min\u001b[39;00m all_preds_probs])\n\u001b[1;32m     20\u001b[0m roc_auc \u001b[39m=\u001b[39m auc(fpr, tpr)\n\u001b[1;32m     22\u001b[0m \u001b[39m# AUROC 그래프를 그립니다.\u001b[39;00m\n",
      "Cell \u001b[0;32mIn[17], line 19\u001b[0m, in \u001b[0;36m<listcomp>\u001b[0;34m(.0)\u001b[0m\n\u001b[1;32m     16\u001b[0m         all_preds_probs\u001b[39m.\u001b[39mextend(probs\u001b[39m.\u001b[39mcpu()\u001b[39m.\u001b[39mnumpy())\n\u001b[1;32m     18\u001b[0m \u001b[39m# 실제 레이블과 예측 확률을 사용하여 ROC 커브 계산\u001b[39;00m\n\u001b[0;32m---> 19\u001b[0m fpr, tpr, _ \u001b[39m=\u001b[39m roc_curve(all_labels, [p[\u001b[39m1\u001b[39;49m] \u001b[39mfor\u001b[39;00m p \u001b[39min\u001b[39;00m all_preds_probs])\n\u001b[1;32m     20\u001b[0m roc_auc \u001b[39m=\u001b[39m auc(fpr, tpr)\n\u001b[1;32m     22\u001b[0m \u001b[39m# AUROC 그래프를 그립니다.\u001b[39;00m\n",
      "\u001b[0;31mIndexError\u001b[0m: index 1 is out of bounds for axis 0 with size 1"
     ]
    }
   ],
   "source": [
    "from sklearn.metrics import roc_curve, auc\n",
    "\n",
    "# 예측 확률을 저장할 리스트\n",
    "all_preds_probs = []\n",
    "\n",
    "# 모델을 평가 모드로 설정\n",
    "model.eval()\n",
    "\n",
    "# 테스트 데이터에 대한 예측 확률 수행\n",
    "with torch.no_grad():\n",
    "    for inputs, _ in test_loader:\n",
    "        inputs = inputs.to(device)\n",
    "        outputs = model(inputs)\n",
    "        # softmax를 사용하여 확률을 계산\n",
    "        probs = torch.nn.functional.softmax(outputs, dim=1)\n",
    "        all_preds_probs.extend(probs.cpu().numpy())\n",
    "\n",
    "# 실제 레이블과 예측 확률을 사용하여 ROC 커브 계산\n",
    "fpr, tpr, _ = roc_curve(all_labels, [p[1] for p in all_preds_probs])\n",
    "roc_auc = auc(fpr, tpr)\n",
    "\n",
    "# AUROC 그래프를 그립니다.\n",
    "plt.figure(figsize=(8, 6))\n",
    "plt.plot(fpr, tpr, color='darkorange', lw=2, label='ROC curve (area = %0.2f)' % roc_auc)\n",
    "plt.plot([0, 1], [0, 1], color='navy', lw=2, linestyle='--')\n",
    "plt.xlim([0.0, 1.0])\n",
    "plt.ylim([0.0, 1.05])\n",
    "plt.xlabel('False Positive Rate')\n",
    "plt.ylabel('True Positive Rate')\n",
    "plt.title('ROC Curve')\n",
    "plt.legend(loc=\"lower right\")\n",
    "plt.show()\n",
    "\n",
    "# AUROC 점수를 출력합니다.\n",
    "print(f'AUROC: {roc_auc:.2f}')"
   ]
  },
  {
   "cell_type": "code",
   "execution_count": 102,
   "metadata": {},
   "outputs": [],
   "source": [
    "predict=torch.Tensor(df_sph_lead1)\n",
    "predict=predict.unsqueeze(1)\n",
    "predict_label=df_sph['label']\n"
   ]
  },
  {
   "cell_type": "code",
   "execution_count": 106,
   "metadata": {},
   "outputs": [],
   "source": [
    "predict_label=torch.Tensor(predict_label)"
   ]
  },
  {
   "cell_type": "code",
   "execution_count": 109,
   "metadata": {},
   "outputs": [],
   "source": [
    "predict=predict.to(device)\n",
    "predict_label=predict_label.to(device)"
   ]
  },
  {
   "cell_type": "code",
   "execution_count": 112,
   "metadata": {},
   "outputs": [],
   "source": [
    "batch_size=32\n",
    "testdataset=TensorDataset(predict,predict_label)\n",
    "testdataloder=DataLoader(testdataset, shuffle=True, batch_size=batch_size)\n"
   ]
  },
  {
   "cell_type": "code",
   "execution_count": 111,
   "metadata": {},
   "outputs": [],
   "source": [
    "batch_size=32\n",
    "sph_loader = DataLoader(predict, shuffle=True, batch_size=batch_size)\n",
    "sph_label_loader = DataLoader(predict_label, batch_size=batch_size)"
   ]
  },
  {
   "cell_type": "code",
   "execution_count": 116,
   "metadata": {},
   "outputs": [
    {
     "name": "stderr",
     "output_type": "stream",
     "text": [
      "Testing: 100%|██████████| 806/806 [00:03<00:00, 260.96it/s]"
     ]
    },
    {
     "name": "stdout",
     "output_type": "stream",
     "text": [
      "Test Accuracy: 69.61%\n"
     ]
    },
    {
     "name": "stderr",
     "output_type": "stream",
     "text": [
      "\n"
     ]
    }
   ],
   "source": [
    "# 테스트 데이터 루프\n",
    "model.eval()\n",
    "with torch.no_grad():\n",
    "    for inputs, labels in tqdm(testdataloder, desc=f\"Testing\"):\n",
    "        inputs, labels = inputs.to(device), labels.to(device)  # 데이터를 GPU로 이동\n",
    "        outputs = model(inputs)\n",
    "        _, predicted = torch.max(outputs, 1)\n",
    "        test_accuracy += (predicted == labels).sum().item()\n",
    "\n",
    "test_accuracy /= len(testdataloder.dataset)\n",
    "print(f'Test Accuracy: {test_accuracy * 100:.2f}%')"
   ]
  },
  {
   "attachments": {},
   "cell_type": "markdown",
   "metadata": {},
   "source": [
    "# 4. model  평가 및 고도화\n",
    "- 하이퍼 파라미터 튜닝\n",
    "- 드롭아웃\n",
    "- 정규화 \n",
    "- 리샘플링\n",
    "- optimizer(최적화)\n"
   ]
  },
  {
   "cell_type": "code",
   "execution_count": null,
   "metadata": {},
   "outputs": [],
   "source": [
    "import torch\n",
    "import torch.nn as nn\n",
    "\n",
    "class Complex1DCNN(nn.Module):\n",
    "    def __init__(self, input_size, output_size, conv_channels=[64, 128, 256], kernel_sizes=[3, 5, 7], fc_hidden_size=256, dropout_prob=0.5):\n",
    "        super(Complex1DCNN, self).__init__()\n",
    "\n",
    "        # 여러 개의 1D 컨볼루션 레이어\n",
    "        self.conv_layers = nn.ModuleList([\n",
    "            nn.Conv1d(in_channels=input_size, out_channels=conv_channels[0], kernel_size=kernel_sizes[0]),\n",
    "            nn.Conv1d(in_channels=conv_channels[0], out_channels=conv_channels[1], kernel_size=kernel_sizes[1]),\n",
    "            nn.Conv1d(in_channels=conv_channels[1], out_channels=conv_channels[2], kernel_size=kernel_sizes[2])\n",
    "        ])\n",
    "\n",
    "        # ReLU 활성화 함수\n",
    "        self.relu = nn.ReLU()\n",
    "\n",
    "        # Max Pooling 레이어\n",
    "        self.pool = nn.MaxPool1d(kernel_size=2)\n",
    "\n",
    "        # Global Average Pooling 레이어\n",
    "        self.global_avg_pool = nn.AdaptiveAvgPool1d(1)\n",
    "\n",
    "        # 드롭아웃\n",
    "        self.dropout = nn.Dropout(p=dropout_prob)\n",
    "\n",
    "        # 완전 연결 레이어\n",
    "        self.fc = nn.Linear(conv_channels[-1], fc_hidden_size)\n",
    "        \n",
    "        # 출력 레이어\n",
    "        self.output_layer = nn.Linear(fc_hidden_size, output_size)\n",
    "\n",
    "    def forward(self, x):\n",
    "        # 여러 개의 1D 컨볼루션 레이어를 통과\n",
    "        for conv_layer in self.conv_layers:\n",
    "            x = self.pool(self.relu(conv_layer(x)))\n",
    "\n",
    "        # Global Average Pooling\n",
    "        x = self.global_avg_pool(x).squeeze()\n",
    "\n",
    "        # 드롭아웃\n",
    "        x = self.dropout(x)\n",
    "\n",
    "        # 완전 연결 레이어를 통과하여 중간 특성 추출\n",
    "        x = self.relu(self.fc(x))\n",
    "\n",
    "        # 출력 레이어를 통과하여 최종 출력 생성\n",
    "        x = self.output_layer(x)\n",
    "\n",
    "        return x"
   ]
  }
 ],
 "metadata": {
  "kernelspec": {
   "display_name": "Python 3",
   "language": "python",
   "name": "python3"
  },
  "language_info": {
   "codemirror_mode": {
    "name": "ipython",
    "version": 3
   },
   "file_extension": ".py",
   "mimetype": "text/x-python",
   "name": "python",
   "nbconvert_exporter": "python",
   "pygments_lexer": "ipython3",
   "version": "3.8.10"
  },
  "orig_nbformat": 4
 },
 "nbformat": 4,
 "nbformat_minor": 2
}
