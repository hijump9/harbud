{
 "cells": [
  {
   "cell_type": "markdown",
   "metadata": {},
   "source": [
    "### PTB-XL 데이터 수집 단계 안내"
   ]
  },
  {
   "cell_type": "markdown",
   "metadata": {},
   "source": [
    "#### 1. wfdb 패키지 설치.\n",
    "\n",
    "pip install wfdb 명령어를 통해서 wfdb 패키지를 설치해주세요. (PTB-XL 전처리를 위하여 필요한 패키지 입니다.)\n",
    "\n",
    "wfdb 패키지의 간단한 사용 방법이 있는 노트북 공유 드립니다.\n",
    "- https://github.com/MIT-LCP/wfdb-python/blob/main/demo.ipynb\n"
   ]
  },
  {
   "cell_type": "markdown",
   "metadata": {},
   "source": [
    "#### 2. 전처리에 필요한 패키지 import"
   ]
  },
  {
   "cell_type": "code",
   "execution_count": 1,
   "metadata": {},
   "outputs": [],
   "source": [
    "import ast\n",
    "import wfdb \n",
    "import numpy as np\n",
    "import pandas as pd\n",
    "\n",
    "from glob import glob \n",
    "from tqdm import tqdm"
   ]
  },
  {
   "cell_type": "markdown",
   "metadata": {},
   "source": [
    "#### 3. metadata 읽기\n",
    "\n",
    "다운로드 받은 PTB-XL 데이터에는 ptbxl_database.csv 파일이 있습니다.\n",
    "\n",
    "해당 csv 파일을 pandas를 이용하여 열면, 맨 마지막 두개의 컬럼 filename_lr, filename_hr이 있습니다.\n",
    "\n",
    "filename_lr은 100Hz로 저장되어 있는 신호 데이터 파일 경로이고, filename_hr은 500Hz로 저장되어 있는 신호 데이터 파일 경로입니다.\n",
    "\n",
    "저희는 500Hz로 수집된 데이터를 사용할 것이기 때문에 filename_hr 컬럼의 경로를 이용하여 데이터를 읽으면 됩니다."
   ]
  },
  {
   "cell_type": "code",
   "execution_count": 2,
   "metadata": {},
   "outputs": [],
   "source": [
    "path = '/DATA4/afib-renew/raw/PTB-XL/'\n",
    "df = pd.read_csv(path + 'ptbxl_database.csv', index_col='ecg_id')"
   ]
  },
  {
   "cell_type": "code",
   "execution_count": 3,
   "metadata": {},
   "outputs": [
    {
     "data": {
      "text/html": [
       "<div>\n",
       "<style scoped>\n",
       "    .dataframe tbody tr th:only-of-type {\n",
       "        vertical-align: middle;\n",
       "    }\n",
       "\n",
       "    .dataframe tbody tr th {\n",
       "        vertical-align: top;\n",
       "    }\n",
       "\n",
       "    .dataframe thead th {\n",
       "        text-align: right;\n",
       "    }\n",
       "</style>\n",
       "<table border=\"1\" class=\"dataframe\">\n",
       "  <thead>\n",
       "    <tr style=\"text-align: right;\">\n",
       "      <th></th>\n",
       "      <th>patient_id</th>\n",
       "      <th>age</th>\n",
       "      <th>sex</th>\n",
       "      <th>height</th>\n",
       "      <th>weight</th>\n",
       "      <th>nurse</th>\n",
       "      <th>site</th>\n",
       "      <th>device</th>\n",
       "      <th>recording_date</th>\n",
       "      <th>report</th>\n",
       "      <th>...</th>\n",
       "      <th>validated_by_human</th>\n",
       "      <th>baseline_drift</th>\n",
       "      <th>static_noise</th>\n",
       "      <th>burst_noise</th>\n",
       "      <th>electrodes_problems</th>\n",
       "      <th>extra_beats</th>\n",
       "      <th>pacemaker</th>\n",
       "      <th>strat_fold</th>\n",
       "      <th>filename_lr</th>\n",
       "      <th>filename_hr</th>\n",
       "    </tr>\n",
       "    <tr>\n",
       "      <th>ecg_id</th>\n",
       "      <th></th>\n",
       "      <th></th>\n",
       "      <th></th>\n",
       "      <th></th>\n",
       "      <th></th>\n",
       "      <th></th>\n",
       "      <th></th>\n",
       "      <th></th>\n",
       "      <th></th>\n",
       "      <th></th>\n",
       "      <th></th>\n",
       "      <th></th>\n",
       "      <th></th>\n",
       "      <th></th>\n",
       "      <th></th>\n",
       "      <th></th>\n",
       "      <th></th>\n",
       "      <th></th>\n",
       "      <th></th>\n",
       "      <th></th>\n",
       "      <th></th>\n",
       "    </tr>\n",
       "  </thead>\n",
       "  <tbody>\n",
       "    <tr>\n",
       "      <th>1</th>\n",
       "      <td>15709.0</td>\n",
       "      <td>56.0</td>\n",
       "      <td>1</td>\n",
       "      <td>NaN</td>\n",
       "      <td>63.0</td>\n",
       "      <td>2.0</td>\n",
       "      <td>0.0</td>\n",
       "      <td>CS-12   E</td>\n",
       "      <td>1984-11-09 09:17:34</td>\n",
       "      <td>sinusrhythmus periphere niederspannung</td>\n",
       "      <td>...</td>\n",
       "      <td>True</td>\n",
       "      <td>NaN</td>\n",
       "      <td>, I-V1,</td>\n",
       "      <td>NaN</td>\n",
       "      <td>NaN</td>\n",
       "      <td>NaN</td>\n",
       "      <td>NaN</td>\n",
       "      <td>3</td>\n",
       "      <td>records100/00000/00001_lr</td>\n",
       "      <td>records500/00000/00001_hr</td>\n",
       "    </tr>\n",
       "    <tr>\n",
       "      <th>2</th>\n",
       "      <td>13243.0</td>\n",
       "      <td>19.0</td>\n",
       "      <td>0</td>\n",
       "      <td>NaN</td>\n",
       "      <td>70.0</td>\n",
       "      <td>2.0</td>\n",
       "      <td>0.0</td>\n",
       "      <td>CS-12   E</td>\n",
       "      <td>1984-11-14 12:55:37</td>\n",
       "      <td>sinusbradykardie sonst normales ekg</td>\n",
       "      <td>...</td>\n",
       "      <td>True</td>\n",
       "      <td>NaN</td>\n",
       "      <td>NaN</td>\n",
       "      <td>NaN</td>\n",
       "      <td>NaN</td>\n",
       "      <td>NaN</td>\n",
       "      <td>NaN</td>\n",
       "      <td>2</td>\n",
       "      <td>records100/00000/00002_lr</td>\n",
       "      <td>records500/00000/00002_hr</td>\n",
       "    </tr>\n",
       "    <tr>\n",
       "      <th>3</th>\n",
       "      <td>20372.0</td>\n",
       "      <td>37.0</td>\n",
       "      <td>1</td>\n",
       "      <td>NaN</td>\n",
       "      <td>69.0</td>\n",
       "      <td>2.0</td>\n",
       "      <td>0.0</td>\n",
       "      <td>CS-12   E</td>\n",
       "      <td>1984-11-15 12:49:10</td>\n",
       "      <td>sinusrhythmus normales ekg</td>\n",
       "      <td>...</td>\n",
       "      <td>True</td>\n",
       "      <td>NaN</td>\n",
       "      <td>NaN</td>\n",
       "      <td>NaN</td>\n",
       "      <td>NaN</td>\n",
       "      <td>NaN</td>\n",
       "      <td>NaN</td>\n",
       "      <td>5</td>\n",
       "      <td>records100/00000/00003_lr</td>\n",
       "      <td>records500/00000/00003_hr</td>\n",
       "    </tr>\n",
       "    <tr>\n",
       "      <th>4</th>\n",
       "      <td>17014.0</td>\n",
       "      <td>24.0</td>\n",
       "      <td>0</td>\n",
       "      <td>NaN</td>\n",
       "      <td>82.0</td>\n",
       "      <td>2.0</td>\n",
       "      <td>0.0</td>\n",
       "      <td>CS-12   E</td>\n",
       "      <td>1984-11-15 13:44:57</td>\n",
       "      <td>sinusrhythmus normales ekg</td>\n",
       "      <td>...</td>\n",
       "      <td>True</td>\n",
       "      <td>, II,III,AVF</td>\n",
       "      <td>NaN</td>\n",
       "      <td>NaN</td>\n",
       "      <td>NaN</td>\n",
       "      <td>NaN</td>\n",
       "      <td>NaN</td>\n",
       "      <td>3</td>\n",
       "      <td>records100/00000/00004_lr</td>\n",
       "      <td>records500/00000/00004_hr</td>\n",
       "    </tr>\n",
       "    <tr>\n",
       "      <th>5</th>\n",
       "      <td>17448.0</td>\n",
       "      <td>19.0</td>\n",
       "      <td>1</td>\n",
       "      <td>NaN</td>\n",
       "      <td>70.0</td>\n",
       "      <td>2.0</td>\n",
       "      <td>0.0</td>\n",
       "      <td>CS-12   E</td>\n",
       "      <td>1984-11-17 10:43:15</td>\n",
       "      <td>sinusrhythmus normales ekg</td>\n",
       "      <td>...</td>\n",
       "      <td>True</td>\n",
       "      <td>, III,AVR,AVF</td>\n",
       "      <td>NaN</td>\n",
       "      <td>NaN</td>\n",
       "      <td>NaN</td>\n",
       "      <td>NaN</td>\n",
       "      <td>NaN</td>\n",
       "      <td>4</td>\n",
       "      <td>records100/00000/00005_lr</td>\n",
       "      <td>records500/00000/00005_hr</td>\n",
       "    </tr>\n",
       "  </tbody>\n",
       "</table>\n",
       "<p>5 rows × 27 columns</p>\n",
       "</div>"
      ],
      "text/plain": [
       "        patient_id   age  sex  height  weight  nurse  site     device  \\\n",
       "ecg_id                                                                  \n",
       "1          15709.0  56.0    1     NaN    63.0    2.0   0.0  CS-12   E   \n",
       "2          13243.0  19.0    0     NaN    70.0    2.0   0.0  CS-12   E   \n",
       "3          20372.0  37.0    1     NaN    69.0    2.0   0.0  CS-12   E   \n",
       "4          17014.0  24.0    0     NaN    82.0    2.0   0.0  CS-12   E   \n",
       "5          17448.0  19.0    1     NaN    70.0    2.0   0.0  CS-12   E   \n",
       "\n",
       "             recording_date                                  report  ...  \\\n",
       "ecg_id                                                               ...   \n",
       "1       1984-11-09 09:17:34  sinusrhythmus periphere niederspannung  ...   \n",
       "2       1984-11-14 12:55:37     sinusbradykardie sonst normales ekg  ...   \n",
       "3       1984-11-15 12:49:10              sinusrhythmus normales ekg  ...   \n",
       "4       1984-11-15 13:44:57              sinusrhythmus normales ekg  ...   \n",
       "5       1984-11-17 10:43:15              sinusrhythmus normales ekg  ...   \n",
       "\n",
       "       validated_by_human  baseline_drift static_noise burst_noise  \\\n",
       "ecg_id                                                               \n",
       "1                    True             NaN    , I-V1,           NaN   \n",
       "2                    True             NaN          NaN         NaN   \n",
       "3                    True             NaN          NaN         NaN   \n",
       "4                    True    , II,III,AVF          NaN         NaN   \n",
       "5                    True   , III,AVR,AVF          NaN         NaN   \n",
       "\n",
       "        electrodes_problems  extra_beats  pacemaker  strat_fold  \\\n",
       "ecg_id                                                            \n",
       "1                       NaN          NaN        NaN           3   \n",
       "2                       NaN          NaN        NaN           2   \n",
       "3                       NaN          NaN        NaN           5   \n",
       "4                       NaN          NaN        NaN           3   \n",
       "5                       NaN          NaN        NaN           4   \n",
       "\n",
       "                      filename_lr                filename_hr  \n",
       "ecg_id                                                        \n",
       "1       records100/00000/00001_lr  records500/00000/00001_hr  \n",
       "2       records100/00000/00002_lr  records500/00000/00002_hr  \n",
       "3       records100/00000/00003_lr  records500/00000/00003_hr  \n",
       "4       records100/00000/00004_lr  records500/00000/00004_hr  \n",
       "5       records100/00000/00005_lr  records500/00000/00005_hr  \n",
       "\n",
       "[5 rows x 27 columns]"
      ]
     },
     "execution_count": 3,
     "metadata": {},
     "output_type": "execute_result"
    }
   ],
   "source": [
    "df.head()"
   ]
  },
  {
   "cell_type": "markdown",
   "metadata": {},
   "source": [
    "#### 4. 신호 데이터 읽기\n",
    "\n",
    "하나의 샘플을 읽어보겠습니다."
   ]
  },
  {
   "cell_type": "code",
   "execution_count": 4,
   "metadata": {},
   "outputs": [],
   "source": [
    "filenames = df.filename_hr.tolist()\n",
    "base_path = '/DATA4/afib-renew/raw/PTB-XL/'\n",
    "signal, meta = wfdb.rdsamp(base_path + filenames[0])"
   ]
  },
  {
   "cell_type": "markdown",
   "metadata": {},
   "source": [
    "데이터를 읽으면 signal 변수에 신호 데이터가, meta 변수에는 여러가지 신호에 대한 정보 데이터가 담겨져 있습니다."
   ]
  },
  {
   "cell_type": "markdown",
   "metadata": {},
   "source": [
    "아래와 같이 signal 변수를 프린트 해보면 numpy array로 저장이 되어 있고, shape은 5000x12 형태인 것을 확인할 수 있습니다."
   ]
  },
  {
   "cell_type": "code",
   "execution_count": 5,
   "metadata": {},
   "outputs": [
    {
     "name": "stdout",
     "output_type": "stream",
     "text": [
      "[[-0.115 -0.05   0.065 ... -0.035 -0.035 -0.075]\n",
      " [-0.115 -0.05   0.065 ... -0.035 -0.035 -0.075]\n",
      " [-0.115 -0.05   0.065 ... -0.035 -0.035 -0.075]\n",
      " ...\n",
      " [ 0.21   0.205 -0.005 ...  0.185  0.17   0.18 ]\n",
      " [ 0.21   0.205 -0.005 ...  0.185  0.17   0.18 ]\n",
      " [ 0.21   0.205 -0.005 ...  0.185  0.17   0.18 ]]\n",
      "(5000, 12)\n"
     ]
    }
   ],
   "source": [
    "print(signal)\n",
    "print(signal.shape)"
   ]
  },
  {
   "cell_type": "markdown",
   "metadata": {},
   "source": [
    "OT 때 잠깐 말씀 드렸듯이, ECG는 측정하는 위치에 따라 총 12개의 신호를 담고 있습니다.\n",
    "\n",
    "12개의 Lead 데이터라고 불리는데, 각 Lead의 이름은 다음과 같습니다.\n",
    "- 'I', 'II', 'III', 'AVR', 'AVL', 'AVF', 'V1', 'V2', 'V3', 'V4', 'V5', 'V6'\n",
    "\n",
    "이 가운데, 우리는 Lead I 을 사용할 것입니다. 이는 갤럭시 워치나 애플 워치와 같이 두 팔에서 수집된 신호 데이터 입니다.\n",
    "\n",
    "따라서, 5000x12 shape의 array에서 Lead I에 해당되는 5000개의 데이터만 저장하면 됩니다. \n",
    "\n",
    "예제는 다음과 같습니다."
   ]
  },
  {
   "cell_type": "code",
   "execution_count": 6,
   "metadata": {},
   "outputs": [],
   "source": [
    "lead1 = signal[:, 0]"
   ]
  },
  {
   "cell_type": "markdown",
   "metadata": {},
   "source": [
    "위와 같이 0번째 인덱스의 5000개 신호만 인덱싱을 해서 신호값을 저장하면 됩니다.\n",
    "\n",
    "나머지 신호 데이터는 사용하지 않습니다.\n",
    "\n",
    "위와 같은 방식으로, 모든 데이터를 읽어서 Lead 1 신호를 저장하여 하나의 array로 담아 저장하시면 됩니다.\n",
    "\n",
    "최종 저장 데이터 array의 shape은 (N, 5000)이 될 것입니다."
   ]
  },
  {
   "cell_type": "markdown",
   "metadata": {},
   "source": [
    "#### 5. Labeling 방법 안내"
   ]
  },
  {
   "cell_type": "markdown",
   "metadata": {},
   "source": [
    "맨 처음에 읽었던 ptbxl_database.csv 파일로 돌아가면, 해당 dataframe에는 scp_codes 라는 컬럼이 있습니다."
   ]
  },
  {
   "cell_type": "code",
   "execution_count": 7,
   "metadata": {},
   "outputs": [
    {
     "data": {
      "text/plain": [
       "ecg_id\n",
       "1                 {'NORM': 100.0, 'LVOLT': 0.0, 'SR': 0.0}\n",
       "2                             {'NORM': 80.0, 'SBRAD': 0.0}\n",
       "3                               {'NORM': 100.0, 'SR': 0.0}\n",
       "4                               {'NORM': 100.0, 'SR': 0.0}\n",
       "5                               {'NORM': 100.0, 'SR': 0.0}\n",
       "                               ...                        \n",
       "21833    {'NDT': 100.0, 'PVC': 100.0, 'VCLVH': 0.0, 'ST...\n",
       "21834             {'NORM': 100.0, 'ABQRS': 0.0, 'SR': 0.0}\n",
       "21835                           {'ISCAS': 50.0, 'SR': 0.0}\n",
       "21836                           {'NORM': 100.0, 'SR': 0.0}\n",
       "21837                           {'NORM': 100.0, 'SR': 0.0}\n",
       "Name: scp_codes, Length: 21799, dtype: object"
      ]
     },
     "execution_count": 7,
     "metadata": {},
     "output_type": "execute_result"
    }
   ],
   "source": [
    "df.scp_codes"
   ]
  },
  {
   "cell_type": "markdown",
   "metadata": {},
   "source": [
    "해당 컬럼의 값은 string 형태로 저장되어 있으며, string은 Python의 dictionary 형태로 되어 있는 것을 확인할 수 있습니다.\n",
    "\n",
    "따라서, string으로 저장되어 있는 dictionary 형태의 데이터를 실제 dictionary 값으로 변환해주는 작업이 필요합니다.\n",
    "\n",
    "예제는 아래와 같습니다."
   ]
  },
  {
   "cell_type": "code",
   "execution_count": 8,
   "metadata": {},
   "outputs": [],
   "source": [
    "df.scp_codes = df.scp_codes.apply(lambda x: ast.literal_eval(x))"
   ]
  },
  {
   "cell_type": "markdown",
   "metadata": {},
   "source": [
    "위 명령어를 실행하면 scp_codes 컬럼의 각 row는 실제 dictionary 값으로 변환이 됩니다."
   ]
  },
  {
   "cell_type": "code",
   "execution_count": 9,
   "metadata": {},
   "outputs": [
    {
     "data": {
      "text/plain": [
       "ecg_id\n",
       "1                 {'NORM': 100.0, 'LVOLT': 0.0, 'SR': 0.0}\n",
       "2                             {'NORM': 80.0, 'SBRAD': 0.0}\n",
       "3                               {'NORM': 100.0, 'SR': 0.0}\n",
       "4                               {'NORM': 100.0, 'SR': 0.0}\n",
       "5                               {'NORM': 100.0, 'SR': 0.0}\n",
       "                               ...                        \n",
       "21833    {'NDT': 100.0, 'PVC': 100.0, 'VCLVH': 0.0, 'ST...\n",
       "21834             {'NORM': 100.0, 'ABQRS': 0.0, 'SR': 0.0}\n",
       "21835                           {'ISCAS': 50.0, 'SR': 0.0}\n",
       "21836                           {'NORM': 100.0, 'SR': 0.0}\n",
       "21837                           {'NORM': 100.0, 'SR': 0.0}\n",
       "Name: scp_codes, Length: 21799, dtype: object"
      ]
     },
     "execution_count": 9,
     "metadata": {},
     "output_type": "execute_result"
    }
   ],
   "source": [
    "df.scp_codes"
   ]
  },
  {
   "cell_type": "markdown",
   "metadata": {},
   "source": [
    "해당 dictionary 값들 가운데, 우리의 관심 대상은 key 값 입니다.\n",
    "\n",
    "key에 해당하는 것이 실제 해당 ECG 데이터의 label 정보를 담고 있습니다.\n",
    "\n",
    "따라서, 아래와 같이 각 dictionary의 key 값을 추출하여, 다시 scp_codes 컬럼에 저장합니다."
   ]
  },
  {
   "cell_type": "code",
   "execution_count": 10,
   "metadata": {},
   "outputs": [],
   "source": [
    "df.scp_codes = df.scp_codes.apply(lambda x: list(x.keys()))"
   ]
  },
  {
   "cell_type": "markdown",
   "metadata": {},
   "source": [
    "위 코드를 실행하면 아래와 같이, dictionary의 key 값만 추출하여 list에 저장한 결과를 볼 수 있습니다."
   ]
  },
  {
   "cell_type": "code",
   "execution_count": 11,
   "metadata": {},
   "outputs": [
    {
     "data": {
      "text/plain": [
       "ecg_id\n",
       "1               [NORM, LVOLT, SR]\n",
       "2                   [NORM, SBRAD]\n",
       "3                      [NORM, SR]\n",
       "4                      [NORM, SR]\n",
       "5                      [NORM, SR]\n",
       "                   ...           \n",
       "21833    [NDT, PVC, VCLVH, STACH]\n",
       "21834           [NORM, ABQRS, SR]\n",
       "21835                 [ISCAS, SR]\n",
       "21836                  [NORM, SR]\n",
       "21837                  [NORM, SR]\n",
       "Name: scp_codes, Length: 21799, dtype: object"
      ]
     },
     "execution_count": 11,
     "metadata": {},
     "output_type": "execute_result"
    }
   ],
   "source": [
    "df.scp_codes"
   ]
  },
  {
   "cell_type": "markdown",
   "metadata": {},
   "source": [
    "마지막 단계입니다.\n",
    "\n",
    "이제 scp_codes 컬럼의 각 row 마다 저장되어 있는 list에 'AFIB' 이라는 단어가 있는 지 확인하는 단계입니다.\n",
    "\n",
    "만약 list에 AFIB 이라는 단어가 있으면 1, 없으면 0으로 저장하면 됩니다.\n",
    "\n",
    "아래는 해당 코드입니다."
   ]
  },
  {
   "cell_type": "code",
   "execution_count": 12,
   "metadata": {},
   "outputs": [],
   "source": [
    "df['label'] = df.scp_codes.apply(lambda arr: 1 if 'AFIB' in arr else 0)"
   ]
  },
  {
   "cell_type": "markdown",
   "metadata": {},
   "source": [
    "성공적으로 labeling을 마쳤습니다.\n",
    "\n",
    "한번, labeling된 데이터의 개수를 출력해보겠습니다."
   ]
  },
  {
   "cell_type": "code",
   "execution_count": 13,
   "metadata": {},
   "outputs": [
    {
     "data": {
      "text/plain": [
       "label\n",
       "0    20285\n",
       "1     1514\n",
       "Name: count, dtype: int64"
      ]
     },
     "execution_count": 13,
     "metadata": {},
     "output_type": "execute_result"
    }
   ],
   "source": [
    "df.label.value_counts()"
   ]
  },
  {
   "cell_type": "markdown",
   "metadata": {},
   "source": [
    "Non-AFIB이 20,285개, AFIB이 1,514개로 출력된 것을 확인하였다면, 제대로 labeling이 된 것입니다."
   ]
  },
  {
   "cell_type": "markdown",
   "metadata": {},
   "source": [
    "#### 6. 데이터 저장"
   ]
  },
  {
   "cell_type": "markdown",
   "metadata": {},
   "source": [
    "추출한 신호 데이터와 정답 데이터를 팀원분들께서 사용하시기 편한 형태로 저장합니다."
   ]
  },
  {
   "cell_type": "code",
   "execution_count": 14,
   "metadata": {},
   "outputs": [],
   "source": [
    "# 데이터 저장 샘플 코드 (다른 데이터 형태로 저장하셔도 무방합니다. 편한 방법을 선택하세요.)\n",
    "# np.save('/DATA4/afib-renew/processed/PTB-XL-X.npy', X)\n",
    "# np.save('/DATA4/afib-renew/processed/PTB-XL-Y.npy', Y)"
   ]
  }
 ],
 "metadata": {
  "kernelspec": {
   "display_name": "afib",
   "language": "python",
   "name": "python3"
  },
  "language_info": {
   "codemirror_mode": {
    "name": "ipython",
    "version": 3
   },
   "file_extension": ".py",
   "mimetype": "text/x-python",
   "name": "python",
   "nbconvert_exporter": "python",
   "pygments_lexer": "ipython3",
   "version": "3.10.12"
  },
  "orig_nbformat": 4
 },
 "nbformat": 4,
 "nbformat_minor": 2
}
