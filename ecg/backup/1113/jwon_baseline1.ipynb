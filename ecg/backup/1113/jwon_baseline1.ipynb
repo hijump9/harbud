{
 "cells": [
  {
   "attachments": {},
   "cell_type": "markdown",
   "metadata": {},
   "source": [
    "# 0 필요한 라이브러리 임포트"
   ]
  },
  {
   "cell_type": "code",
   "execution_count": 32,
   "metadata": {},
   "outputs": [
    {
     "name": "stdout",
     "output_type": "stream",
     "text": [
      "Collecting pytorch\n",
      "  Downloading pytorch-1.0.2.tar.gz (689 bytes)\n",
      "  Preparing metadata (setup.py) ... \u001b[?25ldone\n",
      "\u001b[?25hBuilding wheels for collected packages: pytorch\n",
      "  Building wheel for pytorch (setup.py) ... \u001b[?25lerror\n",
      "  \u001b[1;31merror\u001b[0m: \u001b[1msubprocess-exited-with-error\u001b[0m\n",
      "  \n",
      "  \u001b[31m×\u001b[0m \u001b[32mpython setup.py bdist_wheel\u001b[0m did not run successfully.\n",
      "  \u001b[31m│\u001b[0m exit code: \u001b[1;36m1\u001b[0m\n",
      "  \u001b[31m╰─>\u001b[0m \u001b[31m[6 lines of output]\u001b[0m\n",
      "  \u001b[31m   \u001b[0m Traceback (most recent call last):\n",
      "  \u001b[31m   \u001b[0m   File \"<string>\", line 2, in <module>\n",
      "  \u001b[31m   \u001b[0m   File \"<pip-setuptools-caller>\", line 34, in <module>\n",
      "  \u001b[31m   \u001b[0m   File \"/tmp/pip-install-qdu7tivk/pytorch_efeb685a9d4c4310a7b8550bffa200cd/setup.py\", line 15, in <module>\n",
      "  \u001b[31m   \u001b[0m     raise Exception(message)\n",
      "  \u001b[31m   \u001b[0m Exception: You tried to install \"pytorch\". The package named for PyTorch is \"torch\"\n",
      "  \u001b[31m   \u001b[0m \u001b[31m[end of output]\u001b[0m\n",
      "  \n",
      "  \u001b[1;35mnote\u001b[0m: This error originates from a subprocess, and is likely not a problem with pip.\n",
      "\u001b[31m  ERROR: Failed building wheel for pytorch\u001b[0m\u001b[31m\n",
      "\u001b[0m\u001b[?25h  Running setup.py clean for pytorch\n",
      "Failed to build pytorch\n",
      "\u001b[31mERROR: Could not build wheels for pytorch, which is required to install pyproject.toml-based projects\u001b[0m\u001b[31m\n",
      "\u001b[0mNote: you may need to restart the kernel to use updated packages.\n"
     ]
    }
   ],
   "source": [
    "pip install pytorch"
   ]
  },
  {
   "cell_type": "code",
   "execution_count": 10,
   "metadata": {},
   "outputs": [],
   "source": [
    "# 필요한 라이브러리를 임포트합니다.\n",
    "import pandas as pd  # 데이터 조작 및 분석을 위한 라이브러리\n",
    "import numpy as np  # 수치 계산을 위한 라이브러리\n",
    "import wfdb  # 심전도 데이터를 읽기 위한 라이브러리\n",
    "import ast  # 문자열 형태의 파이썬 표현식을 파싱하기 위한 라이브러리\n",
    "from tqdm import tqdm  # 반복 작업의 진행 상황을 시각적으로 표시하기 위한 라이브러리\n",
    "import warnings; warnings.filterwarnings('ignore')  # 경고 메시지를 무시하기 위한 설정\n",
    "from IPython.display import display  # Jupyter 노트북에서 데이터를 깔끔하게 보여주기 위한 함수\n",
    "from glob import glob # 하위 디렉토리에 파일을 가져와서 다루기위한 라이브러리 \n",
    "import os # 현재 워킹디렉토리의 경로와 파일을 다루기 위한 라이브러리 \n",
    "import h5py #.h5파일을 다루기 위한 라이브러리 \n",
    "import gc #가비치 컬렉터를 다루는 라이브러리\n",
    "\n",
    "# 데이터 시각화를 위한 라이브러리를 임포트합니다.\n",
    "import matplotlib.pyplot as plt  # 그래프를 그리기 위한 라이브러리\n",
    "import seaborn as sns  # matplotlib 기반의 고급 시각화 라이브러리\n",
    "\n",
    "#머신러닝을 위한 scikit-learn 임포트 \n",
    "from sklearn.ensemble import RandomForestClassifier\n",
    "from sklearn.model_selection import train_test_split, GridSearchCV\n",
    "from sklearn.metrics import classification_report"
   ]
  },
  {
   "cell_type": "code",
   "execution_count": 33,
   "metadata": {},
   "outputs": [
    {
     "ename": "ModuleNotFoundError",
     "evalue": "No module named 'torch'",
     "output_type": "error",
     "traceback": [
      "\u001b[0;31m---------------------------------------------------------------------------\u001b[0m",
      "\u001b[0;31mModuleNotFoundError\u001b[0m                       Traceback (most recent call last)",
      "Cell \u001b[0;32mIn[33], line 3\u001b[0m\n\u001b[1;32m      1\u001b[0m \u001b[39m#딥러닝 관련 파이토치 임포트\u001b[39;00m\n\u001b[0;32m----> 3\u001b[0m \u001b[39mimport\u001b[39;00m \u001b[39mtorch\u001b[39;00m\n\u001b[1;32m      4\u001b[0m \u001b[39mimport\u001b[39;00m \u001b[39mtorch\u001b[39;00m\u001b[39m.\u001b[39;00m\u001b[39mnn\u001b[39;00m \u001b[39mas\u001b[39;00m \u001b[39mnn\u001b[39;00m\n\u001b[1;32m      5\u001b[0m \u001b[39mimport\u001b[39;00m \u001b[39mtorch\u001b[39;00m\u001b[39m.\u001b[39;00m\u001b[39mnn\u001b[39;00m\u001b[39m.\u001b[39;00m\u001b[39mfunctional\u001b[39;00m \u001b[39mas\u001b[39;00m \u001b[39mF\u001b[39;00m\n",
      "\u001b[0;31mModuleNotFoundError\u001b[0m: No module named 'torch'"
     ]
    }
   ],
   "source": [
    "#딥러닝 관련 파이토치 임포트\n",
    "\n",
    "import torch\n",
    "import torch.nn as nn\n",
    "import torch.nn.functional as F\n",
    " \n",
    "from torch.utils.data import TensorDataset # 텐서데이터셋\n",
    "from torch.utils.data import DataLoader # 데이터로더"
   ]
  },
  {
   "attachments": {},
   "cell_type": "markdown",
   "metadata": {},
   "source": [
    "# 1. eda\n",
    "- 1-1 데이터 불러오기 및 변수 생성하기  "
   ]
  },
  {
   "attachments": {},
   "cell_type": "markdown",
   "metadata": {},
   "source": [
    "## 1-1 데이터 불러오기 및 변수 생성하기  "
   ]
  },
  {
   "attachments": {},
   "cell_type": "markdown",
   "metadata": {},
   "source": [
    "- df_ptb: ptb메타 데이터 \n",
    "- df_sph: sph 메타데이터 \n",
    "- df_ptb_lead1: ptb-xl lead1 데이터 \n",
    "- df_sph_lead1: sph lead1 데이터"
   ]
  },
  {
   "cell_type": "code",
   "execution_count": 5,
   "metadata": {},
   "outputs": [
    {
     "data": {
      "text/plain": [
       "'/root/harbud/ecg'"
      ]
     },
     "execution_count": 5,
     "metadata": {},
     "output_type": "execute_result"
    }
   ],
   "source": [
    "os.getcwd()"
   ]
  },
  {
   "cell_type": "code",
   "execution_count": 15,
   "metadata": {},
   "outputs": [
    {
     "name": "stderr",
     "output_type": "stream",
     "text": [
      "100%|██████████| 21799/21799 [01:22<00:00, 264.26it/s]\n"
     ]
    },
    {
     "name": "stdout",
     "output_type": "stream",
     "text": [
      "Final array shape: (21799, 5000)\n"
     ]
    }
   ],
   "source": [
    "# 데이터 프레임 로드\n",
    "path = './ptb_xl_data/'\n",
    "df_ptb = pd.read_csv(path + 'ptbxl_database.csv', index_col='ecg_id')\n",
    "\n",
    "# 파일 이름 리스트 변환\n",
    "filenames = df_ptb['filename_hr'].tolist()\n",
    "base_path = './ptb_xl_data/'\n",
    "\n",
    "# Lead I 신호를 저장할 배열 초기화\n",
    "lead1_signals = []\n",
    "\n",
    "# 각 파일에서 Lead I 신호 추출\n",
    "for filename in tqdm(filenames):\n",
    "    signal, meta = wfdb.rdsamp(base_path + filename)\n",
    "\n",
    "    # 신호 데이터 타입을 float32로 변경\n",
    "    # signal = signal.astype(np.float32)\n",
    "    \n",
    "    lead1 = signal[:, 0]  # Lead I 신호 추출\n",
    "    lead1_signals.append(lead1)\n",
    "\n",
    "    # 사용하지 않는 변수 해제\n",
    "    # del signal, meta\n",
    "    # gc.collect()  # 가비지 컬렉터 실행\n",
    "\n",
    "\n",
    "# 배열을 numpy 배열로 변환\n",
    "df_ptb_lead1 = np.array(lead1_signals)\n",
    "\n",
    "# 최종 배열 형태 확인\n",
    "print(\"Final array shape:\", df_ptb_lead1.shape)\n",
    "\n"
   ]
  },
  {
   "cell_type": "code",
   "execution_count": 14,
   "metadata": {},
   "outputs": [
    {
     "data": {
      "text/html": [
       "<div>\n",
       "<style scoped>\n",
       "    .dataframe tbody tr th:only-of-type {\n",
       "        vertical-align: middle;\n",
       "    }\n",
       "\n",
       "    .dataframe tbody tr th {\n",
       "        vertical-align: top;\n",
       "    }\n",
       "\n",
       "    .dataframe thead th {\n",
       "        text-align: right;\n",
       "    }\n",
       "</style>\n",
       "<table border=\"1\" class=\"dataframe\">\n",
       "  <thead>\n",
       "    <tr style=\"text-align: right;\">\n",
       "      <th></th>\n",
       "      <th>patient_id</th>\n",
       "      <th>age</th>\n",
       "      <th>sex</th>\n",
       "      <th>height</th>\n",
       "      <th>weight</th>\n",
       "      <th>nurse</th>\n",
       "      <th>site</th>\n",
       "      <th>device</th>\n",
       "      <th>recording_date</th>\n",
       "      <th>report</th>\n",
       "      <th>...</th>\n",
       "      <th>validated_by_human</th>\n",
       "      <th>baseline_drift</th>\n",
       "      <th>static_noise</th>\n",
       "      <th>burst_noise</th>\n",
       "      <th>electrodes_problems</th>\n",
       "      <th>extra_beats</th>\n",
       "      <th>pacemaker</th>\n",
       "      <th>strat_fold</th>\n",
       "      <th>filename_lr</th>\n",
       "      <th>filename_hr</th>\n",
       "    </tr>\n",
       "    <tr>\n",
       "      <th>ecg_id</th>\n",
       "      <th></th>\n",
       "      <th></th>\n",
       "      <th></th>\n",
       "      <th></th>\n",
       "      <th></th>\n",
       "      <th></th>\n",
       "      <th></th>\n",
       "      <th></th>\n",
       "      <th></th>\n",
       "      <th></th>\n",
       "      <th></th>\n",
       "      <th></th>\n",
       "      <th></th>\n",
       "      <th></th>\n",
       "      <th></th>\n",
       "      <th></th>\n",
       "      <th></th>\n",
       "      <th></th>\n",
       "      <th></th>\n",
       "      <th></th>\n",
       "      <th></th>\n",
       "    </tr>\n",
       "  </thead>\n",
       "  <tbody>\n",
       "    <tr>\n",
       "      <th>1</th>\n",
       "      <td>15709.0</td>\n",
       "      <td>56.0</td>\n",
       "      <td>1</td>\n",
       "      <td>NaN</td>\n",
       "      <td>63.0</td>\n",
       "      <td>2.0</td>\n",
       "      <td>0.0</td>\n",
       "      <td>CS-12   E</td>\n",
       "      <td>1984-11-09 09:17:34</td>\n",
       "      <td>sinusrhythmus periphere niederspannung</td>\n",
       "      <td>...</td>\n",
       "      <td>True</td>\n",
       "      <td>NaN</td>\n",
       "      <td>, I-V1,</td>\n",
       "      <td>NaN</td>\n",
       "      <td>NaN</td>\n",
       "      <td>NaN</td>\n",
       "      <td>NaN</td>\n",
       "      <td>3</td>\n",
       "      <td>records100/00000/00001_lr</td>\n",
       "      <td>records500/00000/00001_hr</td>\n",
       "    </tr>\n",
       "    <tr>\n",
       "      <th>2</th>\n",
       "      <td>13243.0</td>\n",
       "      <td>19.0</td>\n",
       "      <td>0</td>\n",
       "      <td>NaN</td>\n",
       "      <td>70.0</td>\n",
       "      <td>2.0</td>\n",
       "      <td>0.0</td>\n",
       "      <td>CS-12   E</td>\n",
       "      <td>1984-11-14 12:55:37</td>\n",
       "      <td>sinusbradykardie sonst normales ekg</td>\n",
       "      <td>...</td>\n",
       "      <td>True</td>\n",
       "      <td>NaN</td>\n",
       "      <td>NaN</td>\n",
       "      <td>NaN</td>\n",
       "      <td>NaN</td>\n",
       "      <td>NaN</td>\n",
       "      <td>NaN</td>\n",
       "      <td>2</td>\n",
       "      <td>records100/00000/00002_lr</td>\n",
       "      <td>records500/00000/00002_hr</td>\n",
       "    </tr>\n",
       "    <tr>\n",
       "      <th>3</th>\n",
       "      <td>20372.0</td>\n",
       "      <td>37.0</td>\n",
       "      <td>1</td>\n",
       "      <td>NaN</td>\n",
       "      <td>69.0</td>\n",
       "      <td>2.0</td>\n",
       "      <td>0.0</td>\n",
       "      <td>CS-12   E</td>\n",
       "      <td>1984-11-15 12:49:10</td>\n",
       "      <td>sinusrhythmus normales ekg</td>\n",
       "      <td>...</td>\n",
       "      <td>True</td>\n",
       "      <td>NaN</td>\n",
       "      <td>NaN</td>\n",
       "      <td>NaN</td>\n",
       "      <td>NaN</td>\n",
       "      <td>NaN</td>\n",
       "      <td>NaN</td>\n",
       "      <td>5</td>\n",
       "      <td>records100/00000/00003_lr</td>\n",
       "      <td>records500/00000/00003_hr</td>\n",
       "    </tr>\n",
       "    <tr>\n",
       "      <th>4</th>\n",
       "      <td>17014.0</td>\n",
       "      <td>24.0</td>\n",
       "      <td>0</td>\n",
       "      <td>NaN</td>\n",
       "      <td>82.0</td>\n",
       "      <td>2.0</td>\n",
       "      <td>0.0</td>\n",
       "      <td>CS-12   E</td>\n",
       "      <td>1984-11-15 13:44:57</td>\n",
       "      <td>sinusrhythmus normales ekg</td>\n",
       "      <td>...</td>\n",
       "      <td>True</td>\n",
       "      <td>, II,III,AVF</td>\n",
       "      <td>NaN</td>\n",
       "      <td>NaN</td>\n",
       "      <td>NaN</td>\n",
       "      <td>NaN</td>\n",
       "      <td>NaN</td>\n",
       "      <td>3</td>\n",
       "      <td>records100/00000/00004_lr</td>\n",
       "      <td>records500/00000/00004_hr</td>\n",
       "    </tr>\n",
       "    <tr>\n",
       "      <th>5</th>\n",
       "      <td>17448.0</td>\n",
       "      <td>19.0</td>\n",
       "      <td>1</td>\n",
       "      <td>NaN</td>\n",
       "      <td>70.0</td>\n",
       "      <td>2.0</td>\n",
       "      <td>0.0</td>\n",
       "      <td>CS-12   E</td>\n",
       "      <td>1984-11-17 10:43:15</td>\n",
       "      <td>sinusrhythmus normales ekg</td>\n",
       "      <td>...</td>\n",
       "      <td>True</td>\n",
       "      <td>, III,AVR,AVF</td>\n",
       "      <td>NaN</td>\n",
       "      <td>NaN</td>\n",
       "      <td>NaN</td>\n",
       "      <td>NaN</td>\n",
       "      <td>NaN</td>\n",
       "      <td>4</td>\n",
       "      <td>records100/00000/00005_lr</td>\n",
       "      <td>records500/00000/00005_hr</td>\n",
       "    </tr>\n",
       "    <tr>\n",
       "      <th>...</th>\n",
       "      <td>...</td>\n",
       "      <td>...</td>\n",
       "      <td>...</td>\n",
       "      <td>...</td>\n",
       "      <td>...</td>\n",
       "      <td>...</td>\n",
       "      <td>...</td>\n",
       "      <td>...</td>\n",
       "      <td>...</td>\n",
       "      <td>...</td>\n",
       "      <td>...</td>\n",
       "      <td>...</td>\n",
       "      <td>...</td>\n",
       "      <td>...</td>\n",
       "      <td>...</td>\n",
       "      <td>...</td>\n",
       "      <td>...</td>\n",
       "      <td>...</td>\n",
       "      <td>...</td>\n",
       "      <td>...</td>\n",
       "      <td>...</td>\n",
       "    </tr>\n",
       "    <tr>\n",
       "      <th>21833</th>\n",
       "      <td>17180.0</td>\n",
       "      <td>67.0</td>\n",
       "      <td>1</td>\n",
       "      <td>NaN</td>\n",
       "      <td>NaN</td>\n",
       "      <td>1.0</td>\n",
       "      <td>2.0</td>\n",
       "      <td>AT-60    3</td>\n",
       "      <td>2001-05-31 09:14:35</td>\n",
       "      <td>ventrikulÄre extrasystole(n) sinustachykardie ...</td>\n",
       "      <td>...</td>\n",
       "      <td>True</td>\n",
       "      <td>NaN</td>\n",
       "      <td>, alles,</td>\n",
       "      <td>NaN</td>\n",
       "      <td>NaN</td>\n",
       "      <td>1ES</td>\n",
       "      <td>NaN</td>\n",
       "      <td>7</td>\n",
       "      <td>records100/21000/21833_lr</td>\n",
       "      <td>records500/21000/21833_hr</td>\n",
       "    </tr>\n",
       "    <tr>\n",
       "      <th>21834</th>\n",
       "      <td>20703.0</td>\n",
       "      <td>300.0</td>\n",
       "      <td>0</td>\n",
       "      <td>NaN</td>\n",
       "      <td>NaN</td>\n",
       "      <td>1.0</td>\n",
       "      <td>2.0</td>\n",
       "      <td>AT-60    3</td>\n",
       "      <td>2001-06-05 11:33:39</td>\n",
       "      <td>sinusrhythmus lagetyp normal qrs(t) abnorm    ...</td>\n",
       "      <td>...</td>\n",
       "      <td>True</td>\n",
       "      <td>NaN</td>\n",
       "      <td>NaN</td>\n",
       "      <td>NaN</td>\n",
       "      <td>NaN</td>\n",
       "      <td>NaN</td>\n",
       "      <td>NaN</td>\n",
       "      <td>4</td>\n",
       "      <td>records100/21000/21834_lr</td>\n",
       "      <td>records500/21000/21834_hr</td>\n",
       "    </tr>\n",
       "    <tr>\n",
       "      <th>21835</th>\n",
       "      <td>19311.0</td>\n",
       "      <td>59.0</td>\n",
       "      <td>1</td>\n",
       "      <td>NaN</td>\n",
       "      <td>NaN</td>\n",
       "      <td>1.0</td>\n",
       "      <td>2.0</td>\n",
       "      <td>AT-60    3</td>\n",
       "      <td>2001-06-08 10:30:27</td>\n",
       "      <td>sinusrhythmus lagetyp normal t abnorm in anter...</td>\n",
       "      <td>...</td>\n",
       "      <td>True</td>\n",
       "      <td>NaN</td>\n",
       "      <td>, I-AVR,</td>\n",
       "      <td>NaN</td>\n",
       "      <td>NaN</td>\n",
       "      <td>NaN</td>\n",
       "      <td>NaN</td>\n",
       "      <td>2</td>\n",
       "      <td>records100/21000/21835_lr</td>\n",
       "      <td>records500/21000/21835_hr</td>\n",
       "    </tr>\n",
       "    <tr>\n",
       "      <th>21836</th>\n",
       "      <td>8873.0</td>\n",
       "      <td>64.0</td>\n",
       "      <td>1</td>\n",
       "      <td>NaN</td>\n",
       "      <td>NaN</td>\n",
       "      <td>1.0</td>\n",
       "      <td>2.0</td>\n",
       "      <td>AT-60    3</td>\n",
       "      <td>2001-06-09 18:21:49</td>\n",
       "      <td>supraventrikulÄre extrasystole(n) sinusrhythmu...</td>\n",
       "      <td>...</td>\n",
       "      <td>True</td>\n",
       "      <td>NaN</td>\n",
       "      <td>NaN</td>\n",
       "      <td>NaN</td>\n",
       "      <td>NaN</td>\n",
       "      <td>SVES</td>\n",
       "      <td>NaN</td>\n",
       "      <td>8</td>\n",
       "      <td>records100/21000/21836_lr</td>\n",
       "      <td>records500/21000/21836_hr</td>\n",
       "    </tr>\n",
       "    <tr>\n",
       "      <th>21837</th>\n",
       "      <td>11744.0</td>\n",
       "      <td>68.0</td>\n",
       "      <td>0</td>\n",
       "      <td>NaN</td>\n",
       "      <td>NaN</td>\n",
       "      <td>1.0</td>\n",
       "      <td>2.0</td>\n",
       "      <td>AT-60    3</td>\n",
       "      <td>2001-06-11 16:43:01</td>\n",
       "      <td>sinusrhythmus p-sinistrocardiale lagetyp norma...</td>\n",
       "      <td>...</td>\n",
       "      <td>True</td>\n",
       "      <td>NaN</td>\n",
       "      <td>, I-AVL,</td>\n",
       "      <td>NaN</td>\n",
       "      <td>NaN</td>\n",
       "      <td>NaN</td>\n",
       "      <td>NaN</td>\n",
       "      <td>9</td>\n",
       "      <td>records100/21000/21837_lr</td>\n",
       "      <td>records500/21000/21837_hr</td>\n",
       "    </tr>\n",
       "  </tbody>\n",
       "</table>\n",
       "<p>21799 rows × 27 columns</p>\n",
       "</div>"
      ],
      "text/plain": [
       "        patient_id    age  sex  height  weight  nurse  site      device  \\\n",
       "ecg_id                                                                    \n",
       "1          15709.0   56.0    1     NaN    63.0    2.0   0.0   CS-12   E   \n",
       "2          13243.0   19.0    0     NaN    70.0    2.0   0.0   CS-12   E   \n",
       "3          20372.0   37.0    1     NaN    69.0    2.0   0.0   CS-12   E   \n",
       "4          17014.0   24.0    0     NaN    82.0    2.0   0.0   CS-12   E   \n",
       "5          17448.0   19.0    1     NaN    70.0    2.0   0.0   CS-12   E   \n",
       "...            ...    ...  ...     ...     ...    ...   ...         ...   \n",
       "21833      17180.0   67.0    1     NaN     NaN    1.0   2.0  AT-60    3   \n",
       "21834      20703.0  300.0    0     NaN     NaN    1.0   2.0  AT-60    3   \n",
       "21835      19311.0   59.0    1     NaN     NaN    1.0   2.0  AT-60    3   \n",
       "21836       8873.0   64.0    1     NaN     NaN    1.0   2.0  AT-60    3   \n",
       "21837      11744.0   68.0    0     NaN     NaN    1.0   2.0  AT-60    3   \n",
       "\n",
       "             recording_date  \\\n",
       "ecg_id                        \n",
       "1       1984-11-09 09:17:34   \n",
       "2       1984-11-14 12:55:37   \n",
       "3       1984-11-15 12:49:10   \n",
       "4       1984-11-15 13:44:57   \n",
       "5       1984-11-17 10:43:15   \n",
       "...                     ...   \n",
       "21833   2001-05-31 09:14:35   \n",
       "21834   2001-06-05 11:33:39   \n",
       "21835   2001-06-08 10:30:27   \n",
       "21836   2001-06-09 18:21:49   \n",
       "21837   2001-06-11 16:43:01   \n",
       "\n",
       "                                                   report  ...  \\\n",
       "ecg_id                                                     ...   \n",
       "1                  sinusrhythmus periphere niederspannung  ...   \n",
       "2                     sinusbradykardie sonst normales ekg  ...   \n",
       "3                              sinusrhythmus normales ekg  ...   \n",
       "4                              sinusrhythmus normales ekg  ...   \n",
       "5                              sinusrhythmus normales ekg  ...   \n",
       "...                                                   ...  ...   \n",
       "21833   ventrikulÄre extrasystole(n) sinustachykardie ...  ...   \n",
       "21834   sinusrhythmus lagetyp normal qrs(t) abnorm    ...  ...   \n",
       "21835   sinusrhythmus lagetyp normal t abnorm in anter...  ...   \n",
       "21836   supraventrikulÄre extrasystole(n) sinusrhythmu...  ...   \n",
       "21837   sinusrhythmus p-sinistrocardiale lagetyp norma...  ...   \n",
       "\n",
       "       validated_by_human  baseline_drift static_noise burst_noise  \\\n",
       "ecg_id                                                               \n",
       "1                    True             NaN    , I-V1,           NaN   \n",
       "2                    True             NaN          NaN         NaN   \n",
       "3                    True             NaN          NaN         NaN   \n",
       "4                    True    , II,III,AVF          NaN         NaN   \n",
       "5                    True   , III,AVR,AVF          NaN         NaN   \n",
       "...                   ...             ...          ...         ...   \n",
       "21833                True             NaN   , alles,           NaN   \n",
       "21834                True             NaN          NaN         NaN   \n",
       "21835                True             NaN   , I-AVR,           NaN   \n",
       "21836                True             NaN          NaN         NaN   \n",
       "21837                True             NaN   , I-AVL,           NaN   \n",
       "\n",
       "        electrodes_problems  extra_beats  pacemaker  strat_fold  \\\n",
       "ecg_id                                                            \n",
       "1                       NaN          NaN        NaN           3   \n",
       "2                       NaN          NaN        NaN           2   \n",
       "3                       NaN          NaN        NaN           5   \n",
       "4                       NaN          NaN        NaN           3   \n",
       "5                       NaN          NaN        NaN           4   \n",
       "...                     ...          ...        ...         ...   \n",
       "21833                   NaN          1ES        NaN           7   \n",
       "21834                   NaN          NaN        NaN           4   \n",
       "21835                   NaN          NaN        NaN           2   \n",
       "21836                   NaN         SVES        NaN           8   \n",
       "21837                   NaN          NaN        NaN           9   \n",
       "\n",
       "                      filename_lr                filename_hr  \n",
       "ecg_id                                                        \n",
       "1       records100/00000/00001_lr  records500/00000/00001_hr  \n",
       "2       records100/00000/00002_lr  records500/00000/00002_hr  \n",
       "3       records100/00000/00003_lr  records500/00000/00003_hr  \n",
       "4       records100/00000/00004_lr  records500/00000/00004_hr  \n",
       "5       records100/00000/00005_lr  records500/00000/00005_hr  \n",
       "...                           ...                        ...  \n",
       "21833   records100/21000/21833_lr  records500/21000/21833_hr  \n",
       "21834   records100/21000/21834_lr  records500/21000/21834_hr  \n",
       "21835   records100/21000/21835_lr  records500/21000/21835_hr  \n",
       "21836   records100/21000/21836_lr  records500/21000/21836_hr  \n",
       "21837   records100/21000/21837_lr  records500/21000/21837_hr  \n",
       "\n",
       "[21799 rows x 27 columns]"
      ]
     },
     "execution_count": 14,
     "metadata": {},
     "output_type": "execute_result"
    }
   ],
   "source": [
    "df_ptb"
   ]
  },
  {
   "cell_type": "code",
   "execution_count": 18,
   "metadata": {},
   "outputs": [
    {
     "name": "stderr",
     "output_type": "stream",
     "text": [
      "100%|██████████| 25770/25770 [00:59<00:00, 435.93it/s]\n"
     ]
    },
    {
     "name": "stdout",
     "output_type": "stream",
     "text": [
      "Final array shape: (25770, 5000)\n"
     ]
    }
   ],
   "source": [
    "# .h5 파일 목록 가져오기\n",
    "filenames = sorted(glob(\"./sph_data/records_sph/*.h5\"))\n",
    "\n",
    "# 메타데이터 로드 및 파일명 열 추가\n",
    "df_sph = pd.read_csv(\"./sph_data/metadata.csv\")\n",
    "df['filename'] = filenames\n",
    "\n",
    "# Lead I 신호를 저장할 배열 초기화\n",
    "lead1_signals_sph = []\n",
    "\n",
    "# 각 파일에서 Lead I 신호 추출\n",
    "for filename in tqdm(df['filename']):\n",
    "    with h5py.File(filename, 'r') as f:\n",
    "        signal = f['ecg'][:].T\n",
    "\n",
    "    lead1 = signal[:, 0]  # Lead I 신호 추출\n",
    "\n",
    "    # 데이터 길이에 따른 처리\n",
    "    if lead1.shape[0] == 5000:\n",
    "        pass\n",
    "    else:\n",
    "        start_idx = np.random.randint(0, lead1.shape[0] - 4999)\n",
    "        lead1 = lead1[start_idx:start_idx+5000]\n",
    "\n",
    "    lead1_signals_sph.append(lead1)\n",
    "\n",
    "# 배열을 numpy 배열로 변환\n",
    "df_sph_lead1 = np.array(lead1_signals_sph)\n",
    "\n",
    "# 최종 배열 형태 확인 및 저장\n",
    "print(\"Final array shape:\", df_sph_lead1.shape)"
   ]
  },
  {
   "cell_type": "code",
   "execution_count": 19,
   "metadata": {},
   "outputs": [
    {
     "data": {
      "text/plain": [
       "976"
      ]
     },
     "execution_count": 19,
     "metadata": {},
     "output_type": "execute_result"
    }
   ],
   "source": [
    "gc.collect()"
   ]
  },
  {
   "attachments": {},
   "cell_type": "markdown",
   "metadata": {},
   "source": [
    "# 2. data preprocessing\n",
    "- 2-1 df_ptb의 scp_codes를 이용하여 데이터 라벨링 \n",
    "- 2-2 df_sph의 심방세동 라벨링 "
   ]
  },
  {
   "attachments": {},
   "cell_type": "markdown",
   "metadata": {},
   "source": [
    "## 2-1 df_ptb의 데이터 라벨 생성 "
   ]
  },
  {
   "cell_type": "code",
   "execution_count": 20,
   "metadata": {},
   "outputs": [],
   "source": [
    "# str (문자열) 코드를 딕셔너리로 변환 \n",
    "df_ptb.scp_codes = df_ptb.scp_codes.apply(lambda x: ast.literal_eval(x))"
   ]
  },
  {
   "cell_type": "code",
   "execution_count": 21,
   "metadata": {},
   "outputs": [],
   "source": [
    "# 딕셔너리에서 라벨 추출 ()\n",
    "df_ptb.scp_codes = df_ptb.scp_codes.apply(lambda x: list(x.keys()))"
   ]
  },
  {
   "cell_type": "code",
   "execution_count": 22,
   "metadata": {},
   "outputs": [],
   "source": [
    "# 심방세동 라벨 컬럼 생성 (정답 컬럼)\n",
    "df_ptb['label'] = df_ptb.scp_codes.apply(lambda arr: 1 if 'AFIB' in arr else 0)"
   ]
  },
  {
   "cell_type": "code",
   "execution_count": 24,
   "metadata": {},
   "outputs": [
    {
     "data": {
      "text/plain": [
       "label\n",
       "0    20285\n",
       "1     1514\n",
       "Name: count, dtype: int64"
      ]
     },
     "execution_count": 24,
     "metadata": {},
     "output_type": "execute_result"
    }
   ],
   "source": [
    "# 밸류값 확인\n",
    "df_ptb.label.value_counts()"
   ]
  },
  {
   "attachments": {},
   "cell_type": "markdown",
   "metadata": {},
   "source": [
    "## 2-2 df_sph의 심방 세동 라벨링 "
   ]
  },
  {
   "cell_type": "code",
   "execution_count": 27,
   "metadata": {},
   "outputs": [
    {
     "data": {
      "text/plain": [
       "0         22;23\n",
       "1             1\n",
       "2             1\n",
       "3            23\n",
       "4           146\n",
       "          ...  \n",
       "25765       146\n",
       "25766        23\n",
       "25767       147\n",
       "25768    22;147\n",
       "25769        23\n",
       "Name: AHA_Code, Length: 25770, dtype: object"
      ]
     },
     "execution_count": 27,
     "metadata": {},
     "output_type": "execute_result"
    }
   ],
   "source": [
    "# df_sph의 AHA_Code 항목을 통해 질별 자료 확인 \n",
    "df_sph.AHA_Code"
   ]
  },
  {
   "cell_type": "code",
   "execution_count": 26,
   "metadata": {},
   "outputs": [],
   "source": [
    "# 'AHA_Code' 컬럼의 각 값에 대해 '50'이 포함되어 있는지 확인하고, 'label' 컬럼 생성\n",
    "def check_contains_50(code):\n",
    "    # 공백을 없애고, ';' 또는 '+'로 분리\n",
    "    numbers = code.replace(' ', '').replace('+', ';').split(';')\n",
    "    # '50'이 포함되어 있는지 확인\n",
    "    return '50' in numbers\n",
    "# 'label' 컬럼 생성\n",
    "df_sph['label'] = df_sph['AHA_Code'].apply(check_contains_50).astype(int)"
   ]
  },
  {
   "cell_type": "code",
   "execution_count": 28,
   "metadata": {},
   "outputs": [
    {
     "data": {
      "text/plain": [
       "label\n",
       "0    25095\n",
       "1      675\n",
       "Name: count, dtype: int64"
      ]
     },
     "execution_count": 28,
     "metadata": {},
     "output_type": "execute_result"
    }
   ],
   "source": [
    "df_sph.label.value_counts()"
   ]
  },
  {
   "attachments": {},
   "cell_type": "markdown",
   "metadata": {},
   "source": [
    "# 3. model 생성 및 학습 \n",
    "- 라이브러리는 pytorch를 사용 \n",
    "- 3-1 모델 셀렉팅 \n",
    "- 3-2 파이토치 데이터 로더 생성 "
   ]
  },
  {
   "attachments": {},
   "cell_type": "markdown",
   "metadata": {},
   "source": [
    "## 3-1 모델 셀렉팅 "
   ]
  },
  {
   "attachments": {},
   "cell_type": "markdown",
   "metadata": {},
   "source": [
    "- cnn:\n",
    "- rnn:\n",
    "- lstm:\n"
   ]
  },
  {
   "attachments": {},
   "cell_type": "markdown",
   "metadata": {},
   "source": [
    "## 3-2 파이토치 데이터 로더 생성"
   ]
  },
  {
   "cell_type": "code",
   "execution_count": null,
   "metadata": {},
   "outputs": [],
   "source": []
  },
  {
   "attachments": {},
   "cell_type": "markdown",
   "metadata": {},
   "source": [
    "# 4. model  평가 및 고도화\n",
    "- 하이퍼 파라미터 튜닝\n",
    "- 드롭아웃\n",
    "- 정규화 \n",
    "- 리샘플링\n",
    "- optimizer(최적화)\n"
   ]
  },
  {
   "cell_type": "markdown",
   "metadata": {},
   "source": []
  }
 ],
 "metadata": {
  "kernelspec": {
   "display_name": "Python 3",
   "language": "python",
   "name": "python3"
  },
  "language_info": {
   "codemirror_mode": {
    "name": "ipython",
    "version": 3
   },
   "file_extension": ".py",
   "mimetype": "text/x-python",
   "name": "python",
   "nbconvert_exporter": "python",
   "pygments_lexer": "ipython3",
   "version": "3.8.10"
  },
  "orig_nbformat": 4
 },
 "nbformat": 4,
 "nbformat_minor": 2
}
