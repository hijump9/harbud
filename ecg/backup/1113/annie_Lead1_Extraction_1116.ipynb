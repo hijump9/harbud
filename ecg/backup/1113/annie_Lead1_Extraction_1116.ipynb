{
 "cells": [
  {
   "cell_type": "markdown",
   "metadata": {},
   "source": [
    "### Lead1 신호데이터 추출 및 .npy 저장\n",
    "- ptb, sph 모두 완료\n",
    "- ANNIE 1116 작업 완료"
   ]
  },
  {
   "cell_type": "markdown",
   "metadata": {},
   "source": [
    "## PTB"
   ]
  },
  {
   "cell_type": "code",
   "execution_count": 2,
   "metadata": {},
   "outputs": [
    {
     "name": "stdout",
     "output_type": "stream",
     "text": [
      "Final array shape: (21799, 5000)\n"
     ]
    }
   ],
   "source": [
    "import wfdb\n",
    "import numpy as np\n",
    "import pandas as pd\n",
    "import gc\n",
    "from tqdm import tqdm\n",
    "\n",
    "# 데이터 프레임 로드\n",
    "path = './ptb-xl/ptb-xl/'\n",
    "df = pd.read_csv(path + 'ptbxl_database.csv', index_col='ecg_id')\n",
    "\n",
    "# 파일 이름 리스트 변환\n",
    "filenames = df['filename_hr'].tolist()\n",
    "base_path = './ptb-xl/ptb-xl/'\n",
    "\n",
    "# Lead I 신호를 저장할 배열 초기화\n",
    "lead1_signals = []\n",
    "\n",
    "# 각 파일에서 Lead I 신호 추출\n",
    "for filename in tqdm(filenames):\n",
    "    signal, meta = wfdb.rdsamp(base_path + filename)\n",
    "\n",
    "    # 신호 데이터 타입을 float32로 변경\n",
    "    signal = signal.astype(np.float32)\n",
    "    \n",
    "    lead1 = signal[:, 0]  # Lead I 신호 추출\n",
    "    lead1_signals.append(lead1)\n",
    "\n",
    "    # 사용하지 않는 변수 해제\n",
    "    del signal, meta\n",
    "    gc.collect()  # 가비지 컬렉터 실행\n",
    "\n",
    "\n",
    "# 배열을 numpy 배열로 변환\n",
    "lead1_signals = np.array(lead1_signals)\n",
    "\n",
    "# 최종 배열 형태 확인\n",
    "print(\"Final array shape:\", lead1_signals.shape)"
   ]
  },
  {
   "cell_type": "code",
   "execution_count": 3,
   "metadata": {},
   "outputs": [],
   "source": [
    "np.save('./ptb-xl/ptb-xl/lead1.npy', lead1_signals)"
   ]
  },
  {
   "cell_type": "markdown",
   "metadata": {},
   "source": [
    "## SPH"
   ]
  },
  {
   "cell_type": "code",
   "execution_count": 5,
   "metadata": {},
   "outputs": [
    {
     "name": "stderr",
     "output_type": "stream",
     "text": [
      "  2%|▏         | 411/25770 [00:05<05:40, 74.52it/s]\n"
     ]
    },
    {
     "ename": "KeyboardInterrupt",
     "evalue": "",
     "output_type": "error",
     "traceback": [
      "\u001b[1;31m---------------------------------------------------------------------------\u001b[0m",
      "\u001b[1;31mKeyboardInterrupt\u001b[0m                         Traceback (most recent call last)",
      "\u001b[1;32mc:\\Users\\zkzk7\\Downloads\\ANNIE_1116.ipynb Cell 4\u001b[0m line \u001b[0;36m1\n\u001b[0;32m     <a href='vscode-notebook-cell:/c%3A/Users/zkzk7/Downloads/ANNIE_1116.ipynb#W3sZmlsZQ%3D%3D?line=16'>17</a>\u001b[0m \u001b[39m# 각 파일에서 Lead I 신호 추출\u001b[39;00m\n\u001b[0;32m     <a href='vscode-notebook-cell:/c%3A/Users/zkzk7/Downloads/ANNIE_1116.ipynb#W3sZmlsZQ%3D%3D?line=17'>18</a>\u001b[0m \u001b[39mfor\u001b[39;00m filename \u001b[39min\u001b[39;00m tqdm(df[\u001b[39m'\u001b[39m\u001b[39mfilename\u001b[39m\u001b[39m'\u001b[39m]):\n\u001b[1;32m---> <a href='vscode-notebook-cell:/c%3A/Users/zkzk7/Downloads/ANNIE_1116.ipynb#W3sZmlsZQ%3D%3D?line=18'>19</a>\u001b[0m     \u001b[39mwith\u001b[39;00m h5py\u001b[39m.\u001b[39;49mFile(filename, \u001b[39m'\u001b[39;49m\u001b[39mr\u001b[39;49m\u001b[39m'\u001b[39;49m) \u001b[39mas\u001b[39;00m f:\n\u001b[0;32m     <a href='vscode-notebook-cell:/c%3A/Users/zkzk7/Downloads/ANNIE_1116.ipynb#W3sZmlsZQ%3D%3D?line=19'>20</a>\u001b[0m         signal \u001b[39m=\u001b[39m f[\u001b[39m'\u001b[39m\u001b[39mecg\u001b[39m\u001b[39m'\u001b[39m][:]\u001b[39m.\u001b[39mT\n\u001b[0;32m     <a href='vscode-notebook-cell:/c%3A/Users/zkzk7/Downloads/ANNIE_1116.ipynb#W3sZmlsZQ%3D%3D?line=21'>22</a>\u001b[0m     lead1 \u001b[39m=\u001b[39m signal[:, \u001b[39m0\u001b[39m]  \u001b[39m# Lead I 신호 추출\u001b[39;00m\n",
      "\u001b[1;31mKeyboardInterrupt\u001b[0m: "
     ]
    }
   ],
   "source": [
    "import glob\n",
    "import h5py\n",
    "import numpy as np\n",
    "import pandas as pd\n",
    "from tqdm import tqdm\n",
    "\n",
    "# .h5 파일 목록 가져오기\n",
    "filenames = sorted(glob.glob(\"./records.tar/SPH/*.h5\"))\n",
    "\n",
    "# 메타데이터 로드 및 파일명 열 추가\n",
    "df = pd.read_csv(\"./records.tar/SPH/metadata.csv\")\n",
    "df['filename'] = filenames\n",
    "\n",
    "# Lead I 신호를 저장할 배열 초기화\n",
    "lead1_signals_sph = []\n",
    "\n",
    "# 각 파일에서 Lead I 신호 추출\n",
    "for filename in tqdm(df['filename']):\n",
    "    with h5py.File(filename, 'r') as f:\n",
    "        signal = f['ecg'][:].T\n",
    "\n",
    "    lead1 = signal[:, 0]  # Lead I 신호 추출\n",
    "\n",
    "    # 데이터 길이에 따른 처리\n",
    "    if lead1.shape[0] == 5000:\n",
    "        pass\n",
    "    else:\n",
    "        start_idx = np.random.randint(0, lead1.shape[0] - 4999)\n",
    "        lead1 = lead1[start_idx:start_idx+5000]\n",
    "\n",
    "    lead1_signals_sph.append(lead1)\n",
    "\n",
    "# 배열을 numpy 배열로 변환\n",
    "lead1_signals_sph = np.array(lead1_signals_sph)\n",
    "\n",
    "# 최종 배열 형태 확인 및 저장\n",
    "print(\"Final array shape:\", lead1_signals_sph.shape)"
   ]
  },
  {
   "cell_type": "code",
   "execution_count": null,
   "metadata": {},
   "outputs": [],
   "source": [
    "np.save('./ptb-xl/ptb-xl/lead1_sph.npy', lead1_signals_sph)"
   ]
  },
  {
   "cell_type": "markdown",
   "metadata": {},
   "source": [
    "## 데이터 확인"
   ]
  },
  {
   "cell_type": "code",
   "execution_count": 4,
   "metadata": {},
   "outputs": [
    {
     "data": {
      "text/plain": [
       "array([[-0.115, -0.115, -0.115, ...,  0.21 ,  0.21 ,  0.21 ],\n",
       "       [-0.015, -0.015, -0.015, ..., -0.055, -0.055, -0.055],\n",
       "       [-0.035, -0.035, -0.035, ..., -0.04 , -0.04 , -0.04 ],\n",
       "       ...,\n",
       "       [ 0.09 ,  0.09 ,  0.09 , ..., -0.055, -0.055, -0.055],\n",
       "       [-0.045, -0.045, -0.045, ...,  0.07 ,  0.07 ,  0.07 ],\n",
       "       [-0.05 , -0.05 , -0.05 , ..., -0.07 , -0.07 , -0.07 ]],\n",
       "      dtype=float32)"
      ]
     },
     "execution_count": 4,
     "metadata": {},
     "output_type": "execute_result"
    }
   ],
   "source": [
    "lead1_signals = np.load('./ptb-xl/ptb-xl/lead1.npy')\n",
    "lead1_signals"
   ]
  },
  {
   "cell_type": "code",
   "execution_count": 6,
   "metadata": {},
   "outputs": [
    {
     "data": {
      "text/plain": [
       "array([[ 2.161e-02,  2.161e-02,  2.080e-02, ...,  5.759e-02,  5.521e-02,\n",
       "         5.042e-02],\n",
       "       [-5.521e-02, -5.359e-02, -5.441e-02, ..., -5.521e-02, -5.679e-02,\n",
       "        -5.759e-02],\n",
       "       [ 0.000e+00,  4.002e-03, -4.002e-03, ...,  0.000e+00, -4.799e-03,\n",
       "        -8.003e-03],\n",
       "       ...,\n",
       "       [ 2.560e-02,  2.080e-02,  1.759e-02, ..., -2.240e-02, -2.319e-02,\n",
       "        -2.000e-02],\n",
       "       [-6.401e-03,  8.001e-04,  1.040e-02, ...,  4.905e-01,  6.846e-01,\n",
       "         8.618e-01],\n",
       "       [-5.521e-02, -5.600e-02, -5.679e-02, ..., -3.760e-02, -3.680e-02,\n",
       "        -3.519e-02]], dtype=float16)"
      ]
     },
     "execution_count": 6,
     "metadata": {},
     "output_type": "execute_result"
    }
   ],
   "source": [
    "lead1_signals_sph = np.load('./ptb-xl/ptb-xl/lead1_sph.npy')\n",
    "lead1_signals_sph"
   ]
  },
  {
   "cell_type": "code",
   "execution_count": null,
   "metadata": {},
   "outputs": [],
   "source": []
  }
 ],
 "metadata": {
  "kernelspec": {
   "display_name": "Python 3",
   "language": "python",
   "name": "python3"
  },
  "language_info": {
   "codemirror_mode": {
    "name": "ipython",
    "version": 3
   },
   "file_extension": ".py",
   "mimetype": "text/x-python",
   "name": "python",
   "nbconvert_exporter": "python",
   "pygments_lexer": "ipython3",
   "version": "3.11.2"
  }
 },
 "nbformat": 4,
 "nbformat_minor": 2
}
